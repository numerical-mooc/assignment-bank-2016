{
 "cells": [
  {
   "cell_type": "code",
   "execution_count": 1,
   "metadata": {
    "collapsed": false
   },
   "outputs": [
    {
     "name": "stdout",
     "output_type": "stream",
     "text": [
      "Hello World\n"
     ]
    }
   ],
   "source": [
    "print('Hello World')"
   ]
  },
  {
   "cell_type": "markdown",
   "metadata": {
    "collapsed": true
   },
   "source": [
    "**Continuity:**\n",
    "\n",
    "\\begin{equation}\n",
    "\\frac{\\partial (\\rho A)}{\\partial t} + \\rho A \\frac{\\partial V}{\\partial x} + \\rho V \\frac{\\partial A}{\\partial x} + V A \\frac{\\partial \\rho}{\\partial x} = 0\n",
    "\\end{equation}\n",
    "\n",
    "**Momentum:**\n",
    "\n",
    "\\begin{equation}\n",
    "\\rho \\frac{\\partial V}{\\partial t} + \\rho V \\frac{\\partial V}{\\partial x} = -R \\bigg( \\rho \\frac{\\partial T}{\\partial x} + T \\frac{\\partial \\rho}{\\partial x} \\bigg)\n",
    "\\end{equation}\n",
    "\n",
    "**Energy:**\n",
    "\n",
    "\\begin{equation}\n",
    "\\rho c_{\\nu} \\frac{\\partial T}{\\partial t} + \\rho V c_{\\nu} \\frac{\\partial T}{\\partial x} = - \\rho R T \\bigg[ \\frac{\\partial V}{\\partial x} + V \\frac{\\partial (\\ln A)}{\\partial x} \\bigg]\n",
    "\\end{equation}"
   ]
  },
  {
   "cell_type": "markdown",
   "metadata": {
    "collapsed": true
   },
   "source": [
    "### Nondimensional Variables"
   ]
  },
  {
   "cell_type": "markdown",
   "metadata": {},
   "source": [
    "Anderson notes that as a matter of convention, nondimensional variables are generally used for analysis of flow in a nozzle. Accordingly, we introduce the appropriate nondimensional variables. Later they will be substituted into the governing equations above (Equations **7.42**, **7.43**, and **7.44** in Anderson's reference).\n",
    "\n",
    "Temperature $\\boldsymbol{T}$ relates to the nondimensional $\\boldsymbol{T'}$.\n",
    "\\begin{equation}\n",
    "T' = \\frac{T}{T_0}\n",
    "\\end{equation}\n",
    "\n",
    "Density $\\boldsymbol{\\rho}$ relates to the nondimensional $\\boldsymbol{\\rho'}$.\n",
    "\\begin{equation}\n",
    "\\rho' = \\frac{\\rho}{\\rho_0}\n",
    "\\end{equation}\n",
    "\n",
    "Position $\\boldsymbol{x}$ relates to the nondimensional $\\boldsymbol{x'}$.\n",
    "\\begin{equation}\n",
    "x' = \\frac{x}{L}\n",
    "\\end{equation}\n",
    "\n",
    "The speed of sound in the reservoir is denoted $\\boldsymbol{a_0}$.\n",
    "\\begin{equation}\n",
    "a_0 = \\sqrt{\\gamma R T_0}\n",
    "\\end{equation}\n",
    "\n",
    "Velocity $\\boldsymbol{V}$ relates to the nondimensional $\\boldsymbol{V'}$.\n",
    "\\begin{equation}\n",
    "V' = \\frac{V}{a_0}\n",
    "\\end{equation}\n",
    "\n",
    "Time $\\boldsymbol{t}$ relates to the nondimensional $\\boldsymbol{t'}$.\n",
    "\\begin{equation}\n",
    "t' = \\frac{t}{\\frac{L}{a_0}}\n",
    "\\end{equation}\n",
    "\n",
    "Area $\\boldsymbol{A}$ relates to the nondimensional $\\boldsymbol{A'}$.\n",
    "\\begin{equation}\n",
    "A' = \\frac{A}{A^*}\n",
    "\\end{equation}"
   ]
  },
  {
   "cell_type": "markdown",
   "metadata": {
    "collapsed": true
   },
   "source": [
    "### Governing Equations with Nondimensional Variables"
   ]
  },
  {
   "cell_type": "markdown",
   "metadata": {},
   "source": [
    "The nondimensional variables are substituted into the governing equations above (Equations **7.42**, **7.43**, and **7.44** in Anderson's reference). The equations are simplified, and the result is a new set of governing equations that use just the nondimensional variables.\n",
    "\n",
    "**Continuity:**\n",
    "\n",
    "\\begin{equation}\n",
    "\\frac{\\partial \\rho'}{\\partial t'} = -\\rho' \\frac{\\partial V'}{\\partial x'} - \\rho' V' \\frac{\\partial (\\ln A')}{\\partial x'} - V' \\frac{\\partial \\rho'}{\\partial x'}\n",
    "\\end{equation}\n",
    "\n",
    "**Momentum:**\n",
    "\n",
    "\\begin{equation}\n",
    "\\frac{\\partial V'}{\\partial t'} = -V' \\frac{\\partial V'}{\\partial x'} - \\frac{1}{\\gamma} \\bigg( \\frac{\\partial T'}{\\partial x'} + \\frac{T'}{\\rho'} \\frac{\\partial \\rho'}{\\partial x'} \\bigg)\n",
    "\\end{equation}\n",
    "\n",
    "**Energy:**\n",
    "\n",
    "\\begin{equation}\n",
    "\\frac{\\partial T'}{\\partial t'} = -V' \\frac{\\partial T'}{\\partial x'} - (\\gamma - 1) T' \\bigg[ \\frac{\\partial V'}{\\partial x'} + V' \\frac{\\partial (\\ln A')}{\\partial x'} \\bigg]\n",
    "\\end{equation}\n",
    "\n",
    "In Anderson's reference, these are Equations **7.46**, **7.48**, and **7.50**."
   ]
  },
  {
   "cell_type": "markdown",
   "metadata": {
    "collapsed": true
   },
   "source": [
    "## Numerical Solution of the Governing Equations using MacCormack's Method"
   ]
  },
  {
   "cell_type": "markdown",
   "metadata": {
    "collapsed": true
   },
   "source": [
    "Our approach begins with discretization of the space inside the nozzle into a grid of points. Recall that the governing equations were derived with the assumption of uniform flow properties (density, velocity, temperature, etc.) across any given cross section of the nozzle. Therefore, the grid is simply a line a points."
   ]
  },
  {
   "cell_type": "markdown",
   "metadata": {},
   "source": [
    "<img src='discretization.png'>"
   ]
  },
  {
   "cell_type": "markdown",
   "metadata": {},
   "source": [
    "The figure above depicts the discretization. **Point 1** corresponds to the reservoir, and **Point N** corresponds to the nozzle exit. The grid points are evenly spaced, with a distance $\\boldsymbol{\\Delta x}$ between points.\n",
    "\n",
    "This figure corresponds to **Figure 7.5** in Anderson's reference."
   ]
  },
  {
   "cell_type": "markdown",
   "metadata": {
    "collapsed": true
   },
   "source": [
    "### MacCormack's Method: Predictor Step"
   ]
  },
  {
   "cell_type": "markdown",
   "metadata": {},
   "source": [
    "The spatial derivatives in the governing equations are replaced with forward differences.\n",
    "\n",
    "**Note:** For simplicity, we no longer use the prime notation for nondimensional variables. It is understood that all of the variables are nondimensional.\n",
    "\n",
    "\\begin{equation}\n",
    "\\bigg( \\frac{\\partial \\rho}{\\partial t} \\bigg)^t_i = -\\rho^t_i \\ \\frac{V^t_{i+1} - V^t_i}{\\Delta x} - \\rho^t_i \\ V^t_i \\ \\frac{\\ln A_{i+1} - \\ln A_i}{\\Delta x} - V^t_i \\ \\frac{\\rho^t_{i+1} - \\rho^t_i}{\\Delta x}\n",
    "\\end{equation}\n",
    "\n",
    "\\begin{equation}\n",
    "\\bigg( \\frac{\\partial V}{\\partial t} \\bigg)^t_i = -V^t_i \\ \\frac{V^t_{i+1} - V^t_i}{\\Delta x} - \\frac{1}{\\gamma} \\bigg( \\frac{T^t_{i+1} - T^t_i}{\\Delta x} + \\frac{T^t_i}{\\rho^t_i} \\ \\frac{\\rho^t_{i+1} - \\rho^t_i}{\\Delta x} \\bigg)\n",
    "\\end{equation}\n",
    "\n",
    "\\begin{equation}\n",
    "\\bigg( \\frac{\\partial T}{\\partial t} \\bigg)^t_i = -V^t_i \\ \\frac{T^t_{i+1} - T^t_i}{\\Delta x} - (\\gamma - 1) T^t_i \\bigg( \\frac{V^t_{i+1} - V^t_i}{\\Delta x} + V^t_i \\ \\frac{\\ln A_{i+1} - \\ln A_i}{\\Delta x} \\bigg)\n",
    "\\end{equation}\n",
    "\n",
    "In Anderson's reference, these are equations **7.51**, **7.52**, and **7.53**.\n",
    "\n",
    "Predicted values of $\\boldsymbol{\\rho}$, $\\boldsymbol{V}$, and $\\boldsymbol{T}$ are denoted $\\boldsymbol{\\overline{\\rho}}$, $\\boldsymbol{\\overline{V}}$, and $\\boldsymbol{\\overline{T}}$.\n",
    "\n",
    "\\begin{equation}\n",
    "\\overline{\\rho}^{\\ t+\\Delta t}_{\\ i} = \\rho^t_i + \\bigg( \\frac{\\partial \\rho}{\\partial t} \\bigg)^t_i \\ \\Delta t\n",
    "\\end{equation}\n",
    "\n",
    "\\begin{equation}\n",
    "\\overline{V}^{\\ t+\\Delta t}_{\\ i} = V^t_i + \\bigg( \\frac{\\partial V}{\\partial t} \\bigg)^t_i \\ \\Delta t\n",
    "\\end{equation}\n",
    "\n",
    "\\begin{equation}\n",
    "\\overline{T}^{\\ t+\\Delta t}_{\\ i} = T^t_i + \\bigg( \\frac{\\partial T}{\\partial t} \\bigg)^t_i \\ \\Delta t\n",
    "\\end{equation}\n",
    "\n",
    "In Anderson's reference, these are equations **7.54**, **7.55**, and **7.56**."
   ]
  },
  {
   "cell_type": "markdown",
   "metadata": {
    "collapsed": true
   },
   "source": [
    "### MacCormack's Method: Corrector Step"
   ]
  },
  {
   "cell_type": "markdown",
   "metadata": {},
   "source": [
    "The spatial derivatives in the governing equations are replaced with backward differences. The predicted values $\\boldsymbol{\\overline{\\rho}}$, $\\boldsymbol{\\overline{V}}$, and $\\boldsymbol{\\overline{T}}$ are used in the equations.\n",
    "\n",
    "\\begin{equation}\n",
    "\\bigg( \\frac{\\partial\\overline{\\rho}}{\\partial t} \\bigg)^{t+\\Delta t}_i = -\\overline{\\rho}^{\\ t+\\Delta t}_{\\ i} \\ \\frac{\\overline{V}^{\\ t+\\Delta t}_{\\ i} - \\overline{V}^{\\ t+\\Delta t}_{\\ i-1}}{\\Delta x} - \\overline{\\rho}^{\\ t+\\Delta t}_{\\ i} \\ \\overline{V}^{\\ t+\\Delta t}_{\\ i} \\ \\frac{\\ln A_i - \\ln A_{i-1}}{\\Delta x} - \\overline{V}^{\\ t+\\Delta t}_{\\ i} \\ \\frac{\\overline{\\rho}^{\\ t+\\Delta t}_{\\ i} - \\overline{\\rho}^{\\ t+\\Delta t}_{\\ i-1}}{\\Delta x}\n",
    "\\end{equation}\n",
    "\n",
    "\\begin{equation}\n",
    "\\bigg( \\frac{\\partial\\overline{V}}{\\partial t} \\bigg)^{t+\\Delta t}_i = -\\overline{V}^{\\ t+\\Delta t}_{\\ i} \\ \\frac{\\overline{V}^{\\ t+\\Delta t}_{\\ i} - \\overline{V}^{\\ t+\\Delta t}_{\\ i-1}}{\\Delta x} - \\frac{1}{\\gamma} \\bigg( \\frac{\\overline{T}^{\\ t+\\Delta t}_{\\ i} - \\overline{T}^{\\ t+\\Delta t}_{\\ i-1}}{\\Delta x} + \\frac{\\overline{T}^{\\ t+\\Delta t}_{\\ i}}{\\overline{\\rho}^{\\ t+\\Delta t}_{\\ i}} \\ \\frac{\\overline{\\rho}^{\\ t+\\Delta t}_{\\ i} - \\overline{\\rho}^{\\ t+\\Delta t}_{\\ i-1}}{\\Delta x} \\bigg)\n",
    "\\end{equation}\n",
    "\n",
    "\\begin{equation}\n",
    "\\bigg( \\frac{\\partial\\overline{T}}{\\partial t} \\bigg)^{t+\\Delta t}_i = -\\overline{V}^{\\ t+\\Delta t}_{\\ i} \\ \\frac{\\overline{T}^{\\ t+\\Delta t}_{\\ i} - \\overline{T}^{\\ t+\\Delta t}_{\\ i-1}}{\\Delta x} - (\\gamma - 1) \\  \\overline{T}^{\\ t+\\Delta t}_{\\ i} \\bigg( \\frac{\\overline{V}^{\\ t+\\Delta t}_{\\ i} - \\overline{V}^{\\ t+\\Delta t}_{\\ i-1}}{\\Delta x} + \\overline{V}^{\\ t+\\Delta t}_{\\ i} \\ \\frac{\\ln A_i - \\ln A_{i-1}}{\\Delta x} \\bigg)\n",
    "\\end{equation}\n",
    "\n",
    "In Anderson's reference, these are equations **7.57**, **7.58**, and **7.59**.\n",
    "\n",
    "The time derivatives in the predictor step are averaged with the time derivatives in the corrector step.\n",
    "\n",
    "\\begin{equation}\n",
    "\\bigg( \\frac{\\partial \\rho}{\\partial t} \\bigg)_{av} = \\frac{1}{2} \\ \\bigg[ \\bigg( \\frac{\\partial \\rho}{\\partial t} \\bigg)^t_i + \\bigg( \\frac{\\partial\\overline{\\rho}}{\\partial t} \\bigg)^{t+\\Delta t}_i \\bigg]\n",
    "\\end{equation}\n",
    "\n",
    "\\begin{equation}\n",
    "\\bigg( \\frac{\\partial V}{\\partial t} \\bigg)_{av} = \\frac{1}{2} \\ \\bigg[ \\bigg( \\frac{\\partial V}{\\partial t} \\bigg)^t_i + \\bigg( \\frac{\\partial\\overline{V}}{\\partial t} \\bigg)^{t+\\Delta t}_i \\bigg]\n",
    "\\end{equation}\n",
    "\n",
    "\\begin{equation}\n",
    "\\bigg( \\frac{\\partial T}{\\partial t} \\bigg)_{av} = \\frac{1}{2} \\ \\bigg[ \\bigg( \\frac{\\partial T}{\\partial t} \\bigg)^t_i + \\bigg( \\frac{\\partial\\overline{T}}{\\partial t} \\bigg)^{t+\\Delta t}_i \\bigg]\n",
    "\\end{equation}\n",
    "\n",
    "In Anderson's reference, these are equations **7.60**, **7.61**, and **7.62**.\n",
    "\n",
    "Finally, $\\boldsymbol{\\rho}$, $\\boldsymbol{V}$, and $\\boldsymbol{T}$ are found at $\\boldsymbol{t+\\Delta t}$.\n",
    "\n",
    "\\begin{equation}\n",
    "\\rho^{t+\\Delta t}_i = \\rho^t_i + \\bigg( \\frac{\\partial \\rho}{\\partial t} \\bigg)_{av} \\Delta t\n",
    "\\end{equation}\n",
    "\n",
    "\\begin{equation}\n",
    "V^{t+\\Delta t}_i = V^t_i + \\bigg( \\frac{\\partial V}{\\partial t} \\bigg)_{av} \\Delta t\n",
    "\\end{equation}\n",
    "\n",
    "\\begin{equation}\n",
    "T^{t+\\Delta t}_i = T^t_i + \\bigg( \\frac{\\partial T}{\\partial t} \\bigg)_{av} \\Delta t\n",
    "\\end{equation}\n",
    "\n",
    "In Anderson's reference, these are equations **7.63**, **7.64**, and **7.65**."
   ]
  },
  {
   "cell_type": "markdown",
   "metadata": {
    "collapsed": true
   },
   "source": [
    "### Time Step"
   ]
  },
  {
   "cell_type": "markdown",
   "metadata": {},
   "source": [
    "For stability, we use the following equation to determine $\\boldsymbol{\\Delta t}$.\n",
    "\n",
    "\\begin{equation}\n",
    "\\Delta t = C \\ \\frac{\\Delta x}{a + V}\n",
    "\\end{equation}\n",
    "\n",
    "Note that we are still using all nondimensional variables. $\\boldsymbol{C}$ is the Courant number, and we use $\\boldsymbol{C = 0.5}$.\n",
    "\n",
    "At **time** $\\boldsymbol{t}$ and **grid point** $\\boldsymbol{i}$, we compute $\\boldsymbol{\\Delta t^t_i}$.\n",
    "\n",
    "\\begin{equation}\n",
    "\\Delta t^t_i = C \\ \\frac{\\Delta x}{a^t_i + V^t_i}\n",
    "\\end{equation}\n",
    "\n",
    "At **time** $\\boldsymbol{t}$, a different value of $\\boldsymbol{\\Delta t^t_i}$ can be computed at each grid point. Therefore, we use the minimum across all grid points.\n",
    "\n",
    "\\begin{equation}\n",
    "\\Delta t^t = minimum(\\Delta t^t_1, \\Delta t^t_2,..., \\Delta t^t_i,..., \\Delta t^t_N)\n",
    "\\end{equation}\n",
    "\n",
    "In Anderson's reference, these are equations **7.66**, **7.67**, and **7.69**."
   ]
  },
  {
   "cell_type": "code",
   "execution_count": null,
   "metadata": {
    "collapsed": true
   },
   "outputs": [],
   "source": []
  }
 ],
 "metadata": {
  "anaconda-cloud": {},
  "kernelspec": {
   "display_name": "Python [Root]",
   "language": "python",
   "name": "Python [Root]"
  },
  "language_info": {
   "codemirror_mode": {
    "name": "ipython",
    "version": 3
   },
   "file_extension": ".py",
   "mimetype": "text/x-python",
   "name": "python",
   "nbconvert_exporter": "python",
   "pygments_lexer": "ipython3",
   "version": "3.5.2"
  }
 },
 "nbformat": 4,
 "nbformat_minor": 0
}
