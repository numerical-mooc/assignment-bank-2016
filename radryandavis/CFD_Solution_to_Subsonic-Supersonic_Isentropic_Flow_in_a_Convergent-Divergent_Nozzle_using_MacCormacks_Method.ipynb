{
 "cells": [
  {
   "cell_type": "code",
   "execution_count": 1,
   "metadata": {
    "collapsed": false
   },
   "outputs": [
    {
     "name": "stdout",
     "output_type": "stream",
     "text": [
      "Hello World\n"
     ]
    }
   ],
   "source": [
    "print('Hello World')"
   ]
  },
  {
   "cell_type": "markdown",
   "metadata": {
    "collapsed": true
   },
   "source": [
    "**Continuity:**\n",
    "\n",
    "\\begin{equation}\n",
    "\\frac{\\partial (\\rho A)}{\\partial t} + \\rho A \\frac{\\partial V}{\\partial x} + \\rho V \\frac{\\partial A}{\\partial x} + V A \\frac{\\partial \\rho}{\\partial x} = 0\n",
    "\\end{equation}\n",
    "\n",
    "**Momentum:**\n",
    "\n",
    "\\begin{equation}\n",
    "\\rho \\frac{\\partial V}{\\partial t} + \\rho V \\frac{\\partial V}{\\partial x} = -R \\bigg( \\rho \\frac{\\partial T}{\\partial x} + T \\frac{\\partial \\rho}{\\partial x} \\bigg)\n",
    "\\end{equation}\n",
    "\n",
    "**Energy:**\n",
    "\n",
    "\\begin{equation}\n",
    "\\rho c_{\\nu} \\frac{\\partial T}{\\partial t} + \\rho V c_{\\nu} \\frac{\\partial T}{\\partial x} = - \\rho R T \\bigg[ \\frac{\\partial V}{\\partial x} + V \\frac{\\partial (\\ln A)}{\\partial x} \\bigg]\n",
    "\\end{equation}"
   ]
  },
  {
   "cell_type": "code",
   "execution_count": null,
   "metadata": {
    "collapsed": true
   },
   "outputs": [],
   "source": []
  }
 ],
 "metadata": {
  "anaconda-cloud": {},
  "kernelspec": {
   "display_name": "Python [Root]",
   "language": "python",
   "name": "Python [Root]"
  },
  "language_info": {
   "codemirror_mode": {
    "name": "ipython",
    "version": 3
   },
   "file_extension": ".py",
   "mimetype": "text/x-python",
   "name": "python",
   "nbconvert_exporter": "python",
   "pygments_lexer": "ipython3",
   "version": "3.5.2"
  }
 },
 "nbformat": 4,
 "nbformat_minor": 0
}
