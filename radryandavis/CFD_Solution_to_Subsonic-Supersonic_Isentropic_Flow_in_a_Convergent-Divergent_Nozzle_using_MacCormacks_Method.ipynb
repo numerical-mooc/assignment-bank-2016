{
 "cells": [
  {
   "cell_type": "code",
   "execution_count": 1,
   "metadata": {
    "collapsed": false
   },
   "outputs": [
    {
     "name": "stdout",
     "output_type": "stream",
     "text": [
      "Hello World\n"
     ]
    }
   ],
   "source": [
    "print('Hello World')"
   ]
  },
  {
   "cell_type": "markdown",
   "metadata": {
    "collapsed": true
   },
   "source": [
    "**Continuity:**\n",
    "\n",
    "\\begin{equation}\n",
    "\\frac{\\partial (\\rho A)}{\\partial t} + \\rho A \\frac{\\partial V}{\\partial x} + \\rho V \\frac{\\partial A}{\\partial x} + V A \\frac{\\partial \\rho}{\\partial x} = 0\n",
    "\\end{equation}\n",
    "\n",
    "**Momentum:**\n",
    "\n",
    "\\begin{equation}\n",
    "\\rho \\frac{\\partial V}{\\partial t} + \\rho V \\frac{\\partial V}{\\partial x} = -R \\bigg( \\rho \\frac{\\partial T}{\\partial x} + T \\frac{\\partial \\rho}{\\partial x} \\bigg)\n",
    "\\end{equation}\n",
    "\n",
    "**Energy:**\n",
    "\n",
    "\\begin{equation}\n",
    "\\rho c_{\\nu} \\frac{\\partial T}{\\partial t} + \\rho V c_{\\nu} \\frac{\\partial T}{\\partial x} = - \\rho R T \\bigg[ \\frac{\\partial V}{\\partial x} + V \\frac{\\partial (\\ln A)}{\\partial x} \\bigg]\n",
    "\\end{equation}"
   ]
  },
  {
   "cell_type": "markdown",
   "metadata": {
    "collapsed": true
   },
   "source": [
    "### Nondimensional Variables"
   ]
  },
  {
   "cell_type": "markdown",
   "metadata": {},
   "source": [
    "Anderson notes that as a matter of convention, nondimensional variables are generally preferred for analysis of flow in a nozzle. First, the appropriate nondimensional variables are introduced. Later they will be substituted into the governing equations above (Equations 7.42, 7.43, and 7.44 in Anderson's reference).\n",
    "\n",
    "Temperature $\\boldsymbol{T}$ relates to the nondimensional $\\boldsymbol{T'}$.\n",
    "\\begin{equation}\n",
    "T' = \\frac{T}{T_0}\n",
    "\\end{equation}\n",
    "\n",
    "Density $\\boldsymbol{\\rho}$ relates to the nondimensional $\\boldsymbol{\\rho'}$.\n",
    "\\begin{equation}\n",
    "\\rho' = \\frac{\\rho}{\\rho_0}\n",
    "\\end{equation}\n",
    "\n",
    "Position $\\boldsymbol{x}$ relates to the nondimensional $\\boldsymbol{x'}$.\n",
    "\\begin{equation}\n",
    "x' = \\frac{x}{L}\n",
    "\\end{equation}\n",
    "\n",
    "The speed of sound in the reservoir is denoted $\\boldsymbol{a_0}$.\n",
    "\\begin{equation}\n",
    "a_0 = \\sqrt{\\gamma R T_0}\n",
    "\\end{equation}\n",
    "\n",
    "Velocity $\\boldsymbol{V}$ relates to the nondimensional $\\boldsymbol{V'}$.\n",
    "\\begin{equation}\n",
    "V' = \\frac{V}{a_0}\n",
    "\\end{equation}\n",
    "\n",
    "Time $\\boldsymbol{t}$ relates to the nondimensional $\\boldsymbol{t'}$.\n",
    "\\begin{equation}\n",
    "t' = \\frac{t}{\\frac{L}{a_0}}\n",
    "\\end{equation}\n",
    "\n",
    "Area $\\boldsymbol{A}$ relates to the nondimensional $\\boldsymbol{A'}$.\n",
    "\\begin{equation}\n",
    "A' = \\frac{A}{A^*}\n",
    "\\end{equation}"
   ]
  },
  {
   "cell_type": "code",
   "execution_count": null,
   "metadata": {
    "collapsed": true
   },
   "outputs": [],
   "source": []
  }
 ],
 "metadata": {
  "anaconda-cloud": {},
  "kernelspec": {
   "display_name": "Python [Root]",
   "language": "python",
   "name": "Python [Root]"
  },
  "language_info": {
   "codemirror_mode": {
    "name": "ipython",
    "version": 3
   },
   "file_extension": ".py",
   "mimetype": "text/x-python",
   "name": "python",
   "nbconvert_exporter": "python",
   "pygments_lexer": "ipython3",
   "version": "3.5.2"
  }
 },
 "nbformat": 4,
 "nbformat_minor": 0
}
