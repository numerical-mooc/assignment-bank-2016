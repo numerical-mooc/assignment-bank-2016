{
 "cells": [
  {
   "cell_type": "code",
   "execution_count": 1,
   "metadata": {
    "collapsed": false
   },
   "outputs": [
    {
     "name": "stdout",
     "output_type": "stream",
     "text": [
      "Hello World\n"
     ]
    }
   ],
   "source": [
    "print('Hello World')"
   ]
  },
  {
   "cell_type": "markdown",
   "metadata": {
    "collapsed": true
   },
   "source": [
    "**Continuity:**\n",
    "\n",
    "\\begin{equation}\n",
    "\\frac{\\partial (\\rho A)}{\\partial t} + \\rho A \\frac{\\partial V}{\\partial x} + \\rho V \\frac{\\partial A}{\\partial x} + V A \\frac{\\partial \\rho}{\\partial x} = 0\n",
    "\\end{equation}\n",
    "\n",
    "**Momentum:**\n",
    "\n",
    "\\begin{equation}\n",
    "\\rho \\frac{\\partial V}{\\partial t} + \\rho V \\frac{\\partial V}{\\partial x} = -R \\bigg( \\rho \\frac{\\partial T}{\\partial x} + T \\frac{\\partial \\rho}{\\partial x} \\bigg)\n",
    "\\end{equation}\n",
    "\n",
    "**Energy:**\n",
    "\n",
    "\\begin{equation}\n",
    "\\rho c_{\\nu} \\frac{\\partial T}{\\partial t} + \\rho V c_{\\nu} \\frac{\\partial T}{\\partial x} = - \\rho R T \\bigg[ \\frac{\\partial V}{\\partial x} + V \\frac{\\partial (\\ln A)}{\\partial x} \\bigg]\n",
    "\\end{equation}"
   ]
  },
  {
   "cell_type": "markdown",
   "metadata": {
    "collapsed": true
   },
   "source": [
    "### Nondimensional Variables"
   ]
  },
  {
   "cell_type": "markdown",
   "metadata": {},
   "source": [
    "Anderson notes that as a matter of convention, nondimensional variables are generally used for analysis of flow in a nozzle. Accordingly, we introduce the appropriate nondimensional variables. Later they will be substituted into the governing equations above (Equations **7.42**, **7.43**, and **7.44** in Anderson's reference).\n",
    "\n",
    "Temperature $\\boldsymbol{T}$ relates to the nondimensional $\\boldsymbol{T'}$.\n",
    "\\begin{equation}\n",
    "T' = \\frac{T}{T_0}\n",
    "\\end{equation}\n",
    "\n",
    "Density $\\boldsymbol{\\rho}$ relates to the nondimensional $\\boldsymbol{\\rho'}$.\n",
    "\\begin{equation}\n",
    "\\rho' = \\frac{\\rho}{\\rho_0}\n",
    "\\end{equation}\n",
    "\n",
    "Position $\\boldsymbol{x}$ relates to the nondimensional $\\boldsymbol{x'}$.\n",
    "\\begin{equation}\n",
    "x' = \\frac{x}{L}\n",
    "\\end{equation}\n",
    "\n",
    "The speed of sound in the reservoir is denoted $\\boldsymbol{a_0}$.\n",
    "\\begin{equation}\n",
    "a_0 = \\sqrt{\\gamma R T_0}\n",
    "\\end{equation}\n",
    "\n",
    "Velocity $\\boldsymbol{V}$ relates to the nondimensional $\\boldsymbol{V'}$.\n",
    "\\begin{equation}\n",
    "V' = \\frac{V}{a_0}\n",
    "\\end{equation}\n",
    "\n",
    "Time $\\boldsymbol{t}$ relates to the nondimensional $\\boldsymbol{t'}$.\n",
    "\\begin{equation}\n",
    "t' = \\frac{t}{\\frac{L}{a_0}}\n",
    "\\end{equation}\n",
    "\n",
    "Area $\\boldsymbol{A}$ relates to the nondimensional $\\boldsymbol{A'}$.\n",
    "\\begin{equation}\n",
    "A' = \\frac{A}{A^*}\n",
    "\\end{equation}"
   ]
  },
  {
   "cell_type": "markdown",
   "metadata": {
    "collapsed": true
   },
   "source": [
    "### Governing Equations with Nondimensional Variables"
   ]
  },
  {
   "cell_type": "markdown",
   "metadata": {},
   "source": [
    "The nondimensional variables are substituted into the governing equations above (Equations **7.42**, **7.43**, and **7.44** in Anderson's reference). The equations are simplified, and the result is a new set of governing equations that use just the nondimensional variables.\n",
    "\n",
    "**Continuity:**\n",
    "\n",
    "\\begin{equation}\n",
    "\\frac{\\partial \\rho'}{\\partial t'} = -\\rho' \\frac{\\partial V'}{\\partial x'} - \\rho' V' \\frac{\\partial (\\ln A')}{\\partial x'} - V' \\frac{\\partial \\rho'}{\\partial x'}\n",
    "\\end{equation}\n",
    "\n",
    "**Momentum:**\n",
    "\n",
    "\\begin{equation}\n",
    "\\frac{\\partial V'}{\\partial t'} = -V' \\frac{\\partial V'}{\\partial x'} - \\frac{1}{\\gamma} \\bigg( \\frac{\\partial T'}{\\partial x'} + \\frac{T'}{\\rho'} \\frac{\\partial \\rho'}{\\partial x'} \\bigg)\n",
    "\\end{equation}\n",
    "\n",
    "**Energy:**\n",
    "\n",
    "\\begin{equation}\n",
    "\\frac{\\partial T'}{\\partial t'} = -V' \\frac{\\partial T'}{\\partial x'} - (\\gamma - 1) T' \\bigg[ \\frac{\\partial V'}{\\partial x'} + V' \\frac{\\partial (\\ln A')}{\\partial x'} \\bigg]\n",
    "\\end{equation}\n",
    "\n",
    "In Anderson's reference, these are Equations **7.46**, **7.48**, and **7.50**."
   ]
  },
  {
   "cell_type": "markdown",
   "metadata": {
    "collapsed": true
   },
   "source": [
    "## Numerical Solution of the Governing Equations using MacCormack's Method"
   ]
  },
  {
   "cell_type": "markdown",
   "metadata": {
    "collapsed": true
   },
   "source": [
    "Our approach begins with discretization of the space inside the nozzle into a grid of points. Recall that the governing equations were derived with the assumption of uniform flow properties (density, velocity, temperature, etc.) across any given cross section of the nozzle. Therefore, the grid is simply a line a points."
   ]
  },
  {
   "cell_type": "markdown",
   "metadata": {},
   "source": [
    "<img src='discretization.png'>"
   ]
  },
  {
   "cell_type": "markdown",
   "metadata": {},
   "source": [
    "The figure above depicts the discretization. **Point 1** corresponds to the reservoir, and **Point N** corresponds to the nozzle exit. The grid points are evenly spaced, with a distance $\\boldsymbol{\\Delta x}$ between points.\n",
    "\n",
    "This figure corresponds to **Figure 7.5** in Anderson's reference."
   ]
  },
  {
   "cell_type": "markdown",
   "metadata": {
    "collapsed": true
   },
   "source": [
    "### MacCormack's Method: Predictor Step"
   ]
  },
  {
   "cell_type": "markdown",
   "metadata": {},
   "source": [
    "The spatial derivatives in the governing equations are replaced with forward differences.\n",
    "\n",
    "**Note:** For simplicity, we no longer use the prime notation for nondimensional variables. It is understood that all of the variables are nondimensional.\n",
    "\n",
    "\\begin{equation}\n",
    "\\bigg( \\frac{\\partial \\rho}{\\partial t} \\bigg)^t_i = -\\rho^t_i \\ \\frac{V^t_{i+1} - V^t_i}{\\Delta x} - \\rho^t_i \\ V^t_i \\ \\frac{\\ln A_{i+1} - \\ln A_i}{\\Delta x} - V^t_i \\ \\frac{\\rho^t_{i+1} - \\rho^t_i}{\\Delta x}\n",
    "\\end{equation}\n",
    " \n",
    "\\begin{equation}\n",
    "\\bigg( \\frac{\\partial V}{\\partial t} \\bigg)^t_i = -V^t_i \\ \\frac{V^t_{i+1} - V^t_i}{\\Delta x} - \\frac{1}{\\gamma} \\bigg( \\frac{T^t_{i+1} - T^t_i}{\\Delta x} + \\frac{T^t_i}{\\rho^t_i} \\ \\frac{\\rho^t_{i+1} - \\rho^t_i}{\\Delta x} \\bigg)\n",
    "\\end{equation}\n",
    " \n",
    "\\begin{equation}\n",
    "\\bigg( \\frac{\\partial T}{\\partial t} \\bigg)^t_i = -V^t_i \\ \\frac{T^t_{i+1} - T^t_i}{\\Delta x} - (\\gamma - 1) T^t_i \\bigg( \\frac{V^t_{i+1} - V^t_i}{\\Delta x} + V^t_i \\ \\frac{\\ln A_{i+1} - \\ln A_i}{\\Delta x} \\bigg)\n",
    "\\end{equation}\n",
    "\n",
    "In Anderson's reference, these are equations **7.51**, **7.52**, and **7.53**.\n",
    "\n",
    "Predicted values of $\\boldsymbol{\\rho}$, $\\boldsymbol{V}$, and $\\boldsymbol{T}$ are denoted $\\boldsymbol{\\overline{\\rho}}$, $\\boldsymbol{\\overline{V}}$, and $\\boldsymbol{\\overline{T}}$.\n",
    "\n",
    "\\begin{equation}\n",
    "\\overline{\\rho}^{\\ t+\\Delta t}_{\\ i} = \\rho^t_i + \\bigg( \\frac{\\partial \\rho}{\\partial t} \\bigg)^t_i \\ \\Delta t\n",
    "\\end{equation}\n",
    "\n",
    "\\begin{equation}\n",
    "\\overline{V}^{\\ t+\\Delta t}_{\\ i} = V^t_i + \\bigg( \\frac{\\partial V}{\\partial t} \\bigg)^t_i \\ \\Delta t\n",
    "\\end{equation}\n",
    "\n",
    "\\begin{equation}\n",
    "\\overline{T}^{\\ t+\\Delta t}_{\\ i} = T^t_i + \\bigg( \\frac{\\partial T}{\\partial t} \\bigg)^t_i \\ \\Delta t\n",
    "\\end{equation}\n",
    "\n",
    "In Anderson's reference, these are equations **7.54**, **7.55**, and **7.56**."
   ]
  },
  {
   "cell_type": "markdown",
   "metadata": {
    "collapsed": true
   },
   "source": [
    "### MacCormack's Method: Corrector Step"
   ]
  },
  {
   "cell_type": "markdown",
   "metadata": {},
   "source": [
    "The spatial derivatives in the governing equations are replaced with backward differences. The predicted values $\\boldsymbol{\\overline{\\rho}}$, $\\boldsymbol{\\overline{V}}$, and $\\boldsymbol{\\overline{T}}$ are used in the equations.\n",
    "\n",
    "\\begin{equation}\n",
    "\\bigg( \\frac{\\partial\\overline{\\rho}}{\\partial t} \\bigg)^{t+\\Delta t}_i = -\\overline{\\rho}^{\\ t+\\Delta t}_{\\ i} \\ \\frac{\\overline{V}^{\\ t+\\Delta t}_{\\ i} - \\overline{V}^{\\ t+\\Delta t}_{\\ i-1}}{\\Delta x} - \\overline{\\rho}^{\\ t+\\Delta t}_{\\ i} \\ \\overline{V}^{\\ t+\\Delta t}_{\\ i} \\ \\frac{\\ln A_i - \\ln A_{i-1}}{\\Delta x} - \\overline{V}^{\\ t+\\Delta t}_{\\ i} \\ \\frac{\\overline{\\rho}^{\\ t+\\Delta t}_{\\ i} - \\overline{\\rho}^{\\ t+\\Delta t}_{\\ i-1}}{\\Delta x}\n",
    "\\end{equation}\n",
    "\n",
    "\\begin{equation}\n",
    "\\bigg( \\frac{\\partial\\overline{V}}{\\partial t} \\bigg)^{t+\\Delta t}_i = -\\overline{V}^{\\ t+\\Delta t}_{\\ i} \\ \\frac{\\overline{V}^{\\ t+\\Delta t}_{\\ i} - \\overline{V}^{\\ t+\\Delta t}_{\\ i-1}}{\\Delta x} - \\frac{1}{\\gamma} \\bigg( \\frac{\\overline{T}^{\\ t+\\Delta t}_{\\ i} - \\overline{T}^{\\ t+\\Delta t}_{\\ i-1}}{\\Delta x} + \\frac{\\overline{T}^{\\ t+\\Delta t}_{\\ i}}{\\overline{\\rho}^{\\ t+\\Delta t}_{\\ i}} \\ \\frac{\\overline{\\rho}^{\\ t+\\Delta t}_{\\ i} - \\overline{\\rho}^{\\ t+\\Delta t}_{\\ i-1}}{\\Delta x} \\bigg)\n",
    "\\end{equation}\n",
    "\n",
    "\\begin{equation}\n",
    "\\bigg( \\frac{\\partial\\overline{T}}{\\partial t} \\bigg)^{t+\\Delta t}_i = -\\overline{V}^{\\ t+\\Delta t}_{\\ i} \\ \\frac{\\overline{T}^{\\ t+\\Delta t}_{\\ i} - \\overline{T}^{\\ t+\\Delta t}_{\\ i-1}}{\\Delta x} - (\\gamma - 1) \\  \\overline{T}^{\\ t+\\Delta t}_{\\ i} \\bigg( \\frac{\\overline{V}^{\\ t+\\Delta t}_{\\ i} - \\overline{V}^{\\ t+\\Delta t}_{\\ i-1}}{\\Delta x} + \\overline{V}^{\\ t+\\Delta t}_{\\ i} \\ \\frac{\\ln A_i - \\ln A_{i-1}}{\\Delta x} \\bigg)\n",
    "\\end{equation}\n",
    "\n",
    "In Anderson's reference, these are equations **7.57**, **7.58**, and **7.59**.\n",
    "\n",
    "The time derivatives in the predictor step are averaged with the time derivatives in the corrector step.\n",
    "\n",
    "\\begin{equation}\n",
    "\\bigg( \\frac{\\partial \\rho}{\\partial t} \\bigg)_{av} = \\frac{1}{2} \\ \\bigg[ \\bigg( \\frac{\\partial \\rho}{\\partial t} \\bigg)^t_i + \\bigg( \\frac{\\partial\\overline{\\rho}}{\\partial t} \\bigg)^{t+\\Delta t}_i \\bigg]\n",
    "\\end{equation}\n",
    "\n",
    "\\begin{equation}\n",
    "\\bigg( \\frac{\\partial V}{\\partial t} \\bigg)_{av} = \\frac{1}{2} \\ \\bigg[ \\bigg( \\frac{\\partial V}{\\partial t} \\bigg)^t_i + \\bigg( \\frac{\\partial\\overline{V}}{\\partial t} \\bigg)^{t+\\Delta t}_i \\bigg]\n",
    "\\end{equation}\n",
    "\n",
    "\\begin{equation}\n",
    "\\bigg( \\frac{\\partial T}{\\partial t} \\bigg)_{av} = \\frac{1}{2} \\ \\bigg[ \\bigg( \\frac{\\partial T}{\\partial t} \\bigg)^t_i + \\bigg( \\frac{\\partial\\overline{T}}{\\partial t} \\bigg)^{t+\\Delta t}_i \\bigg]\n",
    "\\end{equation}\n",
    "\n",
    "In Anderson's reference, these are equations **7.60**, **7.61**, and **7.62**.\n",
    "\n",
    "Finally, $\\boldsymbol{\\rho}$, $\\boldsymbol{V}$, and $\\boldsymbol{T}$ are found at $\\boldsymbol{t+\\Delta t}$.\n",
    "\n",
    "\\begin{equation}\n",
    "\\rho^{t+\\Delta t}_i = \\rho^t_i + \\bigg( \\frac{\\partial \\rho}{\\partial t} \\bigg)_{av} \\Delta t\n",
    "\\end{equation}\n",
    "\n",
    "\\begin{equation}\n",
    "V^{t+\\Delta t}_i = V^t_i + \\bigg( \\frac{\\partial V}{\\partial t} \\bigg)_{av} \\Delta t\n",
    "\\end{equation}\n",
    "\n",
    "\\begin{equation}\n",
    "T^{t+\\Delta t}_i = T^t_i + \\bigg( \\frac{\\partial T}{\\partial t} \\bigg)_{av} \\Delta t\n",
    "\\end{equation}\n",
    "\n",
    "In Anderson's reference, these are equations **7.63**, **7.64**, and **7.65**."
   ]
  },
  {
   "cell_type": "markdown",
   "metadata": {
    "collapsed": true
   },
   "source": [
    "### Time Step"
   ]
  },
  {
   "cell_type": "markdown",
   "metadata": {},
   "source": [
    "For stability, we use the following equation to determine $\\boldsymbol{\\Delta t}$.\n",
    "\n",
    "\\begin{equation}\n",
    "\\Delta t = C \\ \\frac{\\Delta x}{a + V}\n",
    "\\end{equation}\n",
    "\n",
    "Note that we are still using all nondimensional variables. $\\boldsymbol{C}$ is the Courant number, and we use $\\boldsymbol{C = 0.5}$.\n",
    "\n",
    "At **time** $\\boldsymbol{t}$ and **grid point** $\\boldsymbol{i}$, we compute $\\boldsymbol{\\Delta t^t_i}$.\n",
    "\n",
    "\\begin{equation}\n",
    "\\Delta t^t_i = C \\ \\frac{\\Delta x}{a^t_i + V^t_i}\n",
    "\\end{equation}\n",
    "\n",
    "At **time** $\\boldsymbol{t}$, a different value of $\\boldsymbol{\\Delta t^t_i}$ can be computed at each grid point. Therefore, we use the minimum across all grid points.\n",
    "\n",
    "\\begin{equation}\n",
    "\\Delta t^t = minimum(\\Delta t^t_1, \\Delta t^t_2,..., \\Delta t^t_i,..., \\Delta t^t_N)\n",
    "\\end{equation}\n",
    "\n",
    "In Anderson's reference, these are equations **7.66**, **7.67**, and **7.69**."
   ]
  },
  {
   "cell_type": "markdown",
   "metadata": {
    "collapsed": true
   },
   "source": [
    "### Boundary Conditions"
   ]
  },
  {
   "cell_type": "markdown",
   "metadata": {},
   "source": [
    "Our grid has two boundaries - **Point 1** and **Point N**.\n",
    "\n",
    "**Grid Point 1** is an inflow boundary. The density and temperature are fixed to the reservoir values, $\\boldsymbol{\\rho_0}$ and $\\boldsymbol{T_0}$. The nondimensional values are $\\boldsymbol{\\rho^t_1 = 1}$ and $\\boldsymbol{T^t_1 = 1}$. The velocity is found by linear extrapolation of **Grid Points 2** and **3**.\n",
    "\n",
    "\\begin{equation}\n",
    "\\rho^t_1 = 1\n",
    "\\end{equation}\n",
    "\n",
    "\\begin{equation}\n",
    "V^t_1 = 2 V^t_2 - V^t_3\n",
    "\\end{equation}\n",
    "\n",
    "\\begin{equation}\n",
    "T^t_1 = 1\n",
    "\\end{equation}\n",
    "\n",
    "**Grid Point N** is an outflow boundary. Density, velocity, and temperature are all found by linear extrapolation.\n",
    "\n",
    "\\begin{equation}\n",
    "\\rho^t_N = 2 \\rho^t_{N-1} - \\rho^t_{N-2}\n",
    "\\end{equation}\n",
    "\n",
    "\\begin{equation}\n",
    "V^t_N = 2 V^t_{N-1} - V^t_{N-2}\n",
    "\\end{equation}\n",
    "\n",
    "\\begin{equation}\n",
    "T^t_N = 2 T^t_{N-1} - T^t_{N-2}\n",
    "\\end{equation}\n",
    "\n",
    "In Anderson's reference, these are equations **7.70**, **7.71**, **7.72a**, **7.72b**, and **7.72c**."
   ]
  },
  {
   "cell_type": "markdown",
   "metadata": {},
   "source": [
    "### Nozzle Shape and Initial Conditions"
   ]
  },
  {
   "cell_type": "markdown",
   "metadata": {},
   "source": [
    "Anderson uses the following equation to define the nozzle shape.\n",
    "\n",
    "\\begin{equation}\n",
    "A = 1 + 2.2(x - 1.5)^2 \\ \\ \\ \\ \\ 0 \\le x \\le 3\n",
    "\\end{equation}\n",
    "\n",
    "Anderson uses the following equations to define the initial conditions.\n",
    "\n",
    "\\begin{equation}\n",
    "\\rho = 1 - 0.3146x\n",
    "\\end{equation}\n",
    "\n",
    "\\begin{equation}\n",
    "T = 1 - 0.2314x\n",
    "\\end{equation}\n",
    "\n",
    "\\begin{equation}\n",
    "V = (0.1 + 1.09x)T^{\\frac{1}{2}}\n",
    "\\end{equation}\n",
    "\n",
    "In Anderson's reference, these are equations **7.73**, **7.74a**, **7.74b**, and **7.74c**."
   ]
  },
  {
   "cell_type": "markdown",
   "metadata": {
    "collapsed": true
   },
   "source": [
    "## Code"
   ]
  },
  {
   "cell_type": "code",
   "execution_count": 1,
   "metadata": {
    "collapsed": true
   },
   "outputs": [],
   "source": [
    "import numpy\n",
    "from matplotlib import pyplot, rcParams\n",
    "from scipy import optimize\n",
    "%matplotlib inline\n",
    "rcParams['font.family'] = 'serif'\n",
    "rcParams['font.size'] = 16"
   ]
  },
  {
   "cell_type": "code",
   "execution_count": 2,
   "metadata": {
    "collapsed": true
   },
   "outputs": [],
   "source": [
    "nx = 31                       # number of grid points\n",
    "dx = 3/(nx-1)                 # grid spacing\n",
    "x = numpy.linspace(0.,3.,nx)  # x grid"
   ]
  },
  {
   "cell_type": "code",
   "execution_count": 3,
   "metadata": {
    "collapsed": true
   },
   "outputs": [],
   "source": [
    "def compute_initial_conditions(x):\n",
    "    '''Computes and returns the initial conditions for density, velocity, and temperature.\n",
    "       Also computes and returns the area of the nozzle.\n",
    "    \n",
    "    Parameters:\n",
    "    ----------\n",
    "    x : 1D array of float\n",
    "        x grid\n",
    "    \n",
    "    Returns:\n",
    "    -------\n",
    "    A : 1D array of float\n",
    "        nozzle area\n",
    "    rho : 1D array of float\n",
    "          initial density\n",
    "    V : 1D array of float\n",
    "        initial velocity\n",
    "    T : 1D array of float\n",
    "        initial temperature\n",
    "    '''\n",
    "    \n",
    "    A = 1 + 2.2 * (x - 1.5)**2\n",
    "    \n",
    "    rho = 1 - 0.3146 * x\n",
    "    \n",
    "    T = 1 - 0.2314 * x\n",
    "    \n",
    "    V = (0.1 + 1.09 * x) * numpy.sqrt(T)\n",
    "    \n",
    "    return A, rho, V, T"
   ]
  },
  {
   "cell_type": "code",
   "execution_count": 4,
   "metadata": {
    "collapsed": true
   },
   "outputs": [],
   "source": [
    "def solve_nozzle_flow(nt, nx, dx, A, rho, V, T):\n",
    "    '''Solves the nozzle flow problem.\n",
    "    \n",
    "    Parameters:\n",
    "    ----------\n",
    "    nt : int\n",
    "         number of time steps\n",
    "    nx : int\n",
    "         number of grid points\n",
    "    dx : float\n",
    "         grid spacing\n",
    "    A : 1D array of float\n",
    "        area at each grid point\n",
    "    rho : 1D array of float\n",
    "          density at each grid point\n",
    "    V : 1D array of float\n",
    "        velocity at each grid point\n",
    "    T : 1D array of float\n",
    "        temperature at each grid point\n",
    "    \n",
    "    Returns:\n",
    "    -------\n",
    "    t_n : 1D array of float\n",
    "          array of time-step size\n",
    "    rho_n : 2D array of float\n",
    "            density array at each time step\n",
    "    V_n : 2D array of float\n",
    "          velocity array at each time step\n",
    "    T_n : 2D array of float\n",
    "          temperature array at each time step\n",
    "    '''\n",
    "    \n",
    "    C = .5  # Courant number\n",
    "    \n",
    "    rho_dot_predictor = numpy.zeros(nx)\n",
    "    V_dot_predictor = numpy.zeros(nx)\n",
    "    T_dot_predictor = numpy.zeros(nx)\n",
    "    \n",
    "    rho_dot_corrector = numpy.zeros(nx)\n",
    "    V_dot_corrector = numpy.zeros(nx)\n",
    "    T_dot_corrector = numpy.zeros(nx)\n",
    "    \n",
    "    rho_next = numpy.zeros(nx)\n",
    "    V_next = numpy.zeros(nx)\n",
    "    T_next = numpy.zeros(nx)\n",
    "    \n",
    "    rho_n = numpy.zeros((nt,nx))\n",
    "    V_n = numpy.zeros((nt,nx))\n",
    "    T_n = numpy.zeros((nt,nx))\n",
    "    \n",
    "    t_n = numpy.zeros(nt)\n",
    "    \n",
    "    for t in range(nt):\n",
    "        \n",
    "        dt = numpy.amin(C * (dx/(numpy.sqrt(T) + V)))\n",
    "        \n",
    "        # MacCormack's Method: Predictor Step\n",
    "        rho_dot_predictor[:-1] = -rho[:-1] * ((V[1:] - V[:-1])/dx) -\\\n",
    "                                  rho[:-1] * V[:-1] * ((numpy.log(A[1:]) - numpy.log(A[:-1]))/dx) -\\\n",
    "                                  V[:-1] * ((rho[1:] - rho[:-1])/dx)\n",
    "        \n",
    "        V_dot_predictor[:-1] = -V[:-1] * ((V[1:] - V[:-1])/dx) -\\\n",
    "                                (1/1.4) * (((T[1:] - T[:-1])/dx) +\\\n",
    "                                           (T[:-1]/rho[:-1]) * ((rho[1:] - rho[:-1])/dx))\n",
    "        \n",
    "        T_dot_predictor[:-1] = -V[:-1] * ((T[1:] - T[:-1])/dx) -\\\n",
    "                                (1.4-1) * T[:-1] * (((V[1:] - V[:-1])/dx) +\\\n",
    "                                                    V[:-1] * ((numpy.log(A[1:]) - numpy.log(A[:-1]))/dx))\n",
    "        \n",
    "        rho_predicted = rho.copy()\n",
    "        V_predicted = V.copy()\n",
    "        T_predicted = T.copy()\n",
    "        \n",
    "        rho_predicted[:-1] = rho[:-1] + rho_dot_predictor[:-1] * dt\n",
    "        \n",
    "        V_predicted[:-1] = V[:-1] + V_dot_predictor[:-1] * dt\n",
    "        \n",
    "        T_predicted[:-1] = T[:-1] + T_dot_predictor[:-1] * dt\n",
    "        \n",
    "        \n",
    "        # MacCormack's Method: Corrector Step\n",
    "        rho_dot_corrector[1:] = -rho_predicted[1:] * ((V_predicted[1:] - V_predicted[:-1])/dx) -\\\n",
    "                                 rho_predicted[1:] * V_predicted[1:] *\\\n",
    "                                 ((numpy.log(A[1:]) - numpy.log(A[:-1]))/dx) -\\\n",
    "                                 V_predicted[1:] * ((rho_predicted[1:] - rho_predicted[:-1])/dx)\n",
    "        \n",
    "        V_dot_corrector[1:] = -V_predicted[1:] * ((V_predicted[1:] - V_predicted[:-1])/dx) -\\\n",
    "                               (1/1.4) * (((T_predicted[1:] - T_predicted[:-1])/dx) +\\\n",
    "                                          (T_predicted[1:]/rho_predicted[1:]) *\\\n",
    "                                          ((rho_predicted[1:] - rho_predicted[:-1])/dx))\n",
    "        \n",
    "        T_dot_corrector[1:] = -V_predicted[1:] * ((T_predicted[1:] - T_predicted[:-1])/dx) -\\\n",
    "                               (1.4-1) * T_predicted[1:] *\\\n",
    "                               (((V_predicted[1:] - V_predicted[:-1])/dx) +\\\n",
    "                                V_predicted[1:] * ((numpy.log(A[1:]) - numpy.log(A[:-1]))/dx))\n",
    "        \n",
    "        rho_dot_average = .5 * (rho_dot_predictor + rho_dot_corrector)\n",
    "        \n",
    "        V_dot_average = .5 * (V_dot_predictor + V_dot_corrector)\n",
    "        \n",
    "        T_dot_average = .5 * (T_dot_predictor + T_dot_corrector)\n",
    "        \n",
    "        rho_next[1:-1] = rho[1:-1] + rho_dot_average[1:-1] * dt\n",
    "        \n",
    "        V_next[1:-1] = V[1:-1] + V_dot_average[1:-1] * dt\n",
    "        \n",
    "        T_next[1:-1] = T[1:-1] + T_dot_average[1:-1] * dt\n",
    "        \n",
    "        \n",
    "        # Boundary Conditions\n",
    "        # inflow\n",
    "        rho_next[0] = 1\n",
    "        V_next[0] = 2 * V_next[1] - V_next[2]\n",
    "        T_next[0] = 1\n",
    "        \n",
    "        # outflow\n",
    "        rho_next[-1] = 2 * rho_next[-2] - rho_next[-3]\n",
    "        V_next[-1] = 2 * V_next[-2] - V_next[-3]\n",
    "        T_next[-1] = 2 * T_next[-2] - T_next[-3]\n",
    "        \n",
    "        \n",
    "        # Update data containers\n",
    "        rho = rho_next.copy()\n",
    "        V = V_next.copy()\n",
    "        T = T_next.copy()\n",
    "        \n",
    "        rho_n[t] = rho.copy()\n",
    "        V_n[t] = V.copy()\n",
    "        T_n[t] = T.copy()\n",
    "        \n",
    "        t_n[t] = dt\n",
    "    \n",
    "    return t_n, rho_n, V_n, T_n"
   ]
  },
  {
   "cell_type": "code",
   "execution_count": 5,
   "metadata": {
    "collapsed": true
   },
   "outputs": [],
   "source": [
    "nt = 1400  # number of time-steps\n",
    "\n",
    "A, rho_i, V_i, T_i = compute_initial_conditions(x)\n",
    "\n",
    "t_n, rho_n, V_n, T_n = solve_nozzle_flow(nt, nx, dx, A, rho_i.copy(), V_i.copy(), T_i.copy())"
   ]
  },
  {
   "cell_type": "code",
   "execution_count": 6,
   "metadata": {
    "collapsed": true
   },
   "outputs": [],
   "source": [
    "rho = rho_n[-1]\n",
    "V = V_n[-1]\n",
    "T = T_n[-1]\n",
    "p = rho * T"
   ]
  },
  {
   "cell_type": "code",
   "execution_count": 7,
   "metadata": {
    "collapsed": true
   },
   "outputs": [],
   "source": [
    "import nozzle_flow_analytical_solution"
   ]
  },
  {
   "cell_type": "code",
   "execution_count": 8,
   "metadata": {
    "collapsed": false
   },
   "outputs": [],
   "source": [
    "M_an, p_an, rho_an, T_an = nozzle_flow_analytical_solution.nozzle_flow_analytical_solution(x, A)"
   ]
  },
  {
   "cell_type": "code",
   "execution_count": 9,
   "metadata": {
    "collapsed": false
   },
   "outputs": [
    {
     "data": {
      "text/plain": [
       "[<matplotlib.lines.Line2D at 0x10e2586d8>]"
      ]
     },
     "execution_count": 9,
     "metadata": {},
     "output_type": "execute_result"
    },
    {
     "data": {
      "image/png": "[encoded data removed]",
      "text/plain": [
       "<matplotlib.figure.Figure at 0x10406d438>"
      ]
     },
     "metadata": {},
     "output_type": "display_data"
    }
   ],
   "source": [
    "pyplot.figure(figsize=(8,6))\n",
    "pyplot.plot(x, p, color='k', ls='-', lw=3)\n",
    "pyplot.plot(x, p_an, color='r', ls='--', lw=3)"
   ]
  },
  {
   "cell_type": "code",
   "execution_count": null,
   "metadata": {
    "collapsed": true
   },
   "outputs": [],
   "source": []
  }
 ],
 "metadata": {
  "anaconda-cloud": {},
  "kernelspec": {
   "display_name": "Python [Root]",
   "language": "python",
   "name": "Python [Root]"
  },
  "language_info": {
   "codemirror_mode": {
    "name": "ipython",
    "version": 3
   },
   "file_extension": ".py",
   "mimetype": "text/x-python",
   "name": "python",
   "nbconvert_exporter": "python",
   "pygments_lexer": "ipython3",
   "version": "3.5.2"
  }
 },
 "nbformat": 4,
 "nbformat_minor": 0
}
