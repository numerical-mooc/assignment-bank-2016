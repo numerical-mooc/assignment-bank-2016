{
 "cells": [
  {
   "cell_type": "code",
   "execution_count": 1,
   "metadata": {
    "collapsed": false
   },
   "outputs": [
    {
     "name": "stdout",
     "output_type": "stream",
     "text": [
      "Hello World\n"
     ]
    }
   ],
   "source": [
    "print('Hello World')"
   ]
  },
  {
   "cell_type": "markdown",
   "metadata": {
    "collapsed": true
   },
   "source": [
    "**Continuity:**\n",
    "\n",
    "\\begin{equation}\n",
    "\\frac{\\partial (\\rho A)}{\\partial t} + \\rho A \\frac{\\partial V}{\\partial x} + \\rho V \\frac{\\partial A}{\\partial x} + V A \\frac{\\partial \\rho}{\\partial x} = 0\n",
    "\\end{equation}\n",
    "\n",
    "**Momentum:**\n",
    "\n",
    "\\begin{equation}\n",
    "\\rho \\frac{\\partial V}{\\partial t} + \\rho V \\frac{\\partial V}{\\partial x} = -R \\bigg( \\rho \\frac{\\partial T}{\\partial x} + T \\frac{\\partial \\rho}{\\partial x} \\bigg)\n",
    "\\end{equation}\n",
    "\n",
    "**Energy:**\n",
    "\n",
    "\\begin{equation}\n",
    "\\rho c_{\\nu} \\frac{\\partial T}{\\partial t} + \\rho V c_{\\nu} \\frac{\\partial T}{\\partial x} = - \\rho R T \\bigg[ \\frac{\\partial V}{\\partial x} + V \\frac{\\partial (\\ln A)}{\\partial x} \\bigg]\n",
    "\\end{equation}"
   ]
  },
  {
   "cell_type": "markdown",
   "metadata": {
    "collapsed": true
   },
   "source": [
    "### Nondimensional Variables"
   ]
  },
  {
   "cell_type": "markdown",
   "metadata": {},
   "source": [
    "Anderson notes that as a matter of convention, nondimensional variables are generally used for analysis of flow in a nozzle. Therefore, we introduce the appropriate nondimensional variables. Later they will be substituted into the governing equations above (Equations **7.42**, **7.43**, and **7.44** in Anderson's reference).\n",
    "\n",
    "Temperature $\\boldsymbol{T}$ relates to the nondimensional $\\boldsymbol{T'}$.\n",
    "\\begin{equation}\n",
    "T' = \\frac{T}{T_0}\n",
    "\\end{equation}\n",
    "\n",
    "Density $\\boldsymbol{\\rho}$ relates to the nondimensional $\\boldsymbol{\\rho'}$.\n",
    "\\begin{equation}\n",
    "\\rho' = \\frac{\\rho}{\\rho_0}\n",
    "\\end{equation}\n",
    "\n",
    "Position $\\boldsymbol{x}$ relates to the nondimensional $\\boldsymbol{x'}$.\n",
    "\\begin{equation}\n",
    "x' = \\frac{x}{L}\n",
    "\\end{equation}\n",
    "\n",
    "The speed of sound in the reservoir is denoted $\\boldsymbol{a_0}$.\n",
    "\\begin{equation}\n",
    "a_0 = \\sqrt{\\gamma R T_0}\n",
    "\\end{equation}\n",
    "\n",
    "Velocity $\\boldsymbol{V}$ relates to the nondimensional $\\boldsymbol{V'}$.\n",
    "\\begin{equation}\n",
    "V' = \\frac{V}{a_0}\n",
    "\\end{equation}\n",
    "\n",
    "Time $\\boldsymbol{t}$ relates to the nondimensional $\\boldsymbol{t'}$.\n",
    "\\begin{equation}\n",
    "t' = \\frac{t}{\\frac{L}{a_0}}\n",
    "\\end{equation}\n",
    "\n",
    "Area $\\boldsymbol{A}$ relates to the nondimensional $\\boldsymbol{A'}$.\n",
    "\\begin{equation}\n",
    "A' = \\frac{A}{A^*}\n",
    "\\end{equation}"
   ]
  },
  {
   "cell_type": "markdown",
   "metadata": {
    "collapsed": true
   },
   "source": [
    "### Governing Equations with Nondimensional Variables"
   ]
  },
  {
   "cell_type": "markdown",
   "metadata": {},
   "source": [
    "The nondimensional variables are substituted into the governing equations above (Equations **7.42**, **7.43**, and **7.44** in Anderson's reference). The equations are simplified, and the result is a new set of governing equations that use just the nondimensional variables.\n",
    "\n",
    "**Continuity:**\n",
    "\n",
    "\\begin{equation}\n",
    "\\frac{\\partial \\rho'}{\\partial t'} = -\\rho' \\frac{\\partial V'}{\\partial x'} - \\rho' V' \\frac{\\partial (\\ln A')}{\\partial x'} - V' \\frac{\\partial \\rho'}{\\partial x'}\n",
    "\\end{equation}\n",
    "\n",
    "**Momentum:**\n",
    "\n",
    "\\begin{equation}\n",
    "\\frac{\\partial V'}{\\partial t'} = -V' \\frac{\\partial V'}{\\partial x'} - \\frac{1}{\\gamma} \\bigg( \\frac{\\partial T'}{\\partial x'} + \\frac{T'}{\\rho'} \\frac{\\partial \\rho'}{\\partial x'} \\bigg)\n",
    "\\end{equation}\n",
    "\n",
    "**Energy:**\n",
    "\n",
    "\\begin{equation}\n",
    "\\frac{\\partial T'}{\\partial t'} = -V' \\frac{\\partial T'}{\\partial x'} - (\\gamma - 1) T' \\bigg[ \\frac{\\partial V'}{\\partial x'} + V' \\frac{\\partial (\\ln A')}{\\partial x'} \\bigg]\n",
    "\\end{equation}\n",
    "\n",
    "In Anderson's reference, these are Equations **7.46**, **7.48**, and **7.50**."
   ]
  },
  {
   "cell_type": "code",
   "execution_count": null,
   "metadata": {
    "collapsed": true
   },
   "outputs": [],
   "source": []
  }
 ],
 "metadata": {
  "anaconda-cloud": {},
  "kernelspec": {
   "display_name": "Python [Root]",
   "language": "python",
   "name": "Python [Root]"
  },
  "language_info": {
   "codemirror_mode": {
    "name": "ipython",
    "version": 3
   },
   "file_extension": ".py",
   "mimetype": "text/x-python",
   "name": "python",
   "nbconvert_exporter": "python",
   "pygments_lexer": "ipython3",
   "version": "3.5.2"
  }
 },
 "nbformat": 4,
 "nbformat_minor": 0
}
