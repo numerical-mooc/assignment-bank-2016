{
 "cells": [
  {
   "cell_type": "markdown",
   "metadata": {
    "collapsed": true
   },
   "source": [
    "###### Content under Creative Commons Attribution license CC-BY 4.0, code under MIT license (c)2016 Jiangtian Liu.  "
   ]
  },
  {
   "cell_type": "markdown",
   "metadata": {},
   "source": [
    "# Wave equation"
   ]
  },
  {
   "cell_type": "markdown",
   "metadata": {},
   "source": [
    "Everyone should be familar with the wave equation:\n",
    "\n",
    "\\begin{equation}\\frac{\\partial^2 u}{\\partial t^2}= c^2 \\frac{\\partial^2 u}{\\partial x^2}\\end{equation}\n",
    "\n",
    "Beacuse we know that the time should be always forward, should we use the same method of Central Difference Scheme to derivative the second-order in time like how to deal with diffusion equation in space?"
   ]
  },
  {
   "cell_type": "markdown",
   "metadata": {},
   "source": [
    "## CTCS"
   ]
  },
  {
   "cell_type": "markdown",
   "metadata": {
    "collapsed": true
   },
   "source": [
    "The answer of the question above is yes! Since we are not quite sure about the CTCS scheme is right or not, let us try to get this in another way.\n",
    "\n",
    "We are going to solve the wave equation by the solution of coupled first-order PDEs. Now, let us rewrite wave equation.\n",
    "So, we set:\n",
    "\n",
    "\\begin{equation}\\ r= c \\frac{\\partial u}{\\partial x}\\end{equation}\n",
    "\n",
    "\\begin{equation}\\ s=  \\frac{\\partial u}{\\partial t}\\end{equation}\n",
    "\n",
    "which means wave equation can be rewrited as:\n",
    "\n",
    "\\begin{equation}\\frac{\\partial r}{\\partial t}= c \\frac{\\partial s}{\\partial x}\\end{equation}\n",
    "\n",
    "\\begin{equation}\\frac{\\partial s}{\\partial t}= c \\frac{\\partial r}{\\partial x}\\end{equation}\n",
    "\n",
    "\\begin{equation}\\frac{\\partial u}{\\partial t}= s\\end{equation}\n",
    "\n",
    "Let's set U and F as two vectors as what we have learned in moduel 1. \n",
    "\n",
    "\\begin{align}\n",
    "U & = \\begin{pmatrix} r \\\\ s \\end{pmatrix} & F(U) & = \\begin{pmatrix} 0 & -c \\\\ -c & 0 \\end{pmatrix} U \\nonumber\n",
    "\\end{align}\n",
    "\n",
    "And then we can get:\n",
    "\n",
    "\\begin{equation}\\frac{\\partial U}{\\partial t}= - \\frac{\\partial F(U)}{\\partial x}\\end{equation}\n",
    "\n",
    "The leapfrog scheme was introuduced in the class, since we get a first-order PDE now, we are going to try leapfrog half-step on it.\n",
    "\n",
    "\\begin{equation}r_{i+1/2}^{n+1} = r_{i+1/2}^{n} + \\frac{\\Delta t}{\\Delta x}(s^{n+1/2}_{i+1}- s^{n+1/2}_{i}) + {\\mathcal O}(\\Delta x^2) \\end{equation}\n",
    "\n",
    "\\begin{equation}s_{i}^{n+1/2} = s_{i}^{n-1/2} + \\frac{\\Delta t}{\\Delta x}(r^{n}_{i+1/2}- r^{n}_{i-1/2})  + {\\mathcal O}(\\Delta x^2) \\end{equation}\n",
    "\n",
    "And we know so much about central difference, let us write down the central difference of r and s at the half of the mesh points:\n",
    "\n",
    "\\begin{equation}r_{i+1/2}^{n} = c(u^n_{i+1}- u^n_{i})/\\Delta x + {\\mathcal O}(\\Delta x) \\end{equation}\n",
    "\n",
    "\\begin{equation}s_{i}^{n+1/2} = (u^{n+1}_i- u^n_{i})/\\Delta t  + {\\mathcal O}(\\Delta t) \\end{equation}\n",
    "\n",
    "Next, put the these two equation into the leapfrog half-step equation. Right now we can get the representation of wave equation with leapfrog scheme:\n",
    "\n",
    "\\begin{equation}\\frac{u_{i}^{n+1}-2u_{i}^{n}+u_{i}^{n-1}}{\\Delta t^2}=c^2\\frac{u_{i+1}^{n}-2u_{i}^{n}+u_{i-1}^{n}}{\\Delta x^2}\\end{equation}\n",
    "\n",
    "Good! This is the second-order differencing of wave equation, and this is also the CTCS."
   ]
  },
  {
   "cell_type": "markdown",
   "metadata": {},
   "source": [
    "## Question of this scheme?"
   ]
  },
  {
   "cell_type": "markdown",
   "metadata": {},
   "source": [
    "Let us rearrange the equation above, and isolate $u_{i}^{n+1}$, so we can get:\n",
    "\n",
    "\\begin{equation}u_{i}^{n+1}=\\frac{c^2\\Delta t^2}{\\Delta x^2}u_{i+1}^{n} + 2u_{i}^{n}(1-\\frac{c^2\\Delta t^2}{\\Delta x^2})+\\frac{c^2\\Delta t^2}{\\Delta x^2}u_{i-1}^{n}-u_{i}^{n-1}\\end{equation}\n",
    "\n",
    "Here is the stencil for this."
   ]
  },
  {
   "cell_type": "code",
   "execution_count": 91,
   "metadata": {
    "collapsed": false
   },
   "outputs": [
    {
     "data": {
      "image/png": "[encoded data removed]",
      "text/plain": [
       "<IPython.core.display.Image object>"
      ]
     },
     "execution_count": 91,
     "metadata": {},
     "output_type": "execute_result"
    }
   ],
   "source": [
    "from IPython.display import Image\n",
    "Image(filename='stencil.png')"
   ]
  },
  {
   "cell_type": "markdown",
   "metadata": {},
   "source": [
    "But right now, let us take $u_{i}^{1}$ for example:\n",
    "\n",
    "\\begin{equation}u_{i}^{1}=\\frac{c^2\\Delta t^2}{\\Delta x^2}u_{i+1}^{0} + 2u_{i}^{0}(1-\\frac{c^2\\Delta t^2}{\\Delta x^2})+\\frac{c^2\\Delta t^2}{\\Delta x^2}u_{i-1}^{0}-u_{i}^{-1}\\end{equation}\n",
    "\n",
    "what we found here? If we have the initial condition to get $u_{i}^{0}$, how to deal with $u_{i}^{-1}$? It just like \"Ghost point\" which we have learned in the class.\n",
    "Since we need to have two initial conditions to solve second-order derivative in time, the first intial condition is $u(x, 0) = a(x)$ and the second one is ${\\partial u(x, 0)}/{\\partial t} = b(x)$."
   ]
  },
  {
   "cell_type": "markdown",
   "metadata": {},
   "source": [
    "What we can use here is the second intial conditon. We know that:\n",
    "\n",
    "\\begin{equation}\\frac{\\partial u(x_{i}, 0)}{\\partial t}= b(x) = \\frac{ u_{i}^{1}-u_{i}^{-1}}{2\\Delta t} + {\\mathcal O}(\\Delta t^2)\\end{equation}\n",
    "\n",
    "After isolating the $u_{i}^{-1}$, it should be:\n",
    "\n",
    "\\begin{equation}u_{i}^{-1} = u_{i}^{1} - 2\\Delta tb(x) \\end{equation}\n",
    "\n",
    "Put this into the equation of $u_{i}^{1}$, what we can get is:\n",
    "\n",
    "\\begin{equation}u_{i}^{1}=0.5(\\frac{c^2\\Delta t^2}{\\Delta x^2}u_{i+1}^{0} + 2a(x)(1-\\frac{c^2\\Delta t^2}{\\Delta x^2})+\\frac{c^2\\Delta t^2}{\\Delta x^2}u_{i-1}^{0}+2\\Delta t b(x))\\end{equation}\n",
    "\n",
    "Now, we are good to code!"
   ]
  },
  {
   "cell_type": "code",
   "execution_count": 92,
   "metadata": {
    "collapsed": true
   },
   "outputs": [],
   "source": [
    "import numpy                       \n",
    "from matplotlib import pyplot    \n",
    "%matplotlib inline\n",
    "from matplotlib import rcParams\n",
    "rcParams['font.family'] = 'serif'\n",
    "rcParams['font.size'] = 16"
   ]
  },
  {
   "cell_type": "code",
   "execution_count": 93,
   "metadata": {
    "collapsed": false
   },
   "outputs": [],
   "source": [
    "#defining basic parameters\n",
    "l  =  10.\n",
    "nx =  101\n",
    "dx =  2*l/(nx-1)\n",
    "x  =  numpy.linspace(-10., 10., nx)\n",
    "T  =  20\n",
    "dt =  0.1\n",
    "nt =  int(T/dt)\n",
    "c  =  1.\n",
    "alpha = dt/dx"
   ]
  },
  {
   "cell_type": "markdown",
   "metadata": {},
   "source": [
    "## Set conditions for the problem"
   ]
  },
  {
   "cell_type": "markdown",
   "metadata": {},
   "source": [
    "Let us take Gaussian intial conditions as example,\n",
    "\n",
    "\\begin{equation}G_{\\sigma}(x) = e^{-x^2/\\sigma^2}\\end{equation}\n",
    "\n",
    "So the initial conditions are:\n",
    "\n",
    "\\begin{equation}u(x, 0) = AG_\\sigma(x)\\end{equation}\n",
    "\n",
    "\\begin{equation}\\frac{\\partial u(x, 0)}{\\partial t}= 0\\end{equation}\n",
    "\n",
    "A is an arbitrary amplitude, let us take A = 6, $\\sigma$ = 1.\n",
    "For the boundary conditions, we set Neumann boundary conditions at x = l and x = -l."
   ]
  },
  {
   "cell_type": "code",
   "execution_count": 94,
   "metadata": {
    "collapsed": true
   },
   "outputs": [],
   "source": [
    "#Defining the function to get the numerical solution\n",
    "def solve_wave_equation(nx, nt, dx, dt, ax, alpha):   \n",
    "    \"\"\"Solve the 1D Wave Equation by CTCS \n",
    "    Parameters:\n",
    "    ----------\n",
    "    nx : interger\n",
    "        Number of grid points in x\n",
    "    nt : integer\n",
    "        Number of time step\n",
    "    dx : float\n",
    "        Mesh size\n",
    "    dx : float\n",
    "        Time step size\n",
    "    ax : array of float\n",
    "        Initial condition\n",
    "    alpha: float\n",
    "        CFL number  \n",
    "    Returns:\n",
    "    -------\n",
    "    u : array of float\n",
    "        Position profile after nt time steps\n",
    "    \"\"\"\n",
    "    u  = numpy.zeros((nt, nx))\n",
    "    un = numpy.zeros_like(u)\n",
    "#intial condition\n",
    "    u[0,:]    = ax\n",
    "    u[1,1:-1] = 0.5*(alpha**2*u[0,2:] + 2*ax[1:-1]*(1-alpha**2)\\\n",
    "                     + alpha**2*u[0,:-2])\n",
    "    for t in range(1, nt-1):\n",
    "        un = u.copy()\n",
    "        u[t+1, 1:-1] = alpha**2*un[t, 2:] + 2*un[t, 1:-1]*(1-alpha**2)\\\n",
    "                        + alpha**2*un[t, :-2] - un[t-1, 1:-1]        \n",
    "#boundary conditions\n",
    "        u[t, 0]  =  u[t, 1]\n",
    "        u[t, -1] =  u[t, -2]        \n",
    "    return u"
   ]
  },
  {
   "cell_type": "code",
   "execution_count": 95,
   "metadata": {
    "collapsed": false
   },
   "outputs": [],
   "source": [
    "#initial conditions\n",
    "ax = 6*(numpy.exp(-x**2/1))\n",
    "bx = 0\n",
    "#numerical solution\n",
    "u_solution=solve_wave_equation(nx, nt, dx, dt, ax, alpha)"
   ]
  },
  {
   "cell_type": "markdown",
   "metadata": {},
   "source": [
    "## The analytical solution for this problem"
   ]
  },
  {
   "cell_type": "markdown",
   "metadata": {},
   "source": [
    "Since we chose the Gaussian initial conditions, there must be an analytical solution for this problem.\n",
    "Let us write it down:\n",
    "\n",
    "\\begin{equation}\\ u(x, t) =  \\frac{A}{2}[G_{\\sigma}(x+ct) + G_{\\sigma}(x-ct)]\\end{equation}\n",
    "\n",
    "it equals to:\n",
    "\\begin{equation}\\ u(x, t) =  \\frac{A}{2}[e^{-(x+ct/\\sigma)^2} + e^{-(x-ct/\\sigma)^2}]\\end{equation}\n",
    "\n",
    "Let us plot this analytical solution out."
   ]
  },
  {
   "cell_type": "code",
   "execution_count": 96,
   "metadata": {
    "collapsed": false
   },
   "outputs": [],
   "source": [
    "#Plot the analytical solution\n",
    "A = 6\n",
    "u_analytical = numpy.zeros((nt, nx))\n",
    "t_set = numpy.linspace(0, T, nt)\n",
    "for i, t in enumerate(t_set):\n",
    "    u_analytical[i,:] = A/2*(numpy.exp(-(x+c*t/1)**2)\\\n",
    "                              + numpy.exp(-(x-c*t/1)**2))"
   ]
  },
  {
   "cell_type": "code",
   "execution_count": 97,
   "metadata": {
    "collapsed": false
   },
   "outputs": [
    {
     "data": {
      "text/plain": [
       "<matplotlib.text.Text at 0x7f0e564a1128>"
      ]
     },
     "execution_count": 97,
     "metadata": {},
     "output_type": "execute_result"
    },
    {
     "data": {
      "image/png": "[encoded data removed]",
      "text/plain": [
       "<matplotlib.figure.Figure at 0x7f0e568d9f98>"
      ]
     },
     "metadata": {},
     "output_type": "display_data"
    }
   ],
   "source": [
    "pyplot.figure(figsize=(6,3))\n",
    "pyplot.plot(x,u_analytical[int(0.8/dt),:], label='analytical solution t=0.8')\n",
    "pyplot.plot(x,u_solution[int(0.8/dt),:], label='numerical solution t=0.8')\n",
    "pyplot.plot(x,u_analytical[int(2/dt),:], label='analytical solution')\n",
    "pyplot.plot(x,u_solution[int(2/dt),:], label='solution')\n",
    "pyplot.ylim(-1,8)\n",
    "pyplot.title('comparision of analytical solution of numerical soltuion')"
   ]
  },
  {
   "cell_type": "markdown",
   "metadata": {},
   "source": [
    "After comparing two figures of analytical solution and numerical soltuion, we found that these two solution are the same, it definitely proves our CTCS scheme method is good to solve second-order both in space and time."
   ]
  },
  {
   "cell_type": "markdown",
   "metadata": {},
   "source": [
    "## Reference"
   ]
  },
  {
   "cell_type": "markdown",
   "metadata": {},
   "source": [
    "* Luciano R.(2010). Numerical Methods for the Solution of Prtial Differential Equations. Retrieved from http://www.aei.mpg.de/~rezzolla/lnotes/Evolution_Pdes/evolution_pdes_lnotes.pdf\n",
    "* Peter J. O.(2008). Nume rical Analysis Lecture Notes. Retrieved from http://www.math.umn.edu/~olver/num_/lnp.pdf\n",
    "* Barba L. A. Numerical MAE: MAE6286 Practical Numerical Methods with Python. Retrieved from http://openedx.seas.gwu.edu/courses/GW/MAE6286/2014_fall/"
   ]
  }
 ],
 "metadata": {
  "anaconda-cloud": {},
  "kernelspec": {
   "display_name": "Python [default]",
   "language": "python",
   "name": "python3"
  },
  "language_info": {
   "codemirror_mode": {
    "name": "ipython",
    "version": 3
   },
   "file_extension": ".py",
   "mimetype": "text/x-python",
   "name": "python",
   "nbconvert_exporter": "python",
   "pygments_lexer": "ipython3",
   "version": "3.5.2"
  }
 },
 "nbformat": 4,
 "nbformat_minor": 1
}
