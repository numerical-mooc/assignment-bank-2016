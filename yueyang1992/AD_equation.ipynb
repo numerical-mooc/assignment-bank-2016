{
 "cells": [
  {
   "cell_type": "code",
   "execution_count": 1,
   "metadata": {
    "collapsed": true
   },
   "outputs": [],
   "source": [
    "%matplotlib inline\n",
    "import numpy\n",
    "from matplotlib import pyplot\n",
    "from matplotlib import rcParams\n",
    "rcParams['font.family'] = 'serif'\n",
    "rcParams['font.size'] = 16"
   ]
  },
  {
   "cell_type": "code",
   "execution_count": 2,
   "metadata": {
    "collapsed": true
   },
   "outputs": [],
   "source": [
    "nx = 51\n",
    "dx = 1/(nx-1)\n",
    "nt = 500\n",
    "dt = 0.01\n",
    "u = 0.1     # assume constant speed of u = 0.1 m/s\n",
    "D = 0.01    # diffusion coefficient\n",
    "x = numpy.linspace(0,1,nx)"
   ]
  },
  {
   "cell_type": "code",
   "execution_count": 3,
   "metadata": {
    "collapsed": true
   },
   "outputs": [],
   "source": [
    "def funcC(x,L):\n",
    "    \n",
    "    C = x*100/L\n",
    "    \n",
    "    return C"
   ]
  },
  {
   "cell_type": "code",
   "execution_count": 4,
   "metadata": {
    "collapsed": true
   },
   "outputs": [],
   "source": [
    "L = 1.0\n",
    "C = funcC(x,L)"
   ]
  },
  {
   "cell_type": "code",
   "execution_count": 5,
   "metadata": {
    "collapsed": false
   },
   "outputs": [
    {
     "data": {
      "text/plain": [
       "(0, 100)"
      ]
     },
     "execution_count": 5,
     "metadata": {},
     "output_type": "execute_result"
    },
    {
     "data": {
      "image/png": "[encoded data removed]",
      "text/plain": [
       "<matplotlib.figure.Figure at 0x7fbe017b80b8>"
      ]
     },
     "metadata": {},
     "output_type": "display_data"
    }
   ],
   "source": [
    "pyplot.plot(x, C, color='#003366', ls='--', lw=3)\n",
    "pyplot.ylim(0,100)"
   ]
  },
  {
   "cell_type": "code",
   "execution_count": 6,
   "metadata": {
    "collapsed": false
   },
   "outputs": [],
   "source": [
    "for n in range(nt):\n",
    "    \n",
    "    Cn = C.copy()\n",
    "    C[1:-1] = Cn[1:-1] -\\\n",
    "              u * dt / (2 * dx) * (Cn[2:] - Cn[0:-2]) +\\\n",
    "              D * dt / dx**2 * (Cn[2:] - 2 * Cn[1:-1] + Cn[0:-2])"
   ]
  },
  {
   "cell_type": "code",
   "execution_count": 7,
   "metadata": {
    "collapsed": false
   },
   "outputs": [
    {
     "data": {
      "text/plain": [
       "(0, 100)"
      ]
     },
     "execution_count": 7,
     "metadata": {},
     "output_type": "execute_result"
    },
    {
     "data": {
      "image/png": "[encoded data removed]",
      "text/plain": [
       "<matplotlib.figure.Figure at 0x7fbe019f86a0>"
      ]
     },
     "metadata": {},
     "output_type": "display_data"
    }
   ],
   "source": [
    "pyplot.plot(x, C, color='#003366', ls='--', lw=3)\n",
    "pyplot.ylim(0,100)"
   ]
  },
  {
   "cell_type": "code",
   "execution_count": 8,
   "metadata": {
    "collapsed": true
   },
   "outputs": [],
   "source": [
    "from matplotlib import animation\n",
    "from IPython.display import HTML"
   ]
  },
  {
   "cell_type": "code",
   "execution_count": 9,
   "metadata": {
    "collapsed": false
   },
   "outputs": [],
   "source": [
    "nx = 51\n",
    "dx = 1/(nx-1)\n",
    "nt = 500\n",
    "dt = 0.01\n",
    "u = 0.1     # assume constant speed of u = 0.1 m/s\n",
    "D = 0.01    # diffusion coefficient\n",
    "x = numpy.linspace(0,1,nx)"
   ]
  },
  {
   "cell_type": "code",
   "execution_count": 10,
   "metadata": {
    "collapsed": true
   },
   "outputs": [],
   "source": [
    "def funcC(x,L):\n",
    "    \n",
    "    C = x*100/L\n",
    "    \n",
    "    return C"
   ]
  },
  {
   "cell_type": "code",
   "execution_count": 11,
   "metadata": {
    "collapsed": true
   },
   "outputs": [],
   "source": [
    "L = 1.0\n",
    "C = funcC(x,L)"
   ]
  },
  {
   "cell_type": "code",
   "execution_count": 12,
   "metadata": {
    "collapsed": false
   },
   "outputs": [
    {
     "data": {
      "image/png": "[encoded data removed]",
      "text/plain": [
       "<matplotlib.figure.Figure at 0x7fbe011ec240>"
      ]
     },
     "metadata": {},
     "output_type": "display_data"
    }
   ],
   "source": [
    "fig = pyplot.figure(figsize=(8,5))\n",
    "ax = pyplot.axes(xlim=(0,1), ylim=(0,100))\n",
    "line = ax.plot([], [], color='#003366', ls='--', lw =3)[0]"
   ]
  },
  {
   "cell_type": "code",
   "execution_count": 13,
   "metadata": {
    "collapsed": true
   },
   "outputs": [],
   "source": [
    "def AD_equation(i):\n",
    "    line.set_data(x,C)\n",
    "    \n",
    "    Cn = C.copy()\n",
    "    C[1:-1] = Cn[1:-1] -\\\n",
    "              u * dt / (2 * dx) * (Cn[2:] - Cn[0:-2]) +\\\n",
    "              D * dt / dx**2 * (Cn[2:] - 2 * Cn[1:-1] + Cn[0:-2])"
   ]
  },
  {
   "cell_type": "code",
   "execution_count": 20,
   "metadata": {
    "collapsed": false
   },
   "outputs": [],
   "source": [
    "anim = animation.FuncAnimation(fig, AD_equation,\n",
    "                               frames=nt, interval=100)"
   ]
  },
  {
   "cell_type": "code",
   "execution_count": 21,
   "metadata": {
    "collapsed": false
   },
   "outputs": [
    {
     "ename": "AttributeError",
     "evalue": "'FuncAnimation' object has no attribute 'to_htm15_video'",
     "output_type": "error",
     "traceback": [
      "\u001b[0;31m-------------------------------------------------------------------------\u001b[0m",
      "\u001b[0;31mAttributeError\u001b[0m                          Traceback (most recent call last)",
      "\u001b[0;32m<ipython-input-21-e959c8a4168d>\u001b[0m in \u001b[0;36m<module>\u001b[0;34m()\u001b[0m\n\u001b[0;32m----> 1\u001b[0;31m \u001b[0mHTML\u001b[0m\u001b[0;34m(\u001b[0m\u001b[0manim\u001b[0m\u001b[0;34m.\u001b[0m\u001b[0mto_htm15_video\u001b[0m\u001b[0;34m(\u001b[0m\u001b[0;34m)\u001b[0m\u001b[0;34m)\u001b[0m\u001b[0;34m\u001b[0m\u001b[0m\n\u001b[0m",
      "\u001b[0;31mAttributeError\u001b[0m: 'FuncAnimation' object has no attribute 'to_htm15_video'"
     ]
    }
   ],
   "source": [
    "HTML(anim.to_htm15_video())"
   ]
  },
  {
   "cell_type": "code",
   "execution_count": null,
   "metadata": {
    "collapsed": true
   },
   "outputs": [],
   "source": []
  }
 ],
 "metadata": {
  "anaconda-cloud": {},
  "kernelspec": {
   "display_name": "Python [default]",
   "language": "python",
   "name": "python3"
  },
  "language_info": {
   "codemirror_mode": {
    "name": "ipython",
    "version": 3
   },
   "file_extension": ".py",
   "mimetype": "text/x-python",
   "name": "python",
   "nbconvert_exporter": "python",
   "pygments_lexer": "ipython3",
   "version": "3.5.2"
  }
 },
 "nbformat": 4,
 "nbformat_minor": 1
}
