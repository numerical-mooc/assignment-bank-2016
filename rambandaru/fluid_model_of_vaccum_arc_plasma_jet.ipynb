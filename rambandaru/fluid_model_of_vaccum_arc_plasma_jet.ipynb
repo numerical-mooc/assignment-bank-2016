{
 "cells": [
  {
   "cell_type": "code",
   "execution_count": 2,
   "metadata": {
    "collapsed": true
   },
   "outputs": [],
   "source": [
    "from matplotlib import pyplot, cm\n",
    "from math import pi\n",
    "import numpy\n",
    "%matplotlib inline\n",
    "from matplotlib import rcParams\n",
    "rcParams['font.family'] = 'serif'\n",
    "rcParams['font.size'] = 16"
   ]
  },
  {
   "cell_type": "markdown",
   "metadata": {
    "collapsed": true
   },
   "source": [
    "# 1D Stefan Problem"
   ]
  },
  {
   "cell_type": "code",
   "execution_count": 24,
   "metadata": {
    "collapsed": false
   },
   "outputs": [],
   "source": [
    "L = 0.001\n",
    "nx = 100\n",
    "dx = L/x\n",
    "t = 0.1\n",
    "dt = 0.5 * dx\n",
    "alphaw = 0.143*10**-6\n",
    "alphav = 2.338*10**-5"
   ]
  },
  {
   "cell_type": "code",
   "execution_count": 56,
   "metadata": {
    "collapsed": false
   },
   "outputs": [
    {
     "data": {
      "text/plain": [
       "array([ -5.00000000e-06,  -4.89898990e-06,  -4.79797980e-06,\n",
       "        -4.69696970e-06,  -4.59595960e-06,  -4.49494949e-06,\n",
       "        -4.39393939e-06,  -4.29292929e-06,  -4.19191919e-06,\n",
       "        -4.09090909e-06,  -3.98989899e-06,  -3.88888889e-06,\n",
       "        -3.78787879e-06,  -3.68686869e-06,  -3.58585859e-06,\n",
       "        -3.48484848e-06,  -3.38383838e-06,  -3.28282828e-06,\n",
       "        -3.18181818e-06,  -3.08080808e-06,  -2.97979798e-06,\n",
       "        -2.87878788e-06,  -2.77777778e-06,  -2.67676768e-06,\n",
       "        -2.57575758e-06,  -2.47474747e-06,  -2.37373737e-06,\n",
       "        -2.27272727e-06,  -2.17171717e-06,  -2.07070707e-06,\n",
       "        -1.96969697e-06,  -1.86868687e-06,  -1.76767677e-06,\n",
       "        -1.66666667e-06,  -1.56565657e-06,  -1.46464646e-06,\n",
       "        -1.36363636e-06,  -1.26262626e-06,  -1.16161616e-06,\n",
       "        -1.06060606e-06,  -9.59595960e-07,  -8.58585859e-07,\n",
       "        -7.57575758e-07,  -6.56565657e-07,  -5.55555556e-07,\n",
       "        -4.54545455e-07,  -3.53535354e-07,  -2.52525253e-07,\n",
       "        -1.51515152e-07,  -5.05050505e-08])"
      ]
     },
     "execution_count": 56,
     "metadata": {},
     "output_type": "execute_result"
    }
   ],
   "source": [
    "#initial conditions\n",
    "x = numpy.linspace(-1,1,nx)\n",
    "#X = numpy.ones(x)\n",
    "Xi = x*dt\n",
    "\n",
    "\n"
   ]
  },
  {
   "cell_type": "code",
   "execution_count": null,
   "metadata": {
    "collapsed": true
   },
   "outputs": [],
   "source": [
    "T = numpy.ones(nx)\n",
    "Tn = numpy.ones(nx)\n",
    "for i in range(Xi):\n",
    "    if Xi < 0:\n",
    "        T[1:-1] = Tn[1:-1] + alpha"
   ]
  }
 ],
 "metadata": {
  "anaconda-cloud": {},
  "kernelspec": {
   "display_name": "Python [default]",
   "language": "python",
   "name": "python3"
  },
  "language_info": {
   "codemirror_mode": {
    "name": "ipython",
    "version": 3
   },
   "file_extension": ".py",
   "mimetype": "text/x-python",
   "name": "python",
   "nbconvert_exporter": "python",
   "pygments_lexer": "ipython3",
   "version": "3.5.2"
  }
 },
 "nbformat": 4,
 "nbformat_minor": 1
}
