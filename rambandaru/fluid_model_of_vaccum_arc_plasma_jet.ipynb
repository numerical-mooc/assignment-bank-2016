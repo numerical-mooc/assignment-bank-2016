{
 "cells": [
  {
   "cell_type": "code",
   "execution_count": 1,
   "metadata": {
    "collapsed": true
   },
   "outputs": [],
   "source": [
    "from matplotlib import pyplot, cm\n",
    "from math import * \n",
    "import numpy\n",
    "#import sympy\n",
    "#from scipy.optimize import brentq\n",
    "%matplotlib inline\n",
    "from matplotlib import rcParams\n",
    "rcParams['font.family'] = 'serif'\n",
    "rcParams['font.size'] = 16"
   ]
  },
  {
   "cell_type": "markdown",
   "metadata": {
    "collapsed": true
   },
   "source": [
    "# 1D Stefan Problem"
   ]
  },
  {
   "cell_type": "code",
   "execution_count": 28,
   "metadata": {
    "collapsed": false
   },
   "outputs": [],
   "source": [
    "t = numpy.linspace(0,0.1,100)\n",
    "alphav = 2.06*10**-5\n",
    "Cp = 2030\n",
    "Tw = 383.15\n",
    "Tsat = 373.15\n",
    "L = 2.26*10**6"
   ]
  },
  {
   "cell_type": "code",
   "execution_count": 29,
   "metadata": {
    "collapsed": false
   },
   "outputs": [
    {
     "data": {
      "text/plain": [
       "0.0050677205955838292"
      ]
     },
     "execution_count": 29,
     "metadata": {},
     "output_type": "execute_result"
    }
   ],
   "source": [
    "(Cp*(Tw-Tsat))/(numpy.sqrt(numpy.pi)*L)"
   ]
  },
  {
   "cell_type": "markdown",
   "metadata": {
    "collapsed": true
   },
   "source": [
    "#Transcedental Equation\n",
    "#from sympy import init_printing\n",
    "#init_printing ()"
   ]
  },
  {
   "cell_type": "code",
   "execution_count": 30,
   "metadata": {
    "collapsed": false
   },
   "outputs": [],
   "source": [
    "#chi = sympy.symbols('chi')\n",
    "#chi = (Cp*(Tw-Tsat))/(numpy.sqrt(numpy.pi)*L)*(sympy.erf(chi)*sympy.exp(chi**2))\n",
    "#chi"
   ]
  },
  {
   "cell_type": "code",
   "execution_count": 31,
   "metadata": {
    "collapsed": false
   },
   "outputs": [],
   "source": [
    "chi = 0.0664\n",
    "#interface position theoritically\n",
    "X = 2*chi*(numpy.sqrt(alphav*t))"
   ]
  },
  {
   "cell_type": "code",
   "execution_count": 32,
   "metadata": {
    "collapsed": false
   },
   "outputs": [],
   "source": [
    "#Temperature distribution theoritically\n",
    "#T = Tw +((Tsat-Tw)/math.erf(chi))*math.erf(chi/2*(numpy.sqrt(alphav*0.1)))\n",
    "#T"
   ]
  },
  {
   "cell_type": "code",
   "execution_count": 40,
   "metadata": {
    "collapsed": false
   },
   "outputs": [
    {
     "data": {
      "text/plain": [
       "(0.0, 0.1)"
      ]
     },
     "execution_count": 40,
     "metadata": {},
     "output_type": "execute_result"
    },
    {
     "data": {
      "image/png": "[encoded data removed]",
      "text/plain": [
       "<matplotlib.figure.Figure at 0x7f9006523da0>"
      ]
     },
     "metadata": {},
     "output_type": "display_data"
    }
   ],
   "source": [
    "pyplot.plot(t,X)\n",
    "pyplot.xlim(0.0,0.1)"
   ]
  },
  {
   "cell_type": "code",
   "execution_count": 41,
   "metadata": {
    "collapsed": false
   },
   "outputs": [
    {
     "data": {
      "text/plain": [
       "5e-06"
      ]
     },
     "execution_count": 41,
     "metadata": {},
     "output_type": "execute_result"
    }
   ],
   "source": [
    "#Numerical Solution\n",
    "l = 0.001\n",
    "nx = 100\n",
    "dx = l/nx\n",
    "dt = 0.5 * dx\n",
    "alphaw = 0.17*10**-6\n",
    "dt"
   ]
  },
  {
   "cell_type": "code",
   "execution_count": 35,
   "metadata": {
    "collapsed": false
   },
   "outputs": [
    {
     "data": {
      "text/plain": [
       "array([ -0.00000000e+00,  -6.41839515e-08,  -1.28367903e-07,\n",
       "        -1.92551855e-07,  -2.56735806e-07,  -3.20919758e-07,\n",
       "        -3.85103709e-07,  -4.49287661e-07,  -5.13471612e-07,\n",
       "        -5.77655564e-07,  -6.41839515e-07,  -7.06023467e-07,\n",
       "        -7.70207418e-07,  -8.34391370e-07,  -8.98575321e-07,\n",
       "        -9.62759273e-07,  -1.02694322e-06,  -1.09112718e-06,\n",
       "        -1.15531113e-06,  -1.21949508e-06,  -1.28367903e-06,\n",
       "        -1.34786298e-06,  -1.41204693e-06,  -1.47623089e-06,\n",
       "        -1.54041484e-06,  -1.60459879e-06,  -1.66878274e-06,\n",
       "        -1.73296669e-06,  -1.79715064e-06,  -1.86133459e-06,\n",
       "        -1.92551855e-06,  -1.98970250e-06,  -2.05388645e-06,\n",
       "        -2.11807040e-06,  -2.18225435e-06,  -2.24643830e-06,\n",
       "        -2.31062226e-06,  -2.37480621e-06,  -2.43899016e-06,\n",
       "        -2.50317411e-06,  -2.56735806e-06,  -2.63154201e-06,\n",
       "        -2.69572596e-06,  -2.75990992e-06,  -2.82409387e-06,\n",
       "        -2.88827782e-06,  -2.95246177e-06,  -3.01664572e-06,\n",
       "        -3.08082967e-06,  -3.14501363e-06,  -3.20919758e-06,\n",
       "        -3.27338153e-06,  -3.33756548e-06,  -3.40174943e-06,\n",
       "        -3.46593338e-06,  -3.53011733e-06,  -3.59430129e-06,\n",
       "        -3.65848524e-06,  -3.72266919e-06,  -3.78685314e-06,\n",
       "        -3.85103709e-06,  -3.91522104e-06,  -3.97940500e-06,\n",
       "        -4.04358895e-06,  -4.10777290e-06,  -4.17195685e-06,\n",
       "        -4.23614080e-06,  -4.30032475e-06,  -4.36450870e-06,\n",
       "        -4.42869266e-06,  -4.49287661e-06,  -4.55706056e-06,\n",
       "        -4.62124451e-06,  -4.68542846e-06,  -4.74961241e-06,\n",
       "        -4.81379637e-06,  -4.87798032e-06,  -4.94216427e-06,\n",
       "        -5.00634822e-06,  -5.07053217e-06,  -5.13471612e-06,\n",
       "        -5.19890007e-06,  -5.26308403e-06,  -5.32726798e-06,\n",
       "        -5.39145193e-06,  -5.45563588e-06,  -5.51981983e-06,\n",
       "        -5.58400378e-06,  -5.64818774e-06,  -5.71237169e-06,\n",
       "        -5.77655564e-06,  -5.84073959e-06,  -5.90492354e-06,\n",
       "        -5.96910749e-06,  -6.03329144e-06,  -6.09747540e-06,\n",
       "        -6.16165935e-06,  -6.22584330e-06,  -6.29002725e-06,\n",
       "        -6.35421120e-06])"
      ]
     },
     "execution_count": 35,
     "metadata": {},
     "output_type": "execute_result"
    }
   ],
   "source": [
    "#Solving transcedental equation to find out the interface distance\n",
    "chi = -0.007\n",
    "XI = 2*chi*(numpy.sqrt(alphav)*t)\n",
    "XI"
   ]
  },
  {
   "cell_type": "code",
   "execution_count": 38,
   "metadata": {
    "collapsed": false
   },
   "outputs": [
    {
     "data": {
      "text/plain": [
       "(100,)"
      ]
     },
     "execution_count": 38,
     "metadata": {},
     "output_type": "execute_result"
    }
   ],
   "source": [
    "x = numpy.linspace(0,10,nx)\n",
    "numpy.shape(x)"
   ]
  },
  {
   "cell_type": "code",
   "execution_count": null,
   "metadata": {
    "collapsed": true
   },
   "outputs": [],
   "source": []
  },
  {
   "cell_type": "code",
   "execution_count": null,
   "metadata": {
    "collapsed": true
   },
   "outputs": [],
   "source": []
  },
  {
   "cell_type": "code",
   "execution_count": null,
   "metadata": {
    "collapsed": false
   },
   "outputs": [],
   "source": [
    "#initial conditions\n",
    "\n",
    "#X = numpy.ones(x)\n",
    "#Xi = x*dt #interface moving w.r.t time\n",
    "\n",
    "#Theoritical Interface motion \n",
    "\n",
    "\n",
    "XT = (Cp * (Tw - Tsat))/(numpy.sqrt(numpy.pi)*L)\n",
    "\n",
    "XI = 2 * XT*(numpy.sqrt(alphav*t))\n",
    "XI\n",
    "\n",
    "# Theoritical Temperature Distribution\n",
    "Td = Tw + ((Tsat-T)/XT)*(XT/XI)"
   ]
  },
  {
   "cell_type": "code",
   "execution_count": null,
   "metadata": {
    "collapsed": true
   },
   "outputs": [],
   "source": []
  },
  {
   "cell_type": "code",
   "execution_count": null,
   "metadata": {
    "collapsed": false
   },
   "outputs": [],
   "source": []
  },
  {
   "cell_type": "code",
   "execution_count": null,
   "metadata": {
    "collapsed": true
   },
   "outputs": [],
   "source": []
  }
 ],
 "metadata": {
  "anaconda-cloud": {},
  "kernelspec": {
   "display_name": "Python [default]",
   "language": "python",
   "name": "python3"
  },
  "language_info": {
   "codemirror_mode": {
    "name": "ipython",
    "version": 3
   },
   "file_extension": ".py",
   "mimetype": "text/x-python",
   "name": "python",
   "nbconvert_exporter": "python",
   "pygments_lexer": "ipython3",
   "version": "3.5.2"
  }
 },
 "nbformat": 4,
 "nbformat_minor": 1
}
