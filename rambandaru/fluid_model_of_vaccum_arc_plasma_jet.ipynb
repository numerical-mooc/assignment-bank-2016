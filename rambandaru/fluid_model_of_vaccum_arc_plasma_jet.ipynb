{
 "cells": [
  {
   "cell_type": "code",
   "execution_count": 1,
   "metadata": {
    "collapsed": true
   },
   "outputs": [],
   "source": [
    "from matplotlib import pyplot, cm\n",
    "from math import * \n",
    "import numpy\n",
    "#import sympy\n",
    "#from scipy.optimize import brentq\n",
    "%matplotlib inline\n",
    "from matplotlib import rcParams\n",
    "rcParams['font.family'] = 'serif'\n",
    "rcParams['font.size'] = 16"
   ]
  },
  {
   "cell_type": "markdown",
   "metadata": {
    "collapsed": true
   },
   "source": [
    "# 1D Stefan Problem"
   ]
  },
  {
   "cell_type": "code",
   "execution_count": 21,
   "metadata": {
    "collapsed": false
   },
   "outputs": [],
   "source": [
    "t = 0.1\n",
    "alpha1 = 2.06*10**-5\n",
    "Cp = 2030\n",
    "Tw = 383.15\n",
    "Tsat = 373.15\n",
    "L = 2.26*10**6"
   ]
  },
  {
   "cell_type": "code",
   "execution_count": 22,
   "metadata": {
    "collapsed": false
   },
   "outputs": [
    {
     "data": {
      "text/plain": [
       "0.0050677205955838292"
      ]
     },
     "execution_count": 22,
     "metadata": {},
     "output_type": "execute_result"
    }
   ],
   "source": [
    "(Cp*(Tw-Tsat))/(numpy.sqrt(numpy.pi)*L)"
   ]
  },
  {
   "cell_type": "markdown",
   "metadata": {
    "collapsed": true
   },
   "source": [
    "#Transcedental Equation\n",
    "#from sympy import init_printing\n",
    "#init_printing ()"
   ]
  },
  {
   "cell_type": "code",
   "execution_count": 23,
   "metadata": {
    "collapsed": false
   },
   "outputs": [],
   "source": [
    "#chi = sympy.symbols('chi')\n",
    "#chi = (Cp*(Tw-Tsat))/(numpy.sqrt(numpy.pi)*L)*(sympy.erf(chi)*sympy.exp(chi**2))\n",
    "#chi"
   ]
  },
  {
   "cell_type": "code",
   "execution_count": 25,
   "metadata": {
    "collapsed": false
   },
   "outputs": [],
   "source": [
    "chi = 0.0669161\n",
    "#interface position theoritically\n",
    "X = 2*chi*(numpy.sqrt(alpha1*t))"
   ]
  },
  {
   "cell_type": "code",
   "execution_count": 26,
   "metadata": {
    "collapsed": false
   },
   "outputs": [],
   "source": [
    "#Temperature distribution theoritically\n",
    "#T = Tw +((Tsat-Tw)/math.erf(chi))*math.erf(chi/2*(numpy.sqrt(alphav*0.1)))\n",
    "#T"
   ]
  },
  {
   "cell_type": "code",
   "execution_count": 27,
   "metadata": {
    "collapsed": false
   },
   "outputs": [
    {
     "data": {
      "text/plain": [
       "(0.0, 0.1)"
      ]
     },
     "execution_count": 27,
     "metadata": {},
     "output_type": "execute_result"
    },
    {
     "data": {
      "image/png": "[encoded data removed]",
      "text/plain": [
       "<matplotlib.figure.Figure at 0x7f9f6b013748>"
      ]
     },
     "metadata": {},
     "output_type": "display_data"
    }
   ],
   "source": [
    "pyplot.plot(t,X)\n",
    "pyplot.xlim(0.0,0.1)"
   ]
  },
  {
   "cell_type": "code",
   "execution_count": 32,
   "metadata": {
    "collapsed": false
   },
   "outputs": [
    {
     "name": "stderr",
     "output_type": "stream",
     "text": [
      "/home/gil/anaconda3/lib/python3.5/site-packages/numpy/core/_methods.py:26: VisibleDeprecationWarning: using a non-integer number instead of an integer will result in an error in the future\n",
      "  return umr_maximum(a, axis, None, out, keepdims)\n"
     ]
    }
   ],
   "source": [
    "#Numerical Solution\n",
    "l = 0.001\n",
    "nx = 100\n",
    "dx = l/nx\n",
    "nt = int(t/dt)\n",
    "alpha2 = 0.17*10**-6\n",
    "dt = (dx**2*0.05)/(numpy.max(alpha1,alpha2))"
   ]
  },
  {
   "cell_type": "code",
   "execution_count": 34,
   "metadata": {
    "collapsed": false
   },
   "outputs": [
    {
     "data": {
      "text/plain": [
       "6.0742571454236452e-05"
      ]
     },
     "execution_count": 34,
     "metadata": {},
     "output_type": "execute_result"
    }
   ],
   "source": [
    "#Solving transcedental equation to find out the interface distance\n",
    "for tstep in range(0,nt):\n",
    "    XI = 2*chi*(numpy.sqrt(alpha1)*(tstep*dt))\n",
    "XI"
   ]
  },
  {
   "cell_type": "code",
   "execution_count": null,
   "metadata": {
    "collapsed": false
   },
   "outputs": [],
   "source": [
    "x = numpy.linspace(0,10,nx)\n",
    "numpy.shape(x)"
   ]
  },
  {
   "cell_type": "code",
   "execution_count": null,
   "metadata": {
    "collapsed": true
   },
   "outputs": [],
   "source": [
    "for i in range(nx):\n",
    "    xt[1:-1] = X "
   ]
  },
  {
   "cell_type": "code",
   "execution_count": null,
   "metadata": {
    "collapsed": true
   },
   "outputs": [],
   "source": []
  },
  {
   "cell_type": "code",
   "execution_count": null,
   "metadata": {
    "collapsed": false
   },
   "outputs": [],
   "source": [
    "#initial conditions\n",
    "\n",
    "#X = numpy.ones(x)\n",
    "#Xi = x*dt #interface moving w.r.t time\n",
    "\n",
    "#Theoritical Interface motion \n",
    "\n",
    "\n",
    "XT = (Cp * (Tw - Tsat))/(numpy.sqrt(numpy.pi)*L)\n",
    "\n",
    "XI = 2 * XT*(numpy.sqrt(alphav*t))\n",
    "XI\n",
    "\n",
    "# Theoritical Temperature Distribution\n",
    "Td = Tw + ((Tsat-T)/XT)*(XT/XI)"
   ]
  },
  {
   "cell_type": "code",
   "execution_count": null,
   "metadata": {
    "collapsed": true
   },
   "outputs": [],
   "source": []
  },
  {
   "cell_type": "code",
   "execution_count": null,
   "metadata": {
    "collapsed": false
   },
   "outputs": [],
   "source": []
  },
  {
   "cell_type": "code",
   "execution_count": null,
   "metadata": {
    "collapsed": true
   },
   "outputs": [],
   "source": []
  }
 ],
 "metadata": {
  "anaconda-cloud": {},
  "kernelspec": {
   "display_name": "Python [default]",
   "language": "python",
   "name": "python3"
  },
  "language_info": {
   "codemirror_mode": {
    "name": "ipython",
    "version": 3
   },
   "file_extension": ".py",
   "mimetype": "text/x-python",
   "name": "python",
   "nbconvert_exporter": "python",
   "pygments_lexer": "ipython3",
   "version": "3.5.2"
  }
 },
 "nbformat": 4,
 "nbformat_minor": 1
}
