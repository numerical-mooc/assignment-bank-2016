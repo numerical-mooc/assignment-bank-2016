{
 "cells": [
  {
   "cell_type": "code",
   "execution_count": 7,
   "metadata": {
    "collapsed": true
   },
   "outputs": [],
   "source": [
    "from matplotlib import pyplot, cm\n",
    "import math \n",
    "import numpy\n",
    "import sympy\n",
    "#from scipy.optimize import brentq\n",
    "%matplotlib inline\n",
    "from matplotlib import rcParams\n",
    "rcParams['font.family'] = 'serif'\n",
    "rcParams['font.size'] = 16"
   ]
  },
  {
   "cell_type": "markdown",
   "metadata": {
    "collapsed": true
   },
   "source": [
    "# 1D Stefan Problem"
   ]
  },
  {
   "cell_type": "code",
   "execution_count": 12,
   "metadata": {
    "collapsed": false
   },
   "outputs": [],
   "source": [
    "l = 0.001\n",
    "nx = 100\n",
    "dx = l/nx\n",
    "t = 1\n",
    "dt = 0.5 * dx\n",
    "alphaw = 0.17*10**-6\n",
    "alphav = 2.06*10**-5\n",
    "#Cp = 2030\n",
    "#Tw = 383.15\n",
    "#Tsat = 373.15\n",
    "#L = 2.26*10**6"
   ]
  },
  {
   "cell_type": "code",
   "execution_count": 13,
   "metadata": {
    "collapsed": false
   },
   "outputs": [],
   "source": [
    "from sympy import init_printing\n",
    "init_printing()"
   ]
  },
  {
   "cell_type": "code",
   "execution_count": null,
   "metadata": {
    "collapsed": true
   },
   "outputs": [],
   "source": []
  },
  {
   "cell_type": "code",
   "execution_count": 16,
   "metadata": {
    "collapsed": false
   },
   "outputs": [
    {
     "data": {
      "image/png": "[encoded data removed]",
      "text/latex": [
       "$$\\frac{0.564189583547756 Cp \\left(- Tsat + Tw\\right) e^{- \\chi^{2}}}{L \\chi \\operatorname{erf}{\\left (\\chi \\right )}}$$"
      ],
      "text/plain": [
       "                                     2\n",
       "                                   -χ \n",
       "0.564189583547756⋅Cp⋅(-Tsat + Tw)⋅ℯ   \n",
       "──────────────────────────────────────\n",
       "              L⋅χ⋅erf(χ)              "
      ]
     },
     "execution_count": 16,
     "metadata": {},
     "output_type": "execute_result"
    }
   ],
   "source": [
    "chi, L, Tw, Tsat, Cp,  = sympy.symbols(\"chi L Tw Tsat Cp\")\n",
    "#a= ((Cp*(Tw-Tsat))/(numpy.sqrt(numpy.pi)*L))/(chi*sympy.exp(chi**2)*sympy.erf(chi))\n",
    "a = ((Cp*(Tw-Tsat))/(numpy.sqrt(math.pi)*L)(chi*sympy.exp(chi**2)*sympy.erf(chi))\n",
    "a"
   ]
  },
  {
   "cell_type": "code",
   "execution_count": 4,
   "metadata": {
    "collapsed": false
   },
   "outputs": [
    {
     "name": "stdout",
     "output_type": "stream",
     "text": [
      "0.00506772059558383*exp(-chi**2)/(chi*erf(chi))\n"
     ]
    }
   ],
   "source": [
    "from sympy.utilities.lambdify import lambdify\n",
    "a\n",
    "print (a)"
   ]
  },
  {
   "cell_type": "code",
   "execution_count": null,
   "metadata": {
    "collapsed": false
   },
   "outputs": [],
   "source": []
  },
  {
   "cell_type": "code",
   "execution_count": null,
   "metadata": {
    "collapsed": true
   },
   "outputs": [],
   "source": []
  },
  {
   "cell_type": "code",
   "execution_count": null,
   "metadata": {
    "collapsed": true
   },
   "outputs": [],
   "source": []
  },
  {
   "cell_type": "code",
   "execution_count": 5,
   "metadata": {
    "collapsed": false
   },
   "outputs": [
    {
     "ename": "NameError",
     "evalue": "name 'T' is not defined",
     "output_type": "error",
     "traceback": [
      "\u001b[0;31m---------------------------------------------------------------------------\u001b[0m",
      "\u001b[0;31mNameError\u001b[0m                                 Traceback (most recent call last)",
      "\u001b[0;32m<ipython-input-5-1b4fe1514c76>\u001b[0m in \u001b[0;36m<module>\u001b[0;34m()\u001b[0m\n\u001b[1;32m     13\u001b[0m \u001b[0;34m\u001b[0m\u001b[0m\n\u001b[1;32m     14\u001b[0m \u001b[0;31m# Theoritical Temperature Distribution\u001b[0m\u001b[0;34m\u001b[0m\u001b[0;34m\u001b[0m\u001b[0m\n\u001b[0;32m---> 15\u001b[0;31m \u001b[0mTd\u001b[0m \u001b[0;34m=\u001b[0m \u001b[0mTw\u001b[0m \u001b[0;34m+\u001b[0m \u001b[0;34m(\u001b[0m\u001b[0;34m(\u001b[0m\u001b[0mTsat\u001b[0m\u001b[0;34m-\u001b[0m\u001b[0mT\u001b[0m\u001b[0;34m)\u001b[0m\u001b[0;34m/\u001b[0m\u001b[0mXT\u001b[0m\u001b[0;34m)\u001b[0m\u001b[0;34m*\u001b[0m\u001b[0;34m(\u001b[0m\u001b[0mXT\u001b[0m\u001b[0;34m/\u001b[0m\u001b[0mXI\u001b[0m\u001b[0;34m)\u001b[0m\u001b[0;34m\u001b[0m\u001b[0m\n\u001b[0m",
      "\u001b[0;31mNameError\u001b[0m: name 'T' is not defined"
     ]
    }
   ],
   "source": [
    "#initial conditions\n",
    "x = numpy.linspace(-10,10,nx)\n",
    "#X = numpy.ones(x)\n",
    "#Xi = x*dt #interface moving w.r.t time\n",
    "\n",
    "#Theoritical Interface motion \n",
    "\n",
    "\n",
    "XT = (Cp * (Tw - Tsat))/(numpy.sqrt(numpy.pi)*L)\n",
    "\n",
    "XI = 2 * XT*(numpy.sqrt(alphav*t))\n",
    "XI\n",
    "\n",
    "# Theoritical Temperature Distribution\n",
    "Td = Tw + ((Tsat-T)/XT)*(XT/XI)"
   ]
  },
  {
   "cell_type": "code",
   "execution_count": null,
   "metadata": {
    "collapsed": true
   },
   "outputs": [],
   "source": []
  },
  {
   "cell_type": "code",
   "execution_count": null,
   "metadata": {
    "collapsed": false
   },
   "outputs": [],
   "source": [
    "T = numpy.ones(nx)\n",
    "Tn = numpy.ones(nx)\n",
    "for i in range(nx):\n",
    "    Tn = T.copy()\n",
    "    if Xi < 0:\n",
    "        T[1:-1] = Tn[1:-1] + alphaw*dt/dx**2*(Tn[2:]-2*Tn[1:-1]+Tn[0:-2])\n",
    "    else:\n",
    "        T[1:-1] = Tn[1:-1] + alphav*dt/dx**2*(Tn[2:]-2*Tn[1:-1]+Tn[0:-2])\n",
    "        \n",
    "print(T)"
   ]
  },
  {
   "cell_type": "code",
   "execution_count": null,
   "metadata": {
    "collapsed": true
   },
   "outputs": [],
   "source": []
  }
 ],
 "metadata": {
  "anaconda-cloud": {},
  "kernelspec": {
   "display_name": "Python [default]",
   "language": "python",
   "name": "python3"
  },
  "language_info": {
   "codemirror_mode": {
    "name": "ipython",
    "version": 3
   },
   "file_extension": ".py",
   "mimetype": "text/x-python",
   "name": "python",
   "nbconvert_exporter": "python",
   "pygments_lexer": "ipython3",
   "version": "3.5.2"
  }
 },
 "nbformat": 4,
 "nbformat_minor": 1
}
