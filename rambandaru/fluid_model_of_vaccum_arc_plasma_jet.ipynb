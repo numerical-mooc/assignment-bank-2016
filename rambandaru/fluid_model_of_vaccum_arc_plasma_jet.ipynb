{
 "cells": [
  {
   "cell_type": "code",
   "execution_count": null,
   "metadata": {
    "collapsed": true
   },
   "outputs": [],
   "source": [
    "from matplotlib import pyplot, cm\n",
    "from math import pi\n",
    "import numpy\n",
    "%matplotlib inline\n",
    "from matplotlib import rcParams\n",
    "rcParams['font.family'] = 'serif'\n",
    "rcParams['font.size'] = 16"
   ]
  },
  {
   "cell_type": "markdown",
   "metadata": {
    "collapsed": true
   },
   "source": [
    "# 1D Stefan Problem"
   ]
  },
  {
   "cell_type": "code",
   "execution_count": null,
   "metadata": {
    "collapsed": false
   },
   "outputs": [],
   "source": [
    "L = 0.001\n",
    "nx = 100\n",
    "dx = L/nx\n",
    "t = 1\n",
    "dt = 0.5 * dx\n",
    "alphaw = 0.143*10**-6\n",
    "alphav = 2.338*10**-5"
   ]
  },
  {
   "cell_type": "code",
   "execution_count": null,
   "metadata": {
    "collapsed": false
   },
   "outputs": [],
   "source": [
    "#initial conditions\n",
    "x = numpy.linspace(-10,10,nx)\n",
    "#X = numpy.ones(x)\n",
    "Xi = x*dt\n",
    "\n",
    "\n"
   ]
  },
  {
   "cell_type": "code",
   "execution_count": null,
   "metadata": {
    "collapsed": false
   },
   "outputs": [],
   "source": [
    "T = numpy.ones(nx)\n",
    "Tn = numpy.ones(nx)\n",
    "for i in range(nx):\n",
    "    Tn = T.copy()\n",
    "    if Xi < 0:\n",
    "        T[1:-1] = Tn[1:-1] + alphaw*dt/dx**2*(Tn[2:]-2*Tn[1:-1]+Tn[0:-2])\n",
    "    else:\n",
    "        T[1:-1] = Tn[1:-1] + alphav*dt/dx**2*(Tn[2:]-2*Tn[1:-1]+Tn[0:-2])\n",
    "        \n",
    "print(T)"
   ]
  },
  {
   "cell_type": "code",
   "execution_count": null,
   "metadata": {
    "collapsed": true
   },
   "outputs": [],
   "source": []
  }
 ],
 "metadata": {
  "anaconda-cloud": {},
  "kernelspec": {
   "display_name": "Python [default]",
   "language": "python",
   "name": "python3"
  },
  "language_info": {
   "codemirror_mode": {
    "name": "ipython",
    "version": 3
   },
   "file_extension": ".py",
   "mimetype": "text/x-python",
   "name": "python",
   "nbconvert_exporter": "python",
   "pygments_lexer": "ipython3",
   "version": "3.5.2"
  }
 },
 "nbformat": 4,
 "nbformat_minor": 1
}
