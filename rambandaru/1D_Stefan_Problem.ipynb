{
 "cells": [
  {
   "cell_type": "markdown",
   "metadata": {},
   "source": [
    "#  <font color='Blue' align='right'>1D Stefan Problem </font> "
   ]
  },
  {
   "cell_type": "markdown",
   "metadata": {},
   "source": [
    "## <font color='olive'> Introduction </font>"
   ]
  },
  {
   "cell_type": "markdown",
   "metadata": {},
   "source": [
    "In general, due to temperature variance matter is subjected to phase chage. Therefore, a boundary is developed seperating the two phases of matter. This boundary act as an interface. The position of interface is determined as function of time. Stefan problem genrally used to determine the temperature distribution in phase change models.\n",
    "\n",
    "In this problem, the vapor and liquid are taken in a free slip tube as shown in figure. <img src=\"./1d stefan problem.jpg\"style=\"width: 300px,right;\"/> Temprature of the wall $T_{wall}$ is set to constant which is greater than saturation temperature $T_{sat}$. $T_{sat}$ is the inital temperature of the liquid phase.\n",
    "At time t=0, the vapour and liquid are constant. at time $t>0$, the liquid will boil at the interface,and due to heat flux and volume expansion the interface will move towards the tube outlet."
   ]
  },
  {
   "cell_type": "code",
   "execution_count": 31,
   "metadata": {
    "collapsed": true
   },
   "outputs": [],
   "source": [
    "from matplotlib import pyplot, cm\n",
    "from math import * \n",
    "import numpy\n",
    "%matplotlib inline\n",
    "from scipy.special import erf\n",
    "from matplotlib import rcParams\n",
    "rcParams['font.family'] = 'serif'\n",
    "rcParams['font.size'] = 16"
   ]
  },
  {
   "cell_type": "markdown",
   "metadata": {},
   "source": [
    "## <font color='olive'> Theoritical Solution </font>"
   ]
  },
  {
   "cell_type": "markdown",
   "metadata": {
    "collapsed": true
   },
   "source": [
    "The intrace postion and Temperature distribution is calculated from the theoritical formula.\n",
    "$$X_I = 2 \\chi \\sqrt{\\alpha_V*t} \\quad \\quad \\quad \\quad \\quad (1)$$\n",
    "\n",
    "$$T = T_{wall} + \\frac{T_{wall}-T_{sat}}{erf(\\chi)}erf (\\frac{\\chi}{2\\sqrt{\\alpha_V*t}}) \\quad \\quad  (2)$$\n",
    "\n",
    "$\\chi$ is calcuated from transcedental equation\n",
    "$$\\chi \\exp{(\\chi^2)} erf(\\chi) = \\frac{C_{pv} (T_{wall}-T_{sat})}{\\sqrt{\\pi L}}$$\n",
    "$L$ = latent heat of the vaporization, $C_{pv}$=The specific heat capacity of the vapor,$\\alpha_v$ = thermal diffusitivity of the vapour,"
   ]
  },
  {
   "cell_type": "code",
   "execution_count": 5,
   "metadata": {
    "collapsed": true
   },
   "outputs": [],
   "source": [
    "t = 0.1                           #time\n",
    "alpha1 = 2.06*10**-5              #thermal diffusitivity of vapour\n",
    "alpha2 = 0.17*10**-6              #thermal diffusitivity of water\n",
    "Cp = 2030                         #The specific heat capacity of the vapor\n",
    "Tw = 383.15                       #wall temperature\n",
    "Tsat = 373.15                     #saturation temperature\n",
    "L = 2.26*10**6                    #Latent Heat\n",
    "chi = 0.0669161                   #value calculated from eqn 3\n"
   ]
  },
  {
   "cell_type": "markdown",
   "metadata": {},
   "source": [
    "Initial parameters are set:"
   ]
  },
  {
   "cell_type": "code",
   "execution_count": 6,
   "metadata": {
    "collapsed": false
   },
   "outputs": [],
   "source": [
    "#initial conditions \n",
    "l = 0.001                         #Length of the Domain\n",
    "nx = 100                          #number of points\n",
    "dx = l/nx\n",
    "dt = (dx**2*0.05)/(max(alpha1,alpha2))\n",
    "nt = int(t/dt)                    #Time steps\n"
   ]
  },
  {
   "cell_type": "code",
   "execution_count": 7,
   "metadata": {
    "collapsed": false
   },
   "outputs": [],
   "source": [
    "#For calculating the interface position;\n",
    "nt = int(t/dt)\n",
    "for tstep in range(1,nt):\n",
    "    XItheo = 2*chi*(sqrt(alpha1*tstep*dt))"
   ]
  },
  {
   "cell_type": "code",
   "execution_count": 8,
   "metadata": {
    "collapsed": false
   },
   "outputs": [],
   "source": [
    "x = numpy.linspace(0,0.001,nx)\n",
    "\n",
    "Ttheo = Tw  + ((Tsat-Tw)/erf(chi))*erf(x/(2*sqrt(alpha1*t)))\n",
    "\n",
    "for i in range (0,nx):\n",
    "    if Ttheo[i]<Tsat:\n",
    "        Ttheo[i]=Tsat"
   ]
  },
  {
   "cell_type": "markdown",
   "metadata": {},
   "source": [
    "## <font color='olive'> Numerical Solution </font>"
   ]
  },
  {
   "cell_type": "markdown",
   "metadata": {},
   "source": [
    "The numerical solution for 1D Stefan is calculated by discretizing the goverining equation $$\\frac{\\partial T}{\\partial t} = \\frac{\\partial }{\\partial x}( \\alpha\\frac{\\partial T}{\\partial x}) \\quad \\quad \\quad  (3)$$;\n",
    "\n",
    "The heat equation is modified  in this problem to avoid the jumps in temperature distribution as shown in fig 1."
   ]
  },
  {
   "cell_type": "markdown",
   "metadata": {},
   "source": [
    "In the first step we find the position of the interface using the $eqn (1)$. from the interface postion we calculate the distance to the grid point, Disatance$(\\phi_i)$. The governing equation's discretization in the following manner; "
   ]
  },
  {
   "cell_type": "markdown",
   "metadata": {
    "collapsed": true
   },
   "source": [
    "$Case 1$\n",
    "<img src=\"./p11.jpg\"style=\"width: 300px,;\"/>\n",
    "fig shows the stencil when everything is present in the vapor phase. Then the discretization for the diffusivity is as follows:\n",
    "\n",
    "$$\\frac{\\partial}{\\partial x}(\\alpha \\frac{\\partial T}{\\partial x}) = \\frac{\\alpha_1 (\\frac{T_{i+1}-T_i}{dx})-\\alpha_1 (\\frac{T_i-T_{i-1}}{dx})}{dx} $$\n",
    "\n",
    "The final Discretized equation is:\n",
    "$$T[i] = T[old_i] + dt \\frac{\\alpha_1 (\\frac{T_{i+1}-T_i}{dx})-\\alpha_1 (\\frac{T_i-T_{i-1}}{dx})}{dx} \\quad \\quad \\quad \\quad  (4)$$\n",
    "\n",
    "$Case 2$\n",
    "\n",
    "when everything is present in the liquid phase. Then the discretization for the diffusivity is as follows:\n",
    "\n",
    "$$\\frac{\\partial}{\\partial x}(\\alpha \\frac{\\partial T}{\\partial x}) = \\frac{\\alpha_2 (\\frac{T_{i+1}-T_i}{dx})-\\alpha_2 (\\frac{T_i-T_{i-1}}{dx})}{dx} $$\n",
    "\n",
    "$$T[i] = T[old_i] + dt \\frac{\\alpha_2 (\\frac{T_{i+1}-T_i}{dx})-\\alpha_2 (\\frac{T_i-T_{i-1}}{dx})}{dx} \\quad \\quad \\quad \\quad \\quad (5) $$\n",
    "$Case 3$\n",
    "\n",
    "When the interface is in between $(\\phi_i)$ and $(\\phi_{i+1})$\n",
    "\n",
    "if $(\\phi_i)*(\\phi_{i+1}) \\leq 0$\n",
    "the stencil looks as follows <img src=\"./Phase 3.jpg\"style=\"width: 300px,;\"/>\n",
    "In typical multiphase problems, There will be a jump in temperature and insatbility occurs.\n",
    "Hence, all the thermal properties are diffused at the interface to get the stability.\n",
    "Therefore the equation is discretized as follow,\n",
    "$$\\frac{\\partial}{\\partial x} (\\alpha_{(i+I)/2} \\frac{\\partial T}{\\partial x}) \\quad \\quad \\quad \\quad \\quad \\quad \\quad \\quad \\quad \\quad \\quad \\quad \\quad \\quad \\quad \\quad \\quad(6)$$\n",
    "\n",
    "let $$abs(\\phi_i)+(abs(\\phi_{i+1}) = dx$$\n",
    "\n",
    "for convinience; we consider the ratio of distance from interface to the ratio the disatance between grid points as \"$\\theta$\"\n",
    "therefore $$\\theta = \\frac{abs(\\phi_i)}{abs(\\phi_i)+(abs(\\phi_{i+1})} \\quad \\quad \\quad \\quad \\quad \\quad \\quad \\quad(7)$$\n",
    "\n",
    "discretizing the diffusivity term at $i+1$\n",
    "$$\\frac{\\partial T}{\\partial x} = \\frac{T_{sat}-T_i}{abs(\\phi_i)} \\quad \\quad \\quad \\quad  \\quad \\quad \\quad \\quad \\quad \\quad \\quad \\quad \\quad(8)$$\n",
    "\n",
    "discretizing the alpha:\n",
    "$$\\alpha_{(i+I)/2} = (\\alpha_i + \\alpha I)/2 \\quad \\quad \\quad \\quad \\quad \\quad \\quad \\quad\\quad \\quad \\quad \\quad \\quad \\quad(9)$$ \n",
    "$\\alpha I = \\alpha$ at interface $\\quad$ $\\alpha_i = \\alpha$ at the point $i$ \n",
    "\n",
    "$$\\alpha_I = \\frac{abs(\\phi_i)(\\alpha_i)+(abs(\\phi_{i+1}) \\alpha_{i+1}}{abs(\\phi_i)+(abs(\\phi_{i+1})} \\quad \\quad \\quad \\quad \\quad \\quad \\quad \\quad (10)$$\n",
    "\n",
    "seperating the numerators and solving we get:\n",
    "$$\\alpha_I = \\frac{abs(\\phi_i)(\\alpha_i)}{abs(\\phi_i)+(abs(\\phi_{i+1})} + \\frac{abs(\\phi_{i+1}) \\alpha_{i+1}}{abs(\\phi_i)+(abs(\\phi_{i+1})}$$\n",
    "\n",
    "substituting the values from  $eqn (7)$ and solving it we get:\n",
    "$$\\alpha_I = \\alpha_i \\theta + \\alpha_{i+1}(1-\\theta) \\quad \\quad \\quad \\quad \\quad \\quad \\quad \\quad \\quad \\quad \\quad \\quad \\quad \\quad \\quad \\quad(11)$$\n",
    "\n",
    "substituting the $\\alpha_I$ in $equation (8)$\n",
    "$$\\alpha_{(i+I)/2} = \\frac{\\alpha_i + \\alpha_i \\theta + \\alpha_{i+1}(1-\\theta)}{2} \\quad \\quad \\quad \\quad \\quad \\quad \\quad \\quad \\quad \\quad \\quad \\quad \\quad \\quad \\quad \\quad (12)$$\n",
    "$\\alpha_{i+1}$ is in second phase, which is liquid. so we use $\\alpha2$ value of liquid\n",
    "and $\\alpha_{i}$ is in vapor phase. Therefore, $\\alpha 1$ value of vapour is substituted\n",
    "\n",
    "substituting $eqn(8)$ and $eqn(12)$ these values $eqn(6)$ we get the final discretized eqn as\n",
    "we get$$\\frac{\\partial}{\\partial x}(\\alpha \\frac{\\partial T}{\\partial x}) = \\frac{\\frac{\\alpha_1 \\theta + \\alpha_2 (1-\\theta) + \\alpha_1}{2} (\\frac{T_{sat}-T_i}{\\theta dx})-\\alpha_1 (\\frac{T_i-T_{i-1}}{dx})}{dx} \\quad \\quad \\quad \\quad \\quad \\quad \\quad \\quad (13)$$\n",
    "\n",
    "The discretized form of eqn 3:\n",
    "$$T[i] = T[old_i] + dt (\\frac{\\frac{\\alpha_1 \\theta + \\alpha_2 (1-\\theta) + \\alpha_1}{2} (\\frac{T_{sat}-T_i}{\\theta dx})-\\alpha_1 (\\frac{T_i-T_{i-1}}{dx})}{dx}) \\quad \\quad \\quad \\quad \\quad (14) $$\n",
    "\n",
    "$case 4:$\n",
    "When the interface is in between $(\\phi_i)$ and $(\\phi_{i-1})$\n",
    "\n",
    "if $(\\phi_i)*(\\phi_{i-1}) \\leq 0$\n",
    "\n",
    "fig describes the stencil <img src=\"./phase 4.jpg\"style=\"width: 300px,;\"/> \n",
    "\n",
    "following the similar procedure as like \n",
    "we get the final discretized equation given by:\n",
    "$$T[i] = T[old_i] + dt  (\\frac{\\alpha_2 \\frac{T_{i+1}-Ti}{dx} -\\frac{(\\alpha_2 \\theta + \\alpha_1(1-\\theta) + \\alpha_2)}{2} \\frac{T_i-T_{sat}}{\\theta dx}}{dx})$$\n",
    "\n",
    "Dirichlet boundary conditions are set according to reference [1]\n",
    "one end wall it is set to Temperature of the wall\n",
    "and other is set to saturation temperature."
   ]
  },
  {
   "cell_type": "markdown",
   "metadata": {},
   "source": [
    "Let's use the same initial parameters used for Theoretical solution"
   ]
  },
  {
   "cell_type": "code",
   "execution_count": 9,
   "metadata": {
    "collapsed": false,
    "scrolled": true
   },
   "outputs": [],
   "source": [
    "#Solving transcedental equation to find out the interface distance\n",
    "\n",
    "phi = numpy.zeros((nx,1),dtype=float)\n",
    "T = numpy.zeros((nx,1),dtype=float) \n",
    "T[:] = Tsat \n",
    "\n",
    "tol = 0.1\n",
    "\n",
    "for tstep in range(1,nt):\n",
    "    XI = 2*chi*(sqrt(alpha1*tstep*dt)) #Calculated the interface position\n",
    "    \n",
    "    #Distance between the interface and the point\n",
    "    for i in range(0,nx):\n",
    "        phi[i] = XI - (i*dx) \n",
    "    \n",
    "    Told = T.copy()\n",
    "    \n",
    "    #Temperature distribution at every point is calculated\n",
    "    for i in range(1,nx-1):\n",
    "        \n",
    "        if(phi[i]*phi[i+1] <= 0.):\n",
    "        \n",
    "            if((abs(phi[i])/(abs(phi[i])+abs(phi[i+1])))>tol):\n",
    "            \n",
    "                th = (abs(phi[i])/(abs(phi[i])+abs(phi[i+1])))\n",
    "                Txp = (Tsat-Told[i])/th + Told[i]\n",
    "                axm = alpha1\n",
    "                axp = (alpha1+(alpha1*th+alpha2*(1.-th)))*0.5\n",
    "                Txm = Told[i-1]\n",
    "            \n",
    "            else:\n",
    "            \n",
    "                th = (abs(phi[i-1])/(abs(phi[i-1])+abs(phi[i+1])))\n",
    "                Txp = (Tsat-Told[i-1])/th + Told[i]\n",
    "                axm = alpha1\n",
    "                axp = (alpha1+(alpha1*th+alpha2*(1.-th)))*0.5\n",
    "                Txm = Told[i-1]\n",
    "            \n",
    "    \n",
    "        elif(phi[i]*phi[i-1] <= 0.):\n",
    "        \n",
    "            if((abs(phi[i])/(abs(phi[i])+abs(phi[i-1])))>tol):\n",
    "            \n",
    "                th = (abs(phi[i])/(abs(phi[i])+abs(phi[i-1])))\n",
    "                Txm = (Told[i]-Tsat)/th + Told[i]\n",
    "                axp = alpha2\n",
    "                axm = (alpha2+(alpha2*th+alpha1*(1.-th)))*0.5\n",
    "                Txp = Told[i+1]\n",
    "            \n",
    "            else:\n",
    "            \n",
    "                th = (abs(phi[i+1])/(abs(phi[i+1])+abs(phi[i-1])))\n",
    "                Txm = (Told[i+1]-Tsat)/th + Told[i]\n",
    "                axp = alpha2\n",
    "                axm = (alpha2+(alpha2*th+alpha1*(1.-th)))*0.5\n",
    "                Txp = Told[i+1]\n",
    "    \n",
    "        else:\n",
    "            \n",
    "            Txm = Told[i-1]\n",
    "            Txp = Told[i+1]\n",
    "            \n",
    "            if(phi[i]>=0.):\n",
    "                axm = alpha1\n",
    "                axp = alpha1\n",
    "            \n",
    "            else:\n",
    "                axm = alpha2\n",
    "                axp = alpha2\n",
    "                \n",
    "        \n",
    "        T[i] = Told[i] + dt*(axp*(Txp-Told[i])/dx - axm*(Told[i]-Txm)/dx)/dx          \n",
    "            \n",
    "            \n",
    "    #Boundary Conditions\n",
    "    T[0] = Tw\n",
    "    T[-1] = Tsat\n",
    "    \n",
    "    T_res = sum((T-Told)**2)/nx       "
   ]
  },
  {
   "cell_type": "code",
   "execution_count": 30,
   "metadata": {
    "collapsed": false
   },
   "outputs": [
    {
     "data": {
      "text/plain": [
       "<matplotlib.text.Text at 0x7f262a755f98>"
      ]
     },
     "execution_count": 30,
     "metadata": {},
     "output_type": "execute_result"
    },
    {
     "data": {
      "image/png": "[encoded data removed]",
      "text/plain": [
       "<matplotlib.figure.Figure at 0x7f262a7723c8>"
      ]
     },
     "metadata": {},
     "output_type": "display_data"
    }
   ],
   "source": [
    "pyplot.figure(figsize=(10,5))\n",
    "pyplot.grid(True)\n",
    "pyplot.plot(numpy.linspace(0,l,nx),T,'red',ls ='--',linewidth='2', marker ='o',label='Numerical')\n",
    "pyplot.plot (x,Ttheo, 'Yellow',ls ='--',linewidth='2', marker ='o',label='Theoritical')\n",
    "pyplot.xlim(0,0.00025)\n",
    "pyplot.xlabel('x $(m)$', fontsize=16)\n",
    "pyplot.ylabel('Temperature $K$', fontsize=16)\n",
    "pyplot.legend(loc='upper right')\n",
    "pyplot.title('Numerical sol $vs$ Theoritical solution for 1D Stefan problem',fontsize=20)"
   ]
  },
  {
   "cell_type": "markdown",
   "metadata": {},
   "source": [
    "# <font color='olive'> Conclusion </font>"
   ]
  },
  {
   "cell_type": "markdown",
   "metadata": {},
   "source": [
    "From the plot it is observed that there is sudden jump in Temperature. although, there is accuracy using this method but there is no stability. Therefore To achieve the stability, the numerical method was developed as mentioned in reference[2].\n",
    "This scheme aims to achieve the stability while solving the multi phase problems."
   ]
  },
  {
   "cell_type": "markdown",
   "metadata": {},
   "source": [
    "## <font color='olive'> References </font>"
   ]
  },
  {
   "cell_type": "markdown",
   "metadata": {},
   "source": [
    "[1] Sato, Yohei, and Bojan NiÄeno. \"A Sharp-interface Phase Change Model for a Mass-conservative Interface Tracking Method.\" Journal of Computational $\\quad$ Physics 249 (2013): 127-61. Web.\n",
    "\n",
    "[2] Son, Gihun, and Vijay K. Dhir. \"A Level Set Method for Analysis of Film Boiling on an Immersed Solid Surface.\" Numerical Heat Transfer, Part B: $\\quad$Fundamentals 52.2 (2007): 153-77. Web."
   ]
  },
  {
   "cell_type": "code",
   "execution_count": null,
   "metadata": {
    "collapsed": true
   },
   "outputs": [],
   "source": []
  }
 ],
 "metadata": {
  "anaconda-cloud": {},
  "kernelspec": {
   "display_name": "Python [default]",
   "language": "python",
   "name": "python3"
  }
 },
 "nbformat": 4,
 "nbformat_minor": 1
}
