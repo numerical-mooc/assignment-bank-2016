{
 "cells": [
  {
   "cell_type": "markdown",
   "metadata": {},
   "source": [
    "#  <font color='Blue' align='right'>1D Stefan Problem </font> "
   ]
  },
  {
   "cell_type": "markdown",
   "metadata": {},
   "source": [
    "## <font color='olive'> Introduction </font>"
   ]
  },
  {
   "cell_type": "markdown",
   "metadata": {},
   "source": [
    "In general, due to temperature variance matter is subjected to phase chage. Therefore, a boundary is developed seperating the two phases of matter. This boundary act as an interface. The position of interface is determined as function of time. Stefan problem genrally used to determine the temperature distribution in phase change models.\n",
    "\n",
    "In this problem, the vapor and liquid are taken in a free slip tube as shown in figure. <img src=\"./1d stefan problem.jpg\"style=\"width: 300px,right;\"/> Temprature of the wall $T_{wall}$ is set to constant which is greater than saturation temperature $T_{sat}$. $T_{sat}$ is the inital temperature of the liquid phase.\n",
    "At time t=0, the vapour and liquid are constant. at time $t>0$, the liquid will boil at the interface,and due to heat flux and volume expansion the interface will move towards the tube outlet."
   ]
  },
  {
   "cell_type": "markdown",
   "metadata": {},
   "source": [
    "In this notebook, The results of the numerical solutions are compared with the theoretical solution solutions and are verified.\n",
    "\n",
    "We start solving by importing library functions"
   ]
  },
  {
   "cell_type": "code",
   "execution_count": 1,
   "metadata": {
    "collapsed": true
   },
   "outputs": [],
   "source": [
    "from matplotlib import pyplot, cm\n",
    "from math import * \n",
    "import numpy\n",
    "%matplotlib inline\n",
    "from scipy.special import erf\n",
    "from matplotlib import rcParams\n",
    "rcParams['font.family'] = 'serif'\n",
    "rcParams['font.size'] = 16"
   ]
  },
  {
   "cell_type": "markdown",
   "metadata": {},
   "source": [
    "## <font color='olive'> Theoritical Solution </font>"
   ]
  },
  {
   "cell_type": "markdown",
   "metadata": {
    "collapsed": true
   },
   "source": [
    "The intrace postion and Temperature distribution is calculated from the theoritical formula.\n",
    "$$X_I = 2 \\chi \\sqrt{\\alpha_V*t} \\quad \\quad \\quad \\quad \\quad (1)$$\n",
    "\n",
    "$$T = T_{wall} + \\frac{T_{wall}-T_{sat}}{erf(\\chi)}erf (\\frac{\\chi}{2\\sqrt{\\alpha_V*t}}) \\quad \\quad  (2)$$\n",
    "\n",
    "$\\chi$ is calcuated from transcedental equation\n",
    "$$\\chi \\exp{(\\chi^2)} erf(\\chi) = \\frac{C_{pv} (T_{wall}-T_{sat})}{\\sqrt{\\pi L}}$$\n",
    "$L$ = latent heat of the vaporization, $C_{pv}$=The specific heat capacity of the vapor,$\\alpha_v$ = thermal diffusitivity of the vapour,"
   ]
  },
  {
   "cell_type": "code",
   "execution_count": null,
   "metadata": {
    "collapsed": true
   },
   "outputs": [],
   "source": [
    "t = 0.1                           #time\n",
    "alpha1 = 2.06*10**-5              #thermal diffusitivity of vapour\n",
    "alpha2 = 0.17*10**-6              #thermal diffusitivity of water\n",
    "Cp = 2030                         #The specific heat capacity of the vapor\n",
    "Tw = 383.15                       #wall temperature\n",
    "Tsat = 373.15                     #saturation temperature\n",
    "L = 2.26*10**6                    #Latent Heat\n",
    "chi = 0.0669161                   #value calculated from eqn 3\n"
   ]
  },
  {
   "cell_type": "markdown",
   "metadata": {},
   "source": [
    "Initial parameters are set:"
   ]
  },
  {
   "cell_type": "code",
   "execution_count": null,
   "metadata": {
    "collapsed": false
   },
   "outputs": [],
   "source": [
    "#initial conditions \n",
    "l = 0.001                         #Length of the Domain\n",
    "nx = 100                          #number of points\n",
    "dx = l/nx\n",
    "dt = (dx**2*0.05)/(max(alpha1,alpha2))\n",
    "nt = int(t/dt)                    #Time steps\n"
   ]
  },
  {
   "cell_type": "code",
   "execution_count": null,
   "metadata": {
    "collapsed": false
   },
   "outputs": [],
   "source": [
    "#For calculating the interface position;\n",
    "nt = int(t/dt)\n",
    "for tstep in range(1,nt):\n",
    "    XItheo = 2*chi*(sqrt(alpha1*tstep*dt))"
   ]
  },
  {
   "cell_type": "code",
   "execution_count": null,
   "metadata": {
    "collapsed": false
   },
   "outputs": [],
   "source": [
    "x = numpy.linspace(0,0.001,nx)\n",
    "\n",
    "Ttheo = Tw  + ((Tsat-Tw)/erf(chi))*erf(x/(2*sqrt(alpha1*t)))\n",
    "\n",
    "for i in range (0,nx):\n",
    "    if Ttheo[i]<Tsat:\n",
    "        Ttheo[i]=Tsat\n",
    "        \n",
    "pyplot.plot (x,Ttheo)\n",
    "pyplot.xlim(0,0.00025)"
   ]
  },
  {
   "cell_type": "markdown",
   "metadata": {},
   "source": [
    "## <font color='olive'> Numerical Solution </font>"
   ]
  },
  {
   "cell_type": "markdown",
   "metadata": {},
   "source": [
    "The numerical solution for 1D Stefan is calculated by discretizing the goverining equation $$\\frac{\\partial T}{\\partial t} = \\frac{\\partial }{\\partial x}( \\alpha\\frac{\\partial T}{\\partial x}) \\quad \\quad \\quad  (3)$$;\n",
    "\n",
    "The heat equation is modified  in this problem to avoid the jumps in temperature distribution as shown in fig 1."
   ]
  },
  {
   "cell_type": "markdown",
   "metadata": {},
   "source": [
    "In the first step we find the position of the interface using the $eqn (1)$. from the interface postion we calculate the distance to the grid point, Disatance$(\\phi_i)$. The governing equation's discretization in the following manner; "
   ]
  },
  {
   "cell_type": "markdown",
   "metadata": {
    "collapsed": true
   },
   "source": [
    "$Case 1$\n",
    "<img src=\"./p11.jpg\"style=\"width: 300px,;\"/>\n",
    "fig shows the stencil when everything is present in the vapor phase. Then the discretization for the diffusivity is as follows:\n",
    "\n",
    "$$\\frac{\\partial}{\\partial x}(\\alpha \\frac{\\partial T}{\\partial x}) = \\frac{\\alpha_1 (\\frac{T_{i+1}-T_i}{dx})-\\alpha_1 (\\frac{T_i-T_{i-1}}{dx})}{dx} \\quad \\quad \\quad \\quad  (4)$$\n",
    "\n",
    "$Case 2$\n",
    "\n",
    "when everything is present in the liquid phase. Then the discretization for the diffusivity is as follows:\n",
    "\n",
    "$$\\frac{\\partial}{\\partial x}(\\alpha \\frac{\\partial T}{\\partial x}) = \\frac{\\alpha_2 (\\frac{T_{i+1}-T_i}{dx})-\\alpha_2 (\\frac{T_i-T_{i-1}}{dx})}{dx} \\quad \\quad \\quad \\quad \\quad (5)$$\n",
    "\n",
    "$Case 3$\n",
    "\n",
    "When the interface is in between $(\\phi_i)$ and $(\\phi_{i+1})$\n",
    "\n",
    "if $(\\phi_i)*(\\phi_{i+1}) \\leq 0$\n",
    "the stencil looks as follows <img src=\"./41.jpg\"style=\"width: 300px,;\"/>\n",
    "In typical multiphase problems, There will be a jump in temperature and insatbility occurs.\n",
    "Hence, all the thermal properties are diffused at the interface to get the stability.\n",
    "Therefore the equation is discretized as follow,\n",
    "$$\\frac{\\partial}{\\partial x} (\\alpha_{(i+I)/2} \\frac{\\partial T}{\\partial x}) \\quad \\quad \\quad \\quad \\quad (6)$$\n",
    "\n",
    "let $$abs(\\phi_i)+(abs(\\phi_{i+1}) = dx$$\n",
    "\n",
    "for convinience; we consider the ratio of distance from interface to the ratio the disatance between grid points as \"$\\theta$\"\n",
    "therefore $$\\theta = \\frac{abs(\\phi_i)}{abs(\\phi_i)+(abs(\\phi_{i+1})} \\quad \\quad \\quad \\quad \\quad (7)$$\n",
    "discretizing the alpha:\n",
    "$$\\alpha_{(i+I)/2} = (\\alpha_i + \\alpha I)/2 \\quad \\quad \\quad \\quad \\quad (8)$$ \n",
    "$\\alpha I = \\alpha$ at interface $\\quad$ $\\alpha_i = \\alpha$ at the point $i$ \n",
    "\n",
    "$$\\alpha_I = \\frac{abs(\\phi_i)(\\alpha_i)+(abs(\\phi_{i+1}) \\alpha_{i+1}}{abs(\\phi_i)+(abs(\\phi_{i+1})} \\quad\\quad (9)$$\n",
    "\n",
    "seperating the numerators and solving we get:\n",
    "$$\\alpha_I = \\frac{abs(\\phi_i)(\\alpha_i)}{abs(\\phi_i)+(abs(\\phi_{i+1})} + \\frac{abs(\\phi_{i+1}) \\alpha_{i+1}}{abs(\\phi_i)+(abs(\\phi_{i+1})}$$\n",
    "\n",
    "substituting the values from  $eqn (7)$ and solving it we get:\n",
    "$$\\alpha_I = \\alpha_i \\theta + \\alpha_{i+1}(1-\\theta) \\quad \\quad \\quad \\quad \\quad (10)$$\n",
    "\n",
    "substituting the $\\alpha_I$ in $equation 8$ "
   ]
  },
  {
   "cell_type": "code",
   "execution_count": null,
   "metadata": {
    "collapsed": true
   },
   "outputs": [],
   "source": []
  },
  {
   "cell_type": "code",
   "execution_count": null,
   "metadata": {
    "collapsed": true
   },
   "outputs": [],
   "source": []
  },
  {
   "cell_type": "code",
   "execution_count": null,
   "metadata": {
    "collapsed": false,
    "scrolled": true
   },
   "outputs": [],
   "source": [
    "#Solving transcedental equation to find out the interface distance\n",
    "\n",
    "phi = numpy.zeros((nx,1),dtype=float)\n",
    "T = numpy.zeros((nx,1),dtype=float) \n",
    "T[:] = Tsat \n",
    "\n",
    "tol = 0.1\n",
    "\n",
    "for tstep in range(1,nt):\n",
    "    XI = 2*chi*(sqrt(alpha1*tstep*dt)) #Calculated the interface position\n",
    "    \n",
    "    #Distance between the interface and the point\n",
    "    for i in range(0,nx):\n",
    "        phi[i] = XI - (i*dx) \n",
    "    \n",
    "    Told = T.copy()\n",
    "\n",
    "    for i in range(1,nx-1):\n",
    "        \n",
    "        if(phi[i]*phi[i+1] <= 0.):\n",
    "        \n",
    "            if((abs(phi[i])/(abs(phi[i])+abs(phi[i+1])))>tol):\n",
    "            \n",
    "                th = (abs(phi[i])/(abs(phi[i])+abs(phi[i+1])))\n",
    "                Txp = (Tsat-Told[i])/th + Told[i]\n",
    "                axm = alpha1\n",
    "                axp = (alpha1+(alpha1*th+alpha2*(1.-th)))*0.5\n",
    "                Txm = Told[i-1]\n",
    "            \n",
    "            else:\n",
    "            \n",
    "                th = (abs(phi[i-1])/(abs(phi[i-1])+abs(phi[i+1])))\n",
    "                Txp = (Tsat-Told[i-1])/th + Told[i]\n",
    "                axm = alpha1\n",
    "                axp = (alpha1+(alpha1*th+alpha2*(1.-th)))*0.5\n",
    "                Txm = Told[i-1]\n",
    "            \n",
    "    \n",
    "        elif(phi[i]*phi[i-1] <= 0.):\n",
    "        \n",
    "            if((abs(phi[i])/(abs(phi[i])+abs(phi[i-1])))>tol):\n",
    "            \n",
    "                th = (abs(phi[i])/(abs(phi[i])+abs(phi[i-1])))\n",
    "                Txm = (Told[i]-Tsat)/th + Told[i]\n",
    "                axp = alpha2\n",
    "                axm = (alpha2+(alpha2*th+alpha1*(1.-th)))*0.5\n",
    "                Txp = Told[i+1]\n",
    "            \n",
    "            else:\n",
    "            \n",
    "                th = (abs(phi[i+1])/(abs(phi[i+1])+abs(phi[i-1])))\n",
    "                Txm = (Told[i+1]-Tsat)/th + Told[i]\n",
    "                axp = alpha2\n",
    "                axm = (alpha2+(alpha2*th+alpha1*(1.-th)))*0.5\n",
    "                Txp = Told[i+1]\n",
    "    \n",
    "        else:\n",
    "            \n",
    "            Txm = Told[i-1]\n",
    "            Txp = Told[i+1]\n",
    "            \n",
    "            if(phi[i]>=0.):\n",
    "                axm = alpha1\n",
    "                axp = alpha1\n",
    "            \n",
    "            else:\n",
    "                axm = alpha2\n",
    "                axp = alpha2\n",
    "                \n",
    "        \n",
    "        T[i] = Told[i] + dt*(axp*(Txp-Told[i])/dx - axm*(Told[i]-Txm)/dx)/dx          \n",
    "            \n",
    "            \n",
    "    #Boundary Conditions\n",
    "    T[0] = Tw\n",
    "    T[-1] = Tsat\n",
    "    \n",
    "    T_res = sum((T-Told)**2)/nx\n",
    "    \n",
    "    \n",
    "    \n",
    "    if(tstep == 10):\n",
    "        T_1 = T.copy()\n",
    "    if(tstep == 100):\n",
    "        T_2 = T.copy()\n",
    "     \n",
    "    if(tstep == 1000):\n",
    "        T_3 = T.copy()\n",
    "        \n",
    "    if(tstep == 10000):\n",
    "        T_4 = T.copy()\n",
    "           \n",
    "    if(tstep == 100000):\n",
    "        T_5 = T.copy()\n",
    "        "
   ]
  },
  {
   "cell_type": "code",
   "execution_count": null,
   "metadata": {
    "collapsed": false
   },
   "outputs": [],
   "source": [
    "pyplot.plot(numpy.linspace(0,l,nx),T_1,'b')\n",
    "pyplot.plot(numpy.linspace(0,l,nx),T_2,'-r')\n",
    "pyplot.plot(numpy.linspace(0,l,nx),T_3,'k')\n",
    "pyplot.plot(numpy.linspace(0,l,nx),T_4,'y')\n",
    "pyplot.plot(numpy.linspace(0,l,nx),T_5,'g')\n",
    "pyplot.plot(numpy.linspace(0,l,nx),T,'m')\n",
    "pyplot.xlim([0.,0.00025])"
   ]
  },
  {
   "cell_type": "code",
   "execution_count": null,
   "metadata": {
    "collapsed": true
   },
   "outputs": [],
   "source": []
  }
 ],
 "metadata": {
  "anaconda-cloud": {},
  "kernelspec": {
   "display_name": "Python [default]",
   "language": "python",
   "name": "python3"
  },
  "language_info": {
   "codemirror_mode": {
    "name": "ipython",
    "version": 3
   },
   "file_extension": ".py",
   "mimetype": "text/x-python",
   "name": "python",
   "nbconvert_exporter": "python",
   "pygments_lexer": "ipython3",
   "version": "3.5.2"
  }
 },
 "nbformat": 4,
 "nbformat_minor": 1
}
