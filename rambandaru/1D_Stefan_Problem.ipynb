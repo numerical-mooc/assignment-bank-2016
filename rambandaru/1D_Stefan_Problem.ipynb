{
 "cells": [
  {
   "cell_type": "code",
   "execution_count": 1,
   "metadata": {
    "collapsed": true
   },
   "outputs": [],
   "source": [
    "from matplotlib import pyplot, cm\n",
    "from math import * \n",
    "import numpy\n",
    "#import sympy\n",
    "#from scipy.optimize import brentq\n",
    "%matplotlib inline\n",
    "from matplotlib import rcParams\n",
    "rcParams['font.family'] = 'serif'\n",
    "rcParams['font.size'] = 16"
   ]
  },
  {
   "cell_type": "markdown",
   "metadata": {
    "collapsed": true
   },
   "source": [
    "# 1D Stefan Problem"
   ]
  },
  {
   "cell_type": "code",
   "execution_count": 2,
   "metadata": {
    "collapsed": false
   },
   "outputs": [],
   "source": [
    "t = 0.1\n",
    "alpha1 = 2.06*10**-5\n",
    "Cp = 2030\n",
    "Tw = 383.15\n",
    "Tsat = 373.15\n",
    "L = 2.26*10**6"
   ]
  },
  {
   "cell_type": "code",
   "execution_count": 4,
   "metadata": {
    "collapsed": false
   },
   "outputs": [],
   "source": [
    "chi = 0.0669161"
   ]
  },
  {
   "cell_type": "code",
   "execution_count": 8,
   "metadata": {
    "collapsed": false
   },
   "outputs": [],
   "source": [
    "#Numerical Solution\n",
    "l = 0.001\n",
    "nx = 100\n",
    "dx = l/nx\n",
    "alpha2 = 0.17*10**-6\n",
    "dt = (dx**2*0.05)/(max(alpha1,alpha2))\n",
    "nt = int(t/dt)\n"
   ]
  },
  {
   "cell_type": "code",
   "execution_count": 6,
   "metadata": {
    "collapsed": false,
    "scrolled": true
   },
   "outputs": [],
   "source": [
    "#Solving transcedental equation to find out the interface distance\n",
    "\n",
    "phi = numpy.zeros((nx,1),dtype=float)\n",
    "T = numpy.zeros((nx,1),dtype=float) \n",
    "T[:] = Tsat \n",
    "\n",
    "tol = 0.1\n",
    "\n",
    "for tstep in range(1,200000):\n",
    "    XI = 2*chi*(sqrt(alpha1*tstep*dt))\n",
    "    \n",
    "    for i in range(0,nx):\n",
    "        phi[i] = XI - (i*dx)\n",
    "    \n",
    "    Told = T.copy()\n",
    "\n",
    "    for i in range(1,nx-1):\n",
    "        \n",
    "        if(phi[i]*phi[i+1] <= 0.):\n",
    "        \n",
    "            if((abs(phi[i])/(abs(phi[i])+abs(phi[i+1])))>tol):\n",
    "            \n",
    "                th = (abs(phi[i])/(abs(phi[i])+abs(phi[i+1])))\n",
    "                Txp = (Tsat-Told[i])/th + Told[i]\n",
    "                axm = alpha1\n",
    "                axp = (alpha1+(alpha1*th+alpha2*(1.-th)))*0.5\n",
    "                Txm = Told[i-1]\n",
    "            \n",
    "            else:\n",
    "            \n",
    "                th = (abs(phi[i-1])/(abs(phi[i-1])+abs(phi[i+1])))\n",
    "                Txp = (Tsat-Told[i-1])/th + Told[i]\n",
    "                axm = alpha1\n",
    "                axp = (alpha1+(alpha1*th+alpha2*(1.-th)))*0.5\n",
    "                Txm = Told[i-1]\n",
    "            \n",
    "    \n",
    "        elif(phi[i]*phi[i-1] <= 0.):\n",
    "        \n",
    "            if((abs(phi[i])/(abs(phi[i])+abs(phi[i-1])))>tol):\n",
    "            \n",
    "                th = (abs(phi[i])/(abs(phi[i])+abs(phi[i-1])))\n",
    "                Txm = (Told[i]-Tsat)/th + Told[i]\n",
    "                axp = alpha2\n",
    "                axm = (alpha2+(alpha2*th+alpha1*(1.-th)))*0.5\n",
    "                Txp = Told[i+1]\n",
    "            \n",
    "            else:\n",
    "            \n",
    "                th = (abs(phi[i+1])/(abs(phi[i+1])+abs(phi[i-1])))\n",
    "                Txm = (Told[i+1]-Tsat)/th + Told[i]\n",
    "                axp = alpha2\n",
    "                axm = (alpha2+(alpha2*th+alpha1*(1.-th)))*0.5\n",
    "                Txp = Told[i+1]\n",
    "    \n",
    "        else:\n",
    "            \n",
    "            Txm = Told[i-1]\n",
    "            Txp = Told[i+1]\n",
    "            \n",
    "            if(phi[i]>=0.):\n",
    "                axm = alpha1\n",
    "                axp = alpha1\n",
    "            \n",
    "            else:\n",
    "                axm = alpha2\n",
    "                axp = alpha2\n",
    "                \n",
    "        \n",
    "        T[i] = Told[i] + dt*(axp*(Txp-Told[i])/dx - axm*(Told[i]-Txm)/dx)/dx          \n",
    "            \n",
    "            \n",
    "    #Boundary Conditions\n",
    "    T[0] = Tw\n",
    "    T[-1] = Tsat\n",
    "    \n",
    "    T_res = sum((T-Told)**2)/nx\n",
    "    \n",
    "    \n",
    "    \n",
    "    if(tstep == 10):\n",
    "        T_1 = T.copy()\n",
    "    if(tstep == 100):\n",
    "        T_2 = T.copy()\n",
    "        \n",
    "    if(tstep == 10000):\n",
    "        T_3 = T.copy()\n",
    "           \n",
    "            "
   ]
  },
  {
   "cell_type": "code",
   "execution_count": 7,
   "metadata": {
    "collapsed": false
   },
   "outputs": [
    {
     "data": {
      "text/plain": [
       "(0.0, 0.00025)"
      ]
     },
     "execution_count": 7,
     "metadata": {},
     "output_type": "execute_result"
    },
    {
     "data": {
      "image/png": "[encoded data removed]",
      "text/plain": [
       "<matplotlib.figure.Figure at 0x7f8ef536eda0>"
      ]
     },
     "metadata": {},
     "output_type": "display_data"
    }
   ],
   "source": [
    "pyplot.plot(numpy.linspace(0,l,nx),T_1,'b')\n",
    "pyplot.plot(numpy.linspace(0,l,nx),T_2,'--r')\n",
    "pyplot.plot(numpy.linspace(0,l,nx),T_3,'k')\n",
    "pyplot.plot(numpy.linspace(0,l,nx),T,'m')\n",
    "pyplot.xlim([0.,0.00025])"
   ]
  }
 ],
 "metadata": {
  "anaconda-cloud": {},
  "kernelspec": {
   "display_name": "Python [default]",
   "language": "python",
   "name": "python3"
  },
  "language_info": {
   "codemirror_mode": {
    "name": "ipython",
    "version": 3
   },
   "file_extension": ".py",
   "mimetype": "text/x-python",
   "name": "python",
   "nbconvert_exporter": "python",
   "pygments_lexer": "ipython3",
   "version": "3.5.2"
  }
 },
 "nbformat": 4,
 "nbformat_minor": 1
}
