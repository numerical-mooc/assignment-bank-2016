{
 "cells": [
  {
   "cell_type": "markdown",
   "metadata": {},
   "source": [
    "#  <font color='Blue' align='right'>1D Stefan Problem </font> "
   ]
  },
  {
   "cell_type": "markdown",
   "metadata": {},
   "source": [
    "## <font color='olive'> Introduction </font>"
   ]
  },
  {
   "cell_type": "markdown",
   "metadata": {},
   "source": [
    "In general, due to temperature variance matter is subjected to phase chage. Therefore, a boundeary is developed seperating the two phases of matter. The position of this boundary is determined as function of time. Stefan problem is widely used for determine the Temperature distribution in phase change models.\n",
    "\n",
    "<img src=\"./1d stefan problem.jpg\"style=\"width: 400px;\"/>\n",
    "\n",
    "In this problem, the vapor and liquid are taken in a free slip tube as shown in figure. Temprature of the wall $T_{wall}$ is set to constant which is greater than saturation temperature $T_{sat}$. $T_{sat}$ is the inital temperature of the liquid phase.\n",
    "At time t=0, the vapour and liquid are constant. at time $t>0$, the liquid will boil at the interface,and due to heat flux and volume expansion the interface will move towards the tube outlet."
   ]
  },
  {
   "cell_type": "code",
   "execution_count": 16,
   "metadata": {
    "collapsed": true
   },
   "outputs": [],
   "source": [
    "from matplotlib import pyplot, cm\n",
    "from math import * \n",
    "import numpy\n",
    "%matplotlib inline\n",
    "from matplotlib import rcParams\n",
    "rcParams['font.family'] = 'serif'\n",
    "rcParams['font.size'] = 16"
   ]
  },
  {
   "cell_type": "markdown",
   "metadata": {},
   "source": [
    "## <font color='olive'> Theoritical Solution </font>"
   ]
  },
  {
   "cell_type": "markdown",
   "metadata": {
    "collapsed": true
   },
   "source": [
    "The intrace postion is calculated from the theoritical formula.\n",
    "$$X_I = 2 \\chi \\sqrt{\\alpha_V*t}           (1)$$\n",
    "$\\alpha_v$ = thermal diffusitivity of the vapour,\n",
    "\n",
    "The temperature distribution can be found out using\n",
    "$$T = T_{wall} + \\frac{T_{wall}-T_{sat}}{erf(\\chi)}erf (\\frac{\\chi}{2\\sqrt{\\alpha_V*t}})$$\n",
    "\n",
    "$\\chi$ is calcuated from transcedental equation\n",
    "$$\\chi \\exp{(\\chi^2)} erf(\\chi) = \\frac{C_{pv} (T_{wall}-T_{sat})}{\\sqrt{\\pi L}}$$\n",
    "$L$ = latent heat of the vaporization, $C_{pv}$=The specific heat capacity of the vapor"
   ]
  },
  {
   "cell_type": "markdown",
   "metadata": {},
   "source": [
    "## <font color='olive'> Numerical Solution </font>"
   ]
  },
  {
   "cell_type": "markdown",
   "metadata": {},
   "source": [
    "The heat diffusuion equation will determine the Temperature distribution in phase change model\n"
   ]
  },
  {
   "cell_type": "code",
   "execution_count": 17,
   "metadata": {
    "collapsed": false
   },
   "outputs": [],
   "source": [
    "t = 0.1\n",
    "alpha1 = 2.06*10**-5\n",
    "Cp = 2030\n",
    "Tw = 383.15\n",
    "Tsat = 373.15\n",
    "L = 2.26*10**6"
   ]
  },
  {
   "cell_type": "code",
   "execution_count": 18,
   "metadata": {
    "collapsed": false
   },
   "outputs": [],
   "source": [
    "chi = 0.0669161"
   ]
  },
  {
   "cell_type": "code",
   "execution_count": 19,
   "metadata": {
    "collapsed": false
   },
   "outputs": [],
   "source": [
    "#Numerical Solution\n",
    "l = 0.001\n",
    "nx = 100\n",
    "dx = l/nx\n",
    "alpha2 = 0.17*10**-6\n",
    "dt = (dx**2*0.05)/(max(alpha1,alpha2))\n",
    "nt = int(t/dt)"
   ]
  },
  {
   "cell_type": "code",
   "execution_count": 23,
   "metadata": {
    "collapsed": false,
    "scrolled": true
   },
   "outputs": [],
   "source": [
    "#Solving transcedental equation to find out the interface distance\n",
    "\n",
    "phi = numpy.zeros((nx,1),dtype=float)\n",
    "T = numpy.zeros((nx,1),dtype=float) \n",
    "T[:] = Tsat \n",
    "\n",
    "tol = 0.1\n",
    "\n",
    "for tstep in range(1,200000):\n",
    "    XI = 2*chi*(sqrt(alpha1*tstep*dt)) #Calculated the interface position\n",
    "    \n",
    "    #Distance between the interface and the point\n",
    "    for i in range(0,nx):\n",
    "        phi[i] = XI - (i*dx) \n",
    "    \n",
    "    Told = T.copy()\n",
    "\n",
    "    for i in range(1,nx-1):\n",
    "        \n",
    "        if(phi[i]*phi[i+1] <= 0.):\n",
    "        \n",
    "            if((abs(phi[i])/(abs(phi[i])+abs(phi[i+1])))>tol):\n",
    "            \n",
    "                th = (abs(phi[i])/(abs(phi[i])+abs(phi[i+1])))\n",
    "                Txp = (Tsat-Told[i])/th + Told[i]\n",
    "                axm = alpha1\n",
    "                axp = (alpha1+(alpha1*th+alpha2*(1.-th)))*0.5\n",
    "                Txm = Told[i-1]\n",
    "            \n",
    "            else:\n",
    "            \n",
    "                th = (abs(phi[i-1])/(abs(phi[i-1])+abs(phi[i+1])))\n",
    "                Txp = (Tsat-Told[i-1])/th + Told[i]\n",
    "                axm = alpha1\n",
    "                axp = (alpha1+(alpha1*th+alpha2*(1.-th)))*0.5\n",
    "                Txm = Told[i-1]\n",
    "            \n",
    "    \n",
    "        elif(phi[i]*phi[i-1] <= 0.):\n",
    "        \n",
    "            if((abs(phi[i])/(abs(phi[i])+abs(phi[i-1])))>tol):\n",
    "            \n",
    "                th = (abs(phi[i])/(abs(phi[i])+abs(phi[i-1])))\n",
    "                Txm = (Told[i]-Tsat)/th + Told[i]\n",
    "                axp = alpha2\n",
    "                axm = (alpha2+(alpha2*th+alpha1*(1.-th)))*0.5\n",
    "                Txp = Told[i+1]\n",
    "            \n",
    "            else:\n",
    "            \n",
    "                th = (abs(phi[i+1])/(abs(phi[i+1])+abs(phi[i-1])))\n",
    "                Txm = (Told[i+1]-Tsat)/th + Told[i]\n",
    "                axp = alpha2\n",
    "                axm = (alpha2+(alpha2*th+alpha1*(1.-th)))*0.5\n",
    "                Txp = Told[i+1]\n",
    "    \n",
    "        else:\n",
    "            \n",
    "            Txm = Told[i-1]\n",
    "            Txp = Told[i+1]\n",
    "            \n",
    "            if(phi[i]>=0.):\n",
    "                axm = alpha1\n",
    "                axp = alpha1\n",
    "            \n",
    "            else:\n",
    "                axm = alpha2\n",
    "                axp = alpha2\n",
    "                \n",
    "        \n",
    "        T[i] = Told[i] + dt*(axp*(Txp-Told[i])/dx - axm*(Told[i]-Txm)/dx)/dx          \n",
    "            \n",
    "            \n",
    "    #Boundary Conditions\n",
    "    T[0] = Tw\n",
    "    T[-1] = Tsat\n",
    "    \n",
    "    T_res = sum((T-Told)**2)/nx\n",
    "    \n",
    "    \n",
    "    \n",
    "    if(tstep == 10):\n",
    "        T_1 = T.copy()\n",
    "    if(tstep == 100):\n",
    "        T_2 = T.copy()\n",
    "     \n",
    "    if(tstep == 1000):\n",
    "        T_3 = T.copy()\n",
    "        \n",
    "    if(tstep == 10000):\n",
    "        T_4 = T.copy()\n",
    "           \n",
    "    if(tstep == 100000):\n",
    "        T_5 = T.copy()\n",
    "        "
   ]
  },
  {
   "cell_type": "code",
   "execution_count": 24,
   "metadata": {
    "collapsed": false
   },
   "outputs": [
    {
     "data": {
      "text/plain": [
       "(0.0, 0.00025)"
      ]
     },
     "execution_count": 24,
     "metadata": {},
     "output_type": "execute_result"
    },
    {
     "data": {
      "image/png": "[encoded data removed]",
      "text/plain": [
       "<matplotlib.figure.Figure at 0x7f0de2b665c0>"
      ]
     },
     "metadata": {},
     "output_type": "display_data"
    }
   ],
   "source": [
    "pyplot.plot(numpy.linspace(0,l,nx),T_1,'b')\n",
    "pyplot.plot(numpy.linspace(0,l,nx),T_2,'-r')\n",
    "pyplot.plot(numpy.linspace(0,l,nx),T_3,'k')\n",
    "pyplot.plot(numpy.linspace(0,l,nx),T_4,'y')\n",
    "pyplot.plot(numpy.linspace(0,l,nx),T_5,'m')\n",
    "pyplot.plot(numpy.linspace(0,l,nx),T,'m')\n",
    "pyplot.xlim([0.,0.00025])"
   ]
  },
  {
   "cell_type": "code",
   "execution_count": null,
   "metadata": {
    "collapsed": true
   },
   "outputs": [],
   "source": []
  }
 ],
 "metadata": {
  "anaconda-cloud": {},
  "kernelspec": {
   "display_name": "Python [default]",
   "language": "python",
   "name": "python3"
  },
  "language_info": {
   "codemirror_mode": {
    "name": "ipython",
    "version": 3
   },
   "file_extension": ".py",
   "mimetype": "text/x-python",
   "name": "python",
   "nbconvert_exporter": "python",
   "pygments_lexer": "ipython3",
   "version": "3.5.2"
  }
 },
 "nbformat": 4,
 "nbformat_minor": 1
}
