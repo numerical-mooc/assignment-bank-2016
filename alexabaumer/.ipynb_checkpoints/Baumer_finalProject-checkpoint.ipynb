{
 "cells": [
  {
   "cell_type": "markdown",
   "metadata": {
    "collapsed": true
   },
   "source": [
    "We are going to be looking at crime hotspots- how they develop and disspate. \n",
    "\n",
    "We are going to be looking at pedestrian flow, specifically how people exit crowded spaces. "
   ]
  },
  {
   "cell_type": "markdown",
   "metadata": {},
   "source": [
    "There is relatively little understood about how crime hotspots develop, grow, and disspate in communities across the country. In order to develop more robust and effective crime prevention strategies, mathematicians have attempted to model crime as a reaction-diffusion model.  "
   ]
  },
  {
   "cell_type": "markdown",
   "metadata": {},
   "source": [
    "# The Short et al Model"
   ]
  },
  {
   "cell_type": "markdown",
   "metadata": {},
   "source": [
    "$$ {dB}/{dt} = \\eta D (del square) B - \\omega B + \\kappa \\rho A $$\n",
    "\n",
    "$$ {d\\rho}/{dt} = D (grad) * [(grad) \\rho - 2 \\rho (grad) lnA] - \\rho A + \\gamma $$"
   ]
  },
  {
   "cell_type": "markdown",
   "metadata": {},
   "source": [
    "Variable declarations:\n",
    "   \n",
    "B : the risk of victimization \n",
    "D : the diffusion coefficient \n",
    "\n",
    "$$\\eta$$ : control rate, between 0 and 1\n",
    "$$\\omega$$ : rate at which the risk decays towards a fixed, environmental value\n",
    "$$\\kappa$$ : attractive force pulling offenders back to previous successful locations, inferred from empirical evidence\n",
    "$$\\rho(x)$$ : the density of criminal agents     \n",
    "A : \n",
    "$$\\gamma$$ : \n",
    "\n"
   ]
  },
  {
   "cell_type": "markdown",
   "metadata": {},
   "source": [
    "# Simplifying to specific crime types "
   ]
  },
  {
   "cell_type": "markdown",
   "metadata": {},
   "source": [
    "Short's model operates independently of crime type. However, for our purposes, we will simplify this model to focus on home burglary. Our crime operatives remain mobile while our targets (homes) are stationary."
   ]
  },
  {
   "cell_type": "code",
   "execution_count": null,
   "metadata": {
    "collapsed": true
   },
   "outputs": [],
   "source": []
  },
  {
   "cell_type": "markdown",
   "metadata": {},
   "source": [
    "References! \n",
    "\n",
    "[1] Short et al 2010 PNAS "
   ]
  },
  {
   "cell_type": "code",
   "execution_count": null,
   "metadata": {
    "collapsed": true
   },
   "outputs": [],
   "source": []
  }
 ],
 "metadata": {
  "anaconda-cloud": {},
  "kernelspec": {
   "display_name": "Python [Root]",
   "language": "python",
   "name": "Python [Root]"
  },
  "language_info": {
   "codemirror_mode": {
    "name": "ipython",
    "version": 3
   },
   "file_extension": ".py",
   "mimetype": "text/x-python",
   "name": "python",
   "nbconvert_exporter": "python",
   "pygments_lexer": "ipython3",
   "version": "3.5.2"
  }
 },
 "nbformat": 4,
 "nbformat_minor": 0
}
