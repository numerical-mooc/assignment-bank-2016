{
 "cells": [
  {
   "cell_type": "markdown",
   "metadata": {},
   "source": [
    "# Lahars: rivers of concrete"
   ]
  },
  {
   "cell_type": "markdown",
   "metadata": {},
   "source": [
    "\"Lahar\" is an Indonesian term that describes a hot of cold mixture of water and rock fragments that flows down the slopes of a volcano and typically enters a river valley [1]. One of the major volcanic hazards, they typically occur around stratovolcanoes- such as the Cascade Range in the Western United States. Lahar events can happen with or without a volcanic eruption- smaller events are often termed \"debris flows.\"\n",
    "\n",
    "A quick search on YouTube reveals many lahar videos, like this one: https://www.youtube.com/watch?v=TpwiFtVRBTs\n",
    "\n",
    "Lahars can best be equated to concrete, while it moves- it is a wet, slurry mixture, when it rests, it solidifies into a rocky deposit. Mitigating volcanic risks is a high priority goal for geolgists around the world; if we are able to better predict the behavior of future eruptions, we can warn at risk populations living in hazard zones as well as think about \n",
    "engineering structures to protect those populations [2]. "
   ]
  },
  {
   "cell_type": "markdown",
   "metadata": {},
   "source": [
    "For this particular lahar model, we will use what we learned in modules 2 and 3 about convection problems. \n",
    "\n",
    "When we begin to think about modeling the height of lahars in a numerical space, we first will make some assumptions about the characteristics of our lahar. The first is that our lahar will be of constant width. This assumption limits the applications of this model to lahars that do not experience bulking and debulking. We also are able to reduce the probelm to one dimension with this assumption- simplifying our calculations considerably.The second assumption we will make is that the rheological behavior of our lahar is similar to water. Since we are modeling the lahar while in motion, this is not too bad of an assumption to make. "
   ]
  },
  {
   "cell_type": "markdown",
   "metadata": {},
   "source": [
    "To begin our modeling process, we will import our favorite libraries"
   ]
  },
  {
   "cell_type": "code",
   "execution_count": 2,
   "metadata": {
    "collapsed": true
   },
   "outputs": [],
   "source": [
    "import numpy \n",
    "from matplotlib import pyplot\n",
    "from matplotlib import rcParams\n",
    "rcParams['font.family'] = 'serif'\n",
    "rcParams['font.size'] = 16\n",
    "%matplotlib inline"
   ]
  },
  {
   "cell_type": "markdown",
   "metadata": {},
   "source": [
    "## Derivation of lahar governing equation"
   ]
  },
  {
   "cell_type": "markdown",
   "metadata": {},
   "source": [
    "The majority of this derivation comes from the textbook, Mathematical Modeling of Earth's Dynamical Systems by Lee Kump and Rudy Slingerland [3]. \n",
    "\n",
    "We will start by balancing the lahar mass with conservation. We set up a control volume where the volumetric flow rate is the volumetric flux, q, multiplied by the width. The mass rate out of the section is obtained from a Taylor series. And assuming width and bulk density do not vary in space or time, we get..."
   ]
  },
  {
   "cell_type": "markdown",
   "metadata": {},
   "source": [
    "$$\\frac{\\partial h}{\\partial t} + \\frac{\\partial q}{\\partial x} = 0$$"
   ]
  },
  {
   "cell_type": "markdown",
   "metadata": {},
   "source": [
    "This equation looks familiar to us, as it takes the form of our \"traffic\" model used in Module 2 and 3. We now need to find a way to relate q to h, x, and t. A force balance on a segment of the lahar should do the trick. Starting with the downslope gravity force... A is our cross-sectional area of the flow and we know that as long as the bed slope is small, sin(alpha) equals the bed slope, S. The force opposing gravity is the shear stress multiplied by the area over which it acts, where P is the wetted perimeter..."
   ]
  },
  {
   "cell_type": "markdown",
   "metadata": {},
   "source": [
    "$$ F_g = \\sigma A dx g sin \\alpha$$\n",
    "$$ F_s = \\tau_0 P dx $$"
   ]
  },
  {
   "cell_type": "markdown",
   "metadata": {},
   "source": [
    "If we equate the two in our force balance, we reach an expression for shear stress- where A/P is R- the hydraulic radius. As long as the flow width is 20 times the flow depth, the hydraulic radis is not different from the flow depth, h ; We aso know that a turbulent flow of water exerts a shear stress on its boundaries. This is proportional to the square of the depth averaged velocity multiplied by the drag coefficient... "
   ]
  },
  {
   "cell_type": "markdown",
   "metadata": {},
   "source": [
    "$$ \\tau_0 = \\sigma g R S = C_f \\sigma v^2 $$"
   ]
  },
  {
   "cell_type": "markdown",
   "metadata": {},
   "source": [
    "When we equate these, we can find an expression for velocity of the flow; we will call the first term \"Beta\""
   ]
  },
  {
   "cell_type": "markdown",
   "metadata": {},
   "source": [
    "$$\\nu = \\sqrt{\\frac{g S}{C_f}}\\sqrt{h} $$"
   ]
  },
  {
   "cell_type": "markdown",
   "metadata": {},
   "source": [
    "The expression of velocity is a generalization of the Chezy equation, predicting the cross-sectional average velocity of steady, uniform flows. Substituting our equation for velocity into our definition of q, we find the following expression: "
   ]
  },
  {
   "cell_type": "markdown",
   "metadata": {},
   "source": [
    "$$ q = \\beta h^k $$"
   ]
  },
  {
   "cell_type": "markdown",
   "metadata": {},
   "source": [
    "And now we have enough information to return to our governing equations and begin discretizing!"
   ]
  },
  {
   "cell_type": "markdown",
   "metadata": {},
   "source": [
    "## Discretization of lahar governing equations"
   ]
  },
  {
   "cell_type": "markdown",
   "metadata": {},
   "source": [
    "For this problem, we will be using the MacCormack scheme. We first learned about this scheme in Module 3, Lesson 2. As a reminder, it is a two step method utilizing a predictor step and a corrector step. It achieves second-order accuracy in both space and time [4]. Our discretized equation looks as follows:"
   ]
  },
  {
   "cell_type": "markdown",
   "metadata": {},
   "source": [
    "$$ h_i^* = h_i^n - \\frac{\\Delta t}{\\Delta x}(q_{i+1}^n - q_i^n) $$ \n",
    "$$ h_i^{n+1} = \\frac{1}{2} (h_i^n + h_i^* - \\frac{\\Delta t}{\\Delta x}(q_i^* - q_{i-1}^*)$$"
   ]
  },
  {
   "cell_type": "code",
   "execution_count": 3,
   "metadata": {
    "collapsed": true
   },
   "outputs": [],
   "source": [
    "def computeQ(beta, h, k):\n",
    "    \"\"\"Parameters:\n",
    "    beta: coeeficient relating gravity, slope, and drag coefficient\n",
    "    h: height of lahar\n",
    "    k: coefficient, given in text\n",
    "    \"\"\"  \n",
    "    return beta*h**k"
   ]
  },
  {
   "cell_type": "code",
   "execution_count": 4,
   "metadata": {
    "collapsed": true
   },
   "outputs": [],
   "source": [
    "def lahar_maccormack(h, nt, dt, dx, beta, k):\n",
    "    \n",
    "    \"\"\"Computes the height of the lahar with the MacCormack scheme \n",
    "    \n",
    "    Parameters:\n",
    "    h: height of the lahar\n",
    "    nt: number of time steps\n",
    "    dt: time-step size\n",
    "    dx: mesh spacing\n",
    "    alpha: \"\"\"\n",
    "    \n",
    "    #initialize results \n",
    "    h_n = numpy.zeros((nt,len(h)))\n",
    "    h_star = numpy.empty_like(h)\n",
    "    \n",
    "    #copy initial array into new array\n",
    "    h_n[:,:] = h.copy()\n",
    "    h_star = h.copy()\n",
    "    \n",
    "    #compute h_n at time step t+1 and then set h = h_n\n",
    "    \n",
    "    for t in range(1,nt):\n",
    "        q = computeQ(beta, h, k)\n",
    "        h_star[:-1] = h[:-1] - dt/dx * (q[1:] - q[:-1])\n",
    "        q_star = computeQ(beta, h_star, k)\n",
    "        h_n[t,1:] = 0.5 * (h[1:] + h_star[1:] - dt/dx * (q_star[1:] - q_star[:-1]))\n",
    "        h = h_n[t].copy()\n",
    "    \n",
    "    vel = beta * (h**(0.5))\n",
    "\n",
    "    return h_n, vel"
   ]
  },
  {
   "cell_type": "markdown",
   "metadata": {},
   "source": [
    "## Defining our lahar field "
   ]
  },
  {
   "cell_type": "code",
   "execution_count": 22,
   "metadata": {
    "collapsed": false
   },
   "outputs": [],
   "source": [
    "#Lahar and river valley characteristics \n",
    "\n",
    "g = 9.8     #gravity, m/s^2\n",
    "S = 0.1     #bed slope, can find this by looking at topographical maps\n",
    "C_f = 10.0      #drag coefficient of river beds\n",
    "h_initial = 2.0     #initial height of bed, m\n",
    "h_max = 30.0 #initial height of source of lahar, m\n",
    "k = 1.5      #Vignaux and Weir 1990 observed k values for lahars to range from 1.24 to 1.47\n",
    "\n",
    "beta = ((g * S)/C_f)**0.5"
   ]
  },
  {
   "cell_type": "code",
   "execution_count": 23,
   "metadata": {
    "collapsed": true
   },
   "outputs": [],
   "source": [
    "def lahar_initial(nx, h_max, h_initial):\n",
    "    \"\"\"Returns the initial height of the lahar by describing its lateral extent\n",
    "    \n",
    "    nx: number of grid points in x\n",
    "    h_max: maximum height of the lahar at its source\n",
    "    h_initial: the height of the bed slope\n",
    "    \n",
    "    h: height of the lahar as it propogates\n",
    "    \"\"\"\n",
    "    h = h_initial*numpy.ones(nx)\n",
    "    h[:int((nx-1)*1./10.)] = h_max\n",
    "    \n",
    "    return h"
   ]
  },
  {
   "cell_type": "code",
   "execution_count": 36,
   "metadata": {
    "collapsed": false,
    "scrolled": true
   },
   "outputs": [
    {
     "data": {
      "text/plain": [
       "<matplotlib.text.Text at 0x1107430f0>"
      ]
     },
     "execution_count": 36,
     "metadata": {},
     "output_type": "execute_result"
    },
    {
     "data": {
      "image/png": "[encoded data removed]",
      "text/plain": [
       "<matplotlib.figure.Figure at 0x110902f28>"
      ]
     },
     "metadata": {},
     "output_type": "display_data"
    }
   ],
   "source": [
    "nx = 1001 #number of spatial steps\n",
    "nt = 500 #number of time steps\n",
    "L = 20000 #length of river bed\n",
    "dx = L/(nx-1)\n",
    "x = numpy.linspace(0,L,nx) #x grid\n",
    "\n",
    "h = lahar_initial(nx, h_max, h_initial)\n",
    "\n",
    "pyplot.plot(x, h, linewidth = 3, ls = '-', color='#003366')\n",
    "pyplot.ylim(-5,50);\n",
    "pyplot.xlabel('Distance')\n",
    "pyplot.ylabel('Height')"
   ]
  },
  {
   "cell_type": "code",
   "execution_count": 25,
   "metadata": {
    "collapsed": true
   },
   "outputs": [],
   "source": [
    "u_max = 4.0 #maximum velocity of the lahar, m/s\n",
    "sigma = 1.0 \n",
    "dt = sigma * dx / u_max"
   ]
  },
  {
   "cell_type": "code",
   "execution_count": 34,
   "metadata": {
    "collapsed": false
   },
   "outputs": [],
   "source": [
    "h_n, vel = lahar_maccormack(h, nt, dt, dx, beta, k)"
   ]
  },
  {
   "cell_type": "markdown",
   "metadata": {},
   "source": [
    "## Animating our results"
   ]
  },
  {
   "cell_type": "code",
   "execution_count": 27,
   "metadata": {
    "collapsed": true
   },
   "outputs": [],
   "source": [
    "from matplotlib import animation\n",
    "from IPython.display import HTML"
   ]
  },
  {
   "cell_type": "code",
   "execution_count": 28,
   "metadata": {
    "collapsed": true
   },
   "outputs": [],
   "source": [
    "def animate(data):\n",
    "    x = numpy.linspace(0, L, nx)\n",
    "    y = data\n",
    "    line.set_data(x,y)\n",
    "    return line,"
   ]
  },
  {
   "cell_type": "code",
   "execution_count": null,
   "metadata": {
    "collapsed": true
   },
   "outputs": [],
   "source": [
    "fig = pyplot.figure();\n",
    "ax = pyplot.axes(xlim=(0,L),ylim=(0,50),xlabel=('Distance'),ylabel=('Height'));\n",
    "line, = ax.plot([],[],color='#003366',lw=3)\n",
    "\n",
    "anim = animation.FuncAnimation(fig, animate, frames = h_n, interval = 50)\n",
    "HTML(anim.to_html5_video())"
   ]
  },
  {
   "cell_type": "markdown",
   "metadata": {},
   "source": [
    "## Calculations of velocity at bottom, size of deposit"
   ]
  },
  {
   "cell_type": "code",
   "execution_count": 35,
   "metadata": {
    "collapsed": false
   },
   "outputs": [
    {
     "name": "stdout",
     "output_type": "stream",
     "text": [
      "Velocity of deposit at bottom (m/s): 0.856168\n"
     ]
    }
   ],
   "source": [
    "#Velocity at the bottom calculation\n",
    "vel=numpy.mean(vel)\n",
    "print('Velocity of deposit at bottom (m/s): {0:f}'.format(vel))"
   ]
  },
  {
   "cell_type": "code",
   "execution_count": 38,
   "metadata": {
    "collapsed": false
   },
   "outputs": [
    {
     "name": "stdout",
     "output_type": "stream",
     "text": [
      "Size of deposit at bottom (m^3): 79552961.974933\n"
     ]
    }
   ],
   "source": [
    "#Size of the deposit at the bottom\n",
    "deposit = numpy.sum(h_n*dx)\n",
    "print('Size of deposit at bottom (m^3): {0:f}'.format(deposit))"
   ]
  },
  {
   "cell_type": "markdown",
   "metadata": {},
   "source": [
    "## Conclusions & challenge task"
   ]
  },
  {
   "cell_type": "markdown",
   "metadata": {},
   "source": [
    "We have successfully modeled a lahar as a one dimensional, nonlinear advection equation. We used the MacCormack scheme to solve for the height of the lahar as a function of space and time. We were able to find the velocity and size of the lahar deposit and the bottom of our slope. For the challenge task, consider setting up the initial condition as a time dependent function for lahar height. "
   ]
  },
  {
   "cell_type": "markdown",
   "metadata": {},
   "source": [
    "## Dig Deeper ..."
   ]
  },
  {
   "cell_type": "markdown",
   "metadata": {},
   "source": [
    "This model of a lahar did not account for bulking and debulking. However, there are numerical models that have investigated adding in these terms-- see [5]. How could we manipulate our governing equation to include bulking and debulking? Would we continue to use the MacCormack scheme?"
   ]
  },
  {
   "cell_type": "markdown",
   "metadata": {},
   "source": [
    "## References"
   ]
  },
  {
   "cell_type": "markdown",
   "metadata": {},
   "source": [
    "[1] Program, Volcano Hazards. \"USGS: Volcano Hazards Program.\" USGS: Volcano Hazards Program. N.p. n.d. Web. 5 Dec. 2016.\n",
    "\n",
    "[2] Pierson, Thomas C., Nathan J. Wood, and Carolyn L. Driedger. \"Reducing risk from lahar hazards: concepts, case studies, and roles for scientists.\" Journal of Applied Volcanology 3.1 (2014): 1\n",
    "\n",
    "[3] Slingerland, Rudy, and Lee R. Kump. Mathematical Modeling of Earth's Dynamical Systems: A Primer. Princeton, NJ: Princeton UP, 2011. Print\n",
    "\n",
    "[4] Numerical MOOC- Module 3, Lesson 2\n",
    "\n",
    "[5] Fagents, Sara A., and Stephen M. Baloga. \"Toward a Model for the Bulking and Debulking of Lahars.\" Journal of Geophysical Research 111.B10 (2006): n. pag. Web. "
   ]
  },
  {
   "cell_type": "code",
   "execution_count": null,
   "metadata": {
    "collapsed": true
   },
   "outputs": [],
   "source": [
    "from IPython.core.display import HTML\n",
    "css_file = 'numericalmoocstyle.css'\n",
    "HTML(open(css_file,\"r\").read())"
   ]
  }
 ],
 "metadata": {
  "anaconda-cloud": {},
  "kernelspec": {
   "display_name": "Python [Root]",
   "language": "python",
   "name": "Python [Root]"
  },
  "language_info": {
   "codemirror_mode": {
    "name": "ipython",
    "version": 3
   },
   "file_extension": ".py",
   "mimetype": "text/x-python",
   "name": "python",
   "nbconvert_exporter": "python",
   "pygments_lexer": "ipython3",
   "version": "3.5.2"
  }
 },
 "nbformat": 4,
 "nbformat_minor": 0
}
