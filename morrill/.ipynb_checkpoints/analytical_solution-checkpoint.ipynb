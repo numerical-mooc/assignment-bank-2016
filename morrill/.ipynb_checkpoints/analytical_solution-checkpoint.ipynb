{
 "cells": [
  {
   "cell_type": "code",
   "execution_count": 1,
   "metadata": {
    "collapsed": true
   },
   "outputs": [],
   "source": [
    "import sympy\n",
    "sympy.init_printing()\n",
    "\n",
    "(x, y, Lx, Ly, n, m) = sympy.symbols('x y Lx Ly n m')"
   ]
  },
  {
   "cell_type": "code",
   "execution_count": 3,
   "metadata": {
    "collapsed": false
   },
   "outputs": [
    {
     "data": {
      "image/png": "[encoded data removed]",
      "text/latex": [
       "$$e^{- \\frac{0.714285714285714}{Lx^{2}} \\left(- \\frac{Lx}{2} + x\\right)^{2}}$$"
      ],
      "text/plain": [
       "                              2 \n",
       "                    ⎛  Lx    ⎞  \n",
       " -0.714285714285714⋅⎜- ── + x⎟  \n",
       "                    ⎝  2     ⎠  \n",
       " ───────────────────────────────\n",
       "                 2              \n",
       "               Lx               \n",
       "ℯ                               "
      ]
     },
     "execution_count": 3,
     "metadata": {},
     "output_type": "execute_result"
    }
   ],
   "source": [
    "f = sympy.exp(-((x - Lx/2)**2/(1.4*Lx**2)))\n",
    "f"
   ]
  },
  {
   "cell_type": "code",
   "execution_count": 5,
   "metadata": {
    "collapsed": false
   },
   "outputs": [
    {
     "data": {
      "image/png": "[encoded data removed]",
      "text/latex": [
       "$$e^{- \\frac{0.714285714285714}{Lx^{2}} \\left(- \\frac{Lx}{2} + x\\right)^{2}} \\cos{\\left (\\frac{\\pi n}{Lx} x \\right )}$$"
      ],
      "text/plain": [
       "                              2            \n",
       "                    ⎛  Lx    ⎞             \n",
       " -0.714285714285714⋅⎜- ── + x⎟             \n",
       "                    ⎝  2     ⎠             \n",
       " ───────────────────────────────           \n",
       "                 2                         \n",
       "               Lx                   ⎛π⋅n⋅x⎞\n",
       "ℯ                               ⋅cos⎜─────⎟\n",
       "                                    ⎝  Lx ⎠"
      ]
     },
     "execution_count": 5,
     "metadata": {},
     "output_type": "execute_result"
    }
   ],
   "source": [
    "integrand = f*sympy.cos(n*sympy.pi/Lx*x)\n",
    "integrand"
   ]
  },
  {
   "cell_type": "code",
   "execution_count": null,
   "metadata": {
    "collapsed": false
   },
   "outputs": [],
   "source": [
    "B = 4/(Lx*Ly)*sympy.integrate(integrand, (x, 0, Lx))\n",
    "B"
   ]
  },
  {
   "cell_type": "code",
   "execution_count": 6,
   "metadata": {
    "collapsed": true
   },
   "outputs": [],
   "source": [
    "import numpy\n",
    "from matplotlib import pyplot"
   ]
  },
  {
   "cell_type": "code",
   "execution_count": 7,
   "metadata": {
    "collapsed": true
   },
   "outputs": [],
   "source": [
    "x = numpy.linspace(0,10,100)\n",
    "f = numpy.exp(-(x - 5)**2/(1.4*100))*numpy.cos(numpy.pi/10*x)"
   ]
  },
  {
   "cell_type": "code",
   "execution_count": 8,
   "metadata": {
    "collapsed": false
   },
   "outputs": [
    {
     "data": {
      "text/plain": [
       "[<matplotlib.lines.Line2D at 0x22652dcc588>]"
      ]
     },
     "execution_count": 8,
     "metadata": {},
     "output_type": "execute_result"
    },
    {
     "data": {
      "image/png": "[encoded data removed]",
      "text/plain": [
       "<matplotlib.figure.Figure at 0x22652cfbfd0>"
      ]
     },
     "metadata": {},
     "output_type": "display_data"
    }
   ],
   "source": [
    "%matplotlib inline\n",
    "fig = pyplot.figure()\n",
    "\n",
    "pyplot.plot(x,f)"
   ]
  },
  {
   "cell_type": "code",
   "execution_count": null,
   "metadata": {
    "collapsed": true
   },
   "outputs": [],
   "source": []
  }
 ],
 "metadata": {
  "anaconda-cloud": {},
  "kernelspec": {
   "display_name": "Python [Root]",
   "language": "python",
   "name": "Python [Root]"
  },
  "language_info": {
   "codemirror_mode": {
    "name": "ipython",
    "version": 3
   },
   "file_extension": ".py",
   "mimetype": "text/x-python",
   "name": "python",
   "nbconvert_exporter": "python",
   "pygments_lexer": "ipython3",
   "version": "3.5.2"
  }
 },
 "nbformat": 4,
 "nbformat_minor": 0
}
