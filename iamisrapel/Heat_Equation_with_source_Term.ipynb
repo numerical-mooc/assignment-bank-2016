{
 "cells": [
  {
   "cell_type": "markdown",
   "metadata": {},
   "source": [
    "# Heat Conduction Equition with a source term"
   ]
  },
  {
   "cell_type": "markdown",
   "metadata": {},
   "source": [
    "## BACKGROUND STORY"
   ]
  },
  {
   "cell_type": "markdown",
   "metadata": {},
   "source": [
    "Have you ever heard of the story of the rabbits in Australia? At first, there are no rabbits in Australia, one man named Thomas Austin released 24  rabbits in 1859 near Winchelsea, Victoria, for a hunting purpose, but soon the rabbits were out of control.\n",
    "\n",
    "In 1896, rabbits were found in Queensland, which is more than 1000km away from where they were freed, and a research shows that the total number might be over 100 million\n",
    "\n",
    "In the beginning of the 20th century, they spread to all over Australia. In 1926, another research shows that there might be over 10 billion rabbits in Australia!"
   ]
  },
  {
   "cell_type": "markdown",
   "metadata": {},
   "source": [
    "## MATHMATICAL MODEL"
   ]
  },
  {
   "cell_type": "markdown",
   "metadata": {},
   "source": [
    "This topic greatly suits a model of using the diffusion equation with a source term, which is: \n",
    "\n",
    "\n",
    "\\begin{equation}\n",
    "\\frac{\\partial p}{\\partial t} = \\alpha \\left(\\frac{\\partial^2 p}{\\partial x^2} + \\frac{\\partial^2 p}{\\partial y^2} \\right) + Q(p)\n",
    "\\end{equation}\n",
    "\n",
    "\n",
    "Where p is the population, and the source term Q is a function of the population, probably is \n",
    "\n",
    "\n",
    "\\begin{equation}\n",
    "Q(p) = r p\n",
    "\\end{equation}\n",
    "\n",
    "\n",
    "where r stands for the growth rate of the population. Usually r is also a function of p, which means that the growth rate varies with different amount of population, if the population is low, r could be high, and if the population is high enough, r could be very small. But let's consider r to be a constant for now.\n",
    "\n"
   ]
  },
  {
   "cell_type": "markdown",
   "metadata": {},
   "source": [
    "What about $\\alpha$ ?Well, I'm very sorry to say that I tried to find some physical meaning for this constant, but failed, so let's just keep it there and use some information to find a reasonable number instead!!!!!!"
   ]
  },
  {
   "cell_type": "markdown",
   "metadata": {
    "collapsed": true
   },
   "source": [
    "By using what we have learned in the 4th chapter, we can tell the numerical equation is:\n",
    "\n",
    "\\begin{equation}\n",
    "p^{n+1}_{i,j}= p^n_{i,j} + \\alpha \\left( \\frac{\\Delta t}{\\Delta x^2} (p^n_{i+1, j} - 2p^n_{i,j} + p^n_{i-1,j}) + \\\\\\frac{\\Delta t}{\\Delta y^2} (p^n_{i, j+1} - 2p^n_{i,j} + p^n_{i,j-1})\\right) +Q(p){\\Delta t}\n",
    "\\end{equation}\n",
    "\n",
    "If we regard dx and dy are the same, which is:\\begin{equation}{\\Delta x} = {\\Delta y}\\end{equation}\n",
    "We can have:\n",
    "\\begin{equation}\n",
    "p^{n+1}_{i,j}= p^n_{i,j} + \\alpha \\frac{\\Delta t}{\\Delta x^2}\\left(  p^n_{i+1, j} - 4p^n_{i,j} + p^n_{i-1,j} + \\\\\\ p^n_{i, j+1} + p^n_{i,j-1}\\right) +Q(p){\\Delta t}\n",
    "\\end{equation}"
   ]
  },
  {
   "cell_type": "markdown",
   "metadata": {},
   "source": [
    "## START SOLVING!"
   ]
  },
  {
   "cell_type": "markdown",
   "metadata": {
    "collapsed": true
   },
   "source": [
    "Now is the time to set our problems, By googling \"Australia\", we can find that Australia is about 4000km long in the east-west direction and 3700km in the north-south direction, so we can have our dx = 100km to make a 37 * 40 matrix representing our \"Australia\"!\n",
    "\n",
    "And we can use \"1 month\" as dt, and measure everything in months."
   ]
  },
  {
   "cell_type": "code",
   "execution_count": 1,
   "metadata": {
    "collapsed": true
   },
   "outputs": [],
   "source": [
    "dx = 100\n",
    "dt = 1"
   ]
  },
  {
   "cell_type": "markdown",
   "metadata": {
    "collapsed": true
   },
   "source": [
    "Now let's list the information that we are going to use.\n",
    "\n",
    "1, In 1859, Thomas Austin released 24 rabbits near Winchelsea, Victoria.\n",
    "\n",
    "2, In around 1896, rabbits reached Queensland, and the total number may beyond 100 million\n",
    "\n",
    "3, In 1926, the number reached 10 billion."
   ]
  },
  {
   "cell_type": "code",
   "execution_count": 2,
   "metadata": {
    "collapsed": true
   },
   "outputs": [],
   "source": [
    "import numpy\n",
    "from matplotlib import pyplot,cm\n",
    "%matplotlib inline\n",
    "from IPython.display import Image"
   ]
  },
  {
   "cell_type": "markdown",
   "metadata": {},
   "source": [
    "### 1859 to 1896"
   ]
  },
  {
   "cell_type": "markdown",
   "metadata": {
    "collapsed": true
   },
   "source": [
    "Now, let's start from 1859 and try to calculate the growth rate to match the total population in 1896! In 1896,people first observed rabbits in Queensland, but how do we define \"observed\"? Why don't we make an asumption that when there is 100 rabbits in a 100km * 100km square, they are observable. And the total number of rabbits were probably around 100 million, we can use this information to adjust the value of $\\alpha$ to make the total number of rabbits around 100 million."
   ]
  },
  {
   "cell_type": "markdown",
   "metadata": {
    "collapsed": true
   },
   "source": [
    "By looking at the map (I removed it because it's too space costing), we can assume that Thomas Austin released the first 24 rabbits in p[0,30] eg.the yellow star near Melbourne, and Queensland is about 14 squares away, which is [14,30],the red area"
   ]
  },
  {
   "cell_type": "code",
   "execution_count": 4,
   "metadata": {
    "collapsed": true
   },
   "outputs": [],
   "source": [
    "#initial condition\n",
    "p_initial = numpy.zeros((37,40))\n",
    "p_initial[0,30] = 24"
   ]
  },
  {
   "cell_type": "markdown",
   "metadata": {},
   "source": [
    "Before coding, there is one problem: how can we make sure that after 37 years, the number of p[14,30] is just reached 100?Certainly we don't want to do the calculation by hand, We can do it by using a while loop outside the loop of step calculations, if the result don't match what we want, we can simply change a little bit and let the code run again! Until we got the answer we want."
   ]
  },
  {
   "cell_type": "code",
   "execution_count": 5,
   "metadata": {
    "collapsed": true
   },
   "outputs": [],
   "source": [
    "def year_1859_to_1896(p_initial,dx,dt):\n",
    "    \"\"\" \n",
    "    calculate the distribution of the density ofrabbits populations from 1859 to 1896, \n",
    "    with alpha = 89.5 to adjust the population to be around 100 million\n",
    "    \n",
    "    \n",
    "    Parameters:\n",
    "    ----------\n",
    "    p_initial: initial condition\n",
    "    dx: in this project, dx = 100 is suggested,stands for 100 km\n",
    "    dt: in this project, dt = 1 is suggested, stands for 1 month\n",
    "    \n",
    "    Returns:\n",
    "    -------\n",
    "    p: a 37 * 40 matrix, the population of the rabbits distribution in 1896\n",
    "    growth_rate: the growth rate that make sure after 444 months eg. from 1859 to 1896, the rabbits can reach the Queensland.\n",
    "    \"\"\"\n",
    "    months = 0\n",
    "    growth_rate = 0.005\n",
    "    p_n = numpy.zeros_like(p_initial)\n",
    "    p = p_initial.copy()\n",
    "    \n",
    "    \n",
    "    while months != 444:                   #444 = 12 months/year * 37 years， and if the result does't match 444 months, \n",
    "                                            #                                  cauculate again until it's 444!\n",
    "        months = 0\n",
    "        p = p_initial.copy()\n",
    "        \n",
    "        \n",
    "        \n",
    "        while p[14,30]<100:             # when the local population reaches 100, we consider they can be observed!\n",
    "            p_n = p.copy()\n",
    "            p[1:-1,1:-1] = (1 + growth_rate*dt)*p_n[1:-1,1:-1] + 89.5*dt/dx**2 * (p_n[1:-1,:-2] + p_n[1:-1,2:] + p_n[:-2,1:-1] + p_n[2:,1:-1] - \\\n",
    "                                                                                      4*p_n[1:-1,1:-1])\n",
    "            \n",
    "                                            #here we take alpha  = 89.5 \n",
    "                                            #in order to make sure that the total population is around 100 million according to the information we have\n",
    "                \n",
    "            p[0,:] = p[1,:]                 #Boundary Conditions, since the rabbits cannot fly, which makes no \"rabbit flow\" on the boundary. \n",
    "            p[-1,:] = p[-2,:]               #So we use Neumann boundary conditions to the four boundaries!!\n",
    "            p[:,0] = p[:,1]\n",
    "            p[:,-1] = p[:,-2]\n",
    "            \n",
    "            \n",
    "            months = months + 1\n",
    "            \n",
    "        if months > 444:                  #check out if the total time steps matches 444, \n",
    "            growth_rate = growth_rate*1.5 #if it's larger than 444, means that the growth rate is too low, so we redo the calculation with 1.5 times the growth rate, \n",
    "        elif months < 444:               #or if months were smaller than 444, which means they grow too fast, so we half the growth rate!\n",
    "            growth_rate = growth_rate*0.5\n",
    "            \n",
    "            \n",
    "    return p, growth_rate      "
   ]
  },
  {
   "cell_type": "markdown",
   "metadata": {},
   "source": [
    "CHECK THE RESULT!!"
   ]
  },
  {
   "cell_type": "code",
   "execution_count": 6,
   "metadata": {
    "collapsed": false
   },
   "outputs": [],
   "source": [
    "p_1896, growth_rate_1896 = year_1859_to_1896(p_initial,dx,dt)\n",
    "print(\"The average growth rate between 1859 and 1896 is\",growth_rate_1896)"
   ]
  },
  {
   "cell_type": "markdown",
   "metadata": {},
   "source": [
    "The result shows the growth rate is 4.55% per month!! This is a super huge number for the growth rate, no wonder why the rabbits can beat us human in Australia!"
   ]
  },
  {
   "cell_type": "markdown",
   "metadata": {},
   "source": [
    "let's plot the result!"
   ]
  },
  {
   "cell_type": "code",
   "execution_count": 10,
   "metadata": {
    "collapsed": true
   },
   "outputs": [],
   "source": [
    "def plot_result(Z):\n",
    "    x = numpy.linspace(0, 4000, 40)\n",
    "    y = numpy.linspace(0, 3700, 37)\n",
    "    X, Y = numpy.meshgrid(x,y)\n",
    "    pyplot.contourf(X,Y,Z,20,cmap=cm.viridis)\n",
    "    pyplot.colorbar();"
   ]
  },
  {
   "cell_type": "code",
   "execution_count": 11,
   "metadata": {
    "collapsed": false
   },
   "outputs": [
    {
     "data": {
      "image/png": "[encoded data removed]",
      "text/plain": [
       "<matplotlib.figure.Figure at 0x1a03b4b56d8>"
      ]
     },
     "metadata": {},
     "output_type": "display_data"
    }
   ],
   "source": [
    "plot_result(p_1896)"
   ]
  },
  {
   "cell_type": "markdown",
   "metadata": {},
   "source": [
    "Well, we can see that the population of the rabbits are spreading, although they seems not very fast, but the population density is enormous at the bottom-right area!!!"
   ]
  },
  {
   "cell_type": "markdown",
   "metadata": {},
   "source": [
    "## 1896 to 1910 and 1910 to 1926"
   ]
  },
  {
   "cell_type": "markdown",
   "metadata": {},
   "source": [
    "REMOVED. "
   ]
  },
  {
   "cell_type": "markdown",
   "metadata": {
    "collapsed": true
   },
   "source": [
    "## FURTHER MODEL ANALYSE"
   ]
  },
  {
   "cell_type": "markdown",
   "metadata": {
    "collapsed": true
   },
   "source": [
    "We've finished the coding, and get the result of the growth rate of the rabbits in Australia during 1859 to 1896 and 1896 to 1926, and plot the result of the population distribution by a simple model of heat equition. So, how good is this model? and How can we improve it?"
   ]
  },
  {
   "cell_type": "markdown",
   "metadata": {
    "collapsed": true
   },
   "source": [
    "Well I have to say that this model is very, very inaccurate. It's just not possible to model the growth and the spread of the population by a simple heat equition. There are many other things that can influence the growth rate and the spread speed of rabbits, including food, weather, other animals activity and human's hunting, also the geography can influence the spreadding speed, eg. a mountain or a river can significantly block the spread speed."
   ]
  },
  {
   "cell_type": "markdown",
   "metadata": {
    "collapsed": true
   },
   "source": [
    "But there are some other things that may can be done by more detailed coding. For example, in my project, we regard growth rate as an constant. If we consider it more carefully, it won't be hard to come up with a function of growth rate that is inverse proportional to the local population density. "
   ]
  },
  {
   "cell_type": "markdown",
   "metadata": {
    "collapsed": true
   },
   "source": [
    "Another thing that need more attention is the constant  $\\alpha$, in the heat equition, $\\alpha$ is a constant that is proportional to the constant in the Fourier's law, which means that this constant can influence the heat flux related to the gradient of the temperature. However, in  this project, I didn't find a meaningful explaination for $\\alpha$, but if we look at the equition carefully, \n",
    "\n",
    "\\begin{equation}\n",
    "p^{n+1}_{i,j}= p^n_{i,j} + \\alpha \\frac{\\Delta t}{\\Delta x^2}\\left(  p^n_{i+1, j} - 4p^n_{i,j} + p^n_{i-1,j} + \\\\\\ p^n_{i, j+1} + p^n_{i,j-1}\\right) +Q(p){\\Delta t}\n",
    "\\end{equation}\n",
    "\n",
    "Or if we write this equition in another way: \n",
    "\n",
    "\\begin{equation}\n",
    "p^{n+1}_{i,j} - p^n_{i,j}= \\alpha \\frac{\\Delta t}{\\Delta x^2}\\left(  p^n_{i+1, j} - 4p^n_{i,j} + p^n_{i-1,j} + \\\\\\ p^n_{i, j+1} + p^n_{i,j-1}\\right) +Q(p){\\Delta t}\n",
    "\\end{equation}\n",
    "\n",
    "Then it is clear that the change amount of the population is from two parts, one is from other areas around p[j,i], another part is the source term. So, larger $\\alpha$ means that the influence of the \"spread\" progress influence the change of the population greater. In other words, $\\alpha $ can be a function of the growth rate! If the growth rate is high, that can lead to a lower  $\\alpha$, or if the growth rate is very low, $\\alpha$ tends to be higher! And that is the reason why I choose 89.5 in the first function and 895 in the second function. and the model is going to be a nonlinear equition instead!"
   ]
  },
  {
   "cell_type": "markdown",
   "metadata": {},
   "source": [
    "## Reference\n",
    "1. Wikipedia-rabbits in Australia\n",
    "(https://en.wikipedia.org/wiki/Rabbits_in_Australia)\n",
    "\n",
    "2. Dasha Wang, 澳洲史上损失最惨重的生物入侵事件--兔灾,  6/23/2014\n",
    "(http://aus.tigtag.com/chat/176139.shtml)\n",
    "\n",
    "2. Lorena Barba's group, Numerical-mooc,  \n",
    "(https://github.com/numerical-mooc/numerical-mooc/blob/master/lessons/04_spreadout/04_03_Heat_Equation_2D_Explicit.ipynb)"
   ]
  },
  {
   "cell_type": "code",
   "execution_count": null,
   "metadata": {
    "collapsed": true
   },
   "outputs": [],
   "source": []
  }
 ],
 "metadata": {
  "anaconda-cloud": {},
  "kernelspec": {
   "display_name": "Python [default]",
   "language": "python",
   "name": "python3"
  },
  "language_info": {
   "codemirror_mode": {
    "name": "ipython",
    "version": 3
   },
   "file_extension": ".py",
   "mimetype": "text/x-python",
   "name": "python",
   "nbconvert_exporter": "python",
   "pygments_lexer": "ipython3",
   "version": "3.5.2"
  }
 },
 "nbformat": 4,
 "nbformat_minor": 1
}
