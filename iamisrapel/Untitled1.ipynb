{
 "cells": [
  {
   "cell_type": "code",
   "execution_count": 1,
   "metadata": {
    "collapsed": true
   },
   "outputs": [],
   "source": [
    "import numpy\n",
    "from scipy.linalg import solve"
   ]
  },
  {
   "cell_type": "code",
   "execution_count": 19,
   "metadata": {
    "collapsed": true
   },
   "outputs": [],
   "source": [
    "def constructMatrix(nx, ny, sigma):\n",
    "\n",
    "    A = numpy.zeros(((nx-2)*(ny-2),(nx-2)*(ny-2)))\n",
    "    \n",
    "    row_number = 0 # row counter\n",
    "    for j in range(1,ny-1):\n",
    "        for i in range(1,nx-1):\n",
    "            \n",
    "            # Corners\n",
    "            if i==1 and j==1: # Bottom left corner (Dirichlet down and left)\n",
    "                A[row_number,row_number] = 1/sigma+4 # Set diagonal\n",
    "                A[row_number,row_number+1] = -1      # fetch i+1\n",
    "                A[row_number,row_number+nx-2] = -1   # fetch j+1\n",
    "                \n",
    "            elif i==nx-2 and j==1: # Bottom right corner (Dirichlet down, Neumann right)\n",
    "                A[row_number,row_number] = 1/sigma+3 # Set diagonal\n",
    "                A[row_number,row_number-1] = -1      # Fetch i-1\n",
    "                A[row_number,row_number+nx-2] = -1   # fetch j+1\n",
    "                \n",
    "            elif i==1 and j==ny-2: # Top left corner (Neumann up, Dirichlet left)\n",
    "                A[row_number,row_number] = 1/sigma+3   # Set diagonal\n",
    "                A[row_number,row_number+1] = -1        # fetch i+1\n",
    "                A[row_number,row_number-(nx-2)] = -1   # fetch j-1\n",
    "                \n",
    "            elif i==nx-2 and j==ny-2: # Top right corner (Neumann up and right)\n",
    "                A[row_number,row_number] = 1/sigma+2   # Set diagonal\n",
    "                A[row_number,row_number-1] = -1        # Fetch i-1\n",
    "                A[row_number,row_number-(nx-2)] = -1   # fetch j-1\n",
    "              \n",
    "            # Sides\n",
    "            elif i==1: # Left boundary (Dirichlet)\n",
    "                A[row_number,row_number] = 1/sigma+4 # Set diagonal\n",
    "                A[row_number,row_number+1] = -1      # fetch i+1\n",
    "                A[row_number,row_number+nx-2] = -1   # fetch j+1\n",
    "                A[row_number,row_number-(nx-2)] = -1 # fetch j-1\n",
    "            \n",
    "            elif i==nx-2: # Right boundary (Neumann)\n",
    "                A[row_number,row_number] = 1/sigma+3 # Set diagonal\n",
    "                A[row_number,row_number-1] = -1      # Fetch i-1\n",
    "                A[row_number,row_number+nx-2] = -1   # fetch j+1\n",
    "                A[row_number,row_number-(nx-2)] = -1 # fetch j-1\n",
    "                \n",
    "            elif j==1: # Bottom boundary (Dirichlet)\n",
    "                A[row_number,row_number] = 1/sigma+4 # Set diagonal\n",
    "                A[row_number,row_number+1] = -1      # fetch i+1\n",
    "                A[row_number,row_number-1] = -1      # fetch i-1\n",
    "                A[row_number,row_number+nx-2] = -1   # fetch j+1\n",
    "                \n",
    "            elif j==ny-2: # Top boundary (Neumann)\n",
    "                A[row_number,row_number] = 1/sigma+3 # Set diagonal\n",
    "                A[row_number,row_number+1] = -1      # fetch i+1\n",
    "                A[row_number,row_number-1] = -1      # fetch i-1\n",
    "                A[row_number,row_number-(nx-2)] = -1 # fetch j-1\n",
    "                \n",
    "            # Interior points\n",
    "            else:\n",
    "                A[row_number,row_number] = 1/sigma+4 # Set diagonal\n",
    "                A[row_number,row_number+1] = -1      # fetch i+1\n",
    "                A[row_number,row_number-1] = -1      # fetch i-1\n",
    "                A[row_number,row_number+nx-2] = -1   # fetch j+1\n",
    "                A[row_number,row_number-(nx-2)] = -1 # fetch j-1\n",
    "                \n",
    "            row_number += 1 # Jump to next row of the matrix!\n",
    "    \n",
    "    return A           "
   ]
  },
  {
   "cell_type": "code",
   "execution_count": 20,
   "metadata": {
    "collapsed": true
   },
   "outputs": [],
   "source": [
    "def generateRHS(nx, ny, sigma, T, T_bc):\n",
    "\n",
    "    RHS = numpy.zeros((nx-2)*(ny-2))\n",
    "    \n",
    "    row_number = 0 # row counter\n",
    "    for j in range(1,ny-1):\n",
    "        for i in range(1,nx-1):\n",
    "            \n",
    "            # Corners\n",
    "            if i==1 and j==1: # Bottom left corner (Dirichlet down and left)\n",
    "                RHS[row_number] = T[j,i]*1/sigma + 2*T_bc\n",
    "                \n",
    "            elif i==nx-2 and j==1: # Bottom right corner (Dirichlet down, Neumann right)\n",
    "                RHS[row_number] = T[j,i]*1/sigma + T_bc\n",
    "                           \n",
    "            elif i==1 and j==ny-2: # Top left corner (Neumann up, Dirichlet left)\n",
    "                RHS[row_number] = T[j,i]*1/sigma + T_bc\n",
    "                \n",
    "            elif i==nx-2 and j==ny-2: # Top right corner (Neumann up and right)\n",
    "                RHS[row_number] = T[j,i]*1/sigma \n",
    "              \n",
    "            # Sides\n",
    "            elif i==1: # Left boundary (Dirichlet)\n",
    "                RHS[row_number] = T[j,i]*1/sigma + T_bc\n",
    "            \n",
    "            elif i==nx-2: # Right boundary (Neumann)\n",
    "                RHS[row_number] = T[j,i]*1/sigma \n",
    "                \n",
    "            elif j==1: # Bottom boundary (Dirichlet)\n",
    "                RHS[row_number] = T[j,i]*1/sigma + T_bc\n",
    "                \n",
    "            elif j==ny-2: # Top boundary (Neumann)\n",
    "                RHS[row_number] = T[j,i]*1/sigma\n",
    "                \n",
    "            # Interior points\n",
    "            else:\n",
    "                RHS[row_number] = T[j,i]*1/sigma \n",
    "                \n",
    "            row_number += 1 # Jump to next row!\n",
    "    \n",
    "    return RHS"
   ]
  },
  {
   "cell_type": "code",
   "execution_count": 21,
   "metadata": {
    "collapsed": true
   },
   "outputs": [],
   "source": [
    "def map_1Dto2D(nx, ny, T_1D, T_bc):\n",
    "\n",
    "    T = numpy.zeros((ny,nx))\n",
    "    \n",
    "    row_number = 0\n",
    "    for j in range(1,ny-1):\n",
    "        for i in range(1,nx-1):\n",
    "            T[j,i] = T_1D[row_number]\n",
    "            row_number += 1\n",
    "    # Dirichlet BC\n",
    "    T[0,:] = T_bc\n",
    "    T[:,0] = T_bc\n",
    "    #Neumann BC\n",
    "    T[-1,:] = T[-2,:]\n",
    "    T[:,-1] = T[:,-2]\n",
    "    \n",
    "    return T    "
   ]
  },
  {
   "cell_type": "code",
   "execution_count": 22,
   "metadata": {
    "collapsed": true
   },
   "outputs": [],
   "source": [
    "def btcs_2D(T, A, nt, sigma, T_bc, nx, ny, dt):\n",
    "\n",
    "    j_mid = int((numpy.shape(T)[0])/2)\n",
    "    i_mid = int((numpy.shape(T)[1])/2)\n",
    "    \n",
    "    for t in range(nt):\n",
    "        Tn = T.copy()\n",
    "        b = generateRHS(nx, ny, sigma, Tn, T_bc)\n",
    "        # Use numpy.linalg.solve\n",
    "        T_interior = solve(A,b)\n",
    "        T = map_1Dto2D(nx, ny, T_interior, T_bc)\n",
    "        \n",
    "        # Check if we reached T=70C\n",
    "        if T[j_mid, i_mid] >= 70:\n",
    "            print (\"Center of plate reached 70C at time {0:.2f}s, in time step {1:d}.\".format(dt*t, t))\n",
    "            break\n",
    "        \n",
    "    if T[j_mid, i_mid]<70:\n",
    "        print (\"Center has not reached 70C yet, it is only {0:.2f}C.\".format(T[j_mid, i_mid]))\n",
    "        \n",
    "    return T"
   ]
  },
  {
   "cell_type": "code",
   "execution_count": 3,
   "metadata": {
    "collapsed": false
   },
   "outputs": [],
   "source": [
    "a = numpy.zeros([3,3])"
   ]
  },
  {
   "cell_type": "code",
   "execution_count": null,
   "metadata": {
    "collapsed": true
   },
   "outputs": [],
   "source": []
  },
  {
   "cell_type": "code",
   "execution_count": null,
   "metadata": {
    "collapsed": true
   },
   "outputs": [],
   "source": []
  },
  {
   "cell_type": "code",
   "execution_count": null,
   "metadata": {
    "collapsed": true
   },
   "outputs": [],
   "source": []
  },
  {
   "cell_type": "code",
   "execution_count": 6,
   "metadata": {
    "collapsed": false
   },
   "outputs": [],
   "source": [
    "a[0,0] = 1\n",
    "a[1,1] = 2\n",
    "a[2,2] = 5\n",
    "a[2,1] = 5\n",
    "b = numpy.where(a>3)"
   ]
  },
  {
   "cell_type": "code",
   "execution_count": 16,
   "metadata": {
    "collapsed": false
   },
   "outputs": [],
   "source": [
    "c = numpy.ones([3,3])"
   ]
  },
  {
   "cell_type": "code",
   "execution_count": 17,
   "metadata": {
    "collapsed": false
   },
   "outputs": [],
   "source": [
    "d = numpy.where(a>c)"
   ]
  },
  {
   "cell_type": "code",
   "execution_count": 18,
   "metadata": {
    "collapsed": false
   },
   "outputs": [
    {
     "data": {
      "text/plain": [
       "(array([1, 2, 2]), array([1, 1, 2]))"
      ]
     },
     "execution_count": 18,
     "metadata": {},
     "output_type": "execute_result"
    }
   ],
   "source": [
    "d"
   ]
  },
  {
   "cell_type": "code",
   "execution_count": 66,
   "metadata": {
    "collapsed": true
   },
   "outputs": [],
   "source": [
    "import numpy"
   ]
  },
  {
   "cell_type": "code",
   "execution_count": 67,
   "metadata": {
    "collapsed": false
   },
   "outputs": [],
   "source": [
    "p_initial = numpy.zeros((37,40))\n",
    "p_initial[0,30] = 24\n",
    "p = p_initial.copy()\n",
    "growth_rate = 0.005\n",
    "dt = 1\n",
    "dx = 100\n",
    "months = 0"
   ]
  },
  {
   "cell_type": "code",
   "execution_count": 68,
   "metadata": {
    "collapsed": false
   },
   "outputs": [],
   "source": [
    "while p[30,30] <=50:\n",
    "        p_n = p.copy()\n",
    "        p[1:-1,1:-1] = (1 + growth_rate)*p_n[1:-1,1:-1] + dt/dx**2 * (p_n[1:-1,:-2] + p_n[1:-1,2:] + p_n[:-2,1:-1] + p_n[2:,1:-1] - \\\n",
    "                                                                                  4*p_n[1:-1,1:-1])            \n",
    "        p[0,:] = p[1,:]\n",
    "        p[-1,:] = p[-2,:]\n",
    "        p[:,0] = p[:,1]\n",
    "        p[:,-1] = p[:,-2]\n",
    "            \n",
    "            \n",
    "        months = months + 1"
   ]
  },
  {
   "cell_type": "code",
   "execution_count": 69,
   "metadata": {
    "collapsed": false
   },
   "outputs": [
    {
     "data": {
      "text/plain": [
       "14863"
      ]
     },
     "execution_count": 69,
     "metadata": {},
     "output_type": "execute_result"
    }
   ],
   "source": [
    "months"
   ]
  },
  {
   "cell_type": "code",
   "execution_count": 70,
   "metadata": {
    "collapsed": false
   },
   "outputs": [
    {
     "data": {
      "text/plain": [
       "50.236467698169115"
      ]
     },
     "execution_count": 70,
     "metadata": {},
     "output_type": "execute_result"
    }
   ],
   "source": [
    "p[30,30]"
   ]
  },
  {
   "cell_type": "code",
   "execution_count": 56,
   "metadata": {
    "collapsed": false
   },
   "outputs": [
    {
     "data": {
      "text/plain": [
       "121238.89479000002"
      ]
     },
     "execution_count": 56,
     "metadata": {},
     "output_type": "execute_result"
    }
   ],
   "source": [
    "p[30,30]"
   ]
  },
  {
   "cell_type": "code",
   "execution_count": 47,
   "metadata": {
    "collapsed": false
   },
   "outputs": [
    {
     "data": {
      "text/plain": [
       "array([ 0.,  0.,  0.,  0.,  0.,  0.,  0.,  0.,  0.,  0.,  0.,  0.,  0.,\n",
       "        0.,  0.,  0.,  0.,  0.,  0.,  0.,  0.,  0.,  0.,  0.,  0.,  0.,\n",
       "        0.,  0.,  0.,  0.,  0.,  0.,  0.,  0.,  0.,  0.,  0.,  0.,  0.,  0.])"
      ]
     },
     "execution_count": 47,
     "metadata": {},
     "output_type": "execute_result"
    }
   ],
   "source": [
    "p[31,:]"
   ]
  },
  {
   "cell_type": "code",
   "execution_count": null,
   "metadata": {
    "collapsed": true
   },
   "outputs": [],
   "source": []
  },
  {
   "cell_type": "code",
   "execution_count": null,
   "metadata": {
    "collapsed": true
   },
   "outputs": [],
   "source": []
  },
  {
   "cell_type": "code",
   "execution_count": 31,
   "metadata": {
    "collapsed": false
   },
   "outputs": [
    {
     "data": {
      "text/plain": [
       "array([[ True,  True, False, ..., False, False, False],\n",
       "       [ True,  True, False, ..., False, False, False],\n",
       "       [ True,  True,  True, ..., False, False, False],\n",
       "       ..., \n",
       "       [ True,  True,  True, ...,  True,  True,  True],\n",
       "       [ True,  True,  True, ...,  True,  True,  True],\n",
       "       [ True,  True,  True, ...,  True,  True,  True]], dtype=bool)"
      ]
     },
     "execution_count": 31,
     "metadata": {},
     "output_type": "execute_result"
    }
   ],
   "source": [
    "p1 == p"
   ]
  },
  {
   "cell_type": "code",
   "execution_count": null,
   "metadata": {
    "collapsed": true
   },
   "outputs": [],
   "source": []
  }
 ],
 "metadata": {
  "kernelspec": {
   "display_name": "Python [default]",
   "language": "python",
   "name": "python3"
  },
  "language_info": {
   "codemirror_mode": {
    "name": "ipython",
    "version": 3
   },
   "file_extension": ".py",
   "mimetype": "text/x-python",
   "name": "python",
   "nbconvert_exporter": "python",
   "pygments_lexer": "ipython3",
   "version": "3.5.2"
  }
 },
 "nbformat": 4,
 "nbformat_minor": 1
}
