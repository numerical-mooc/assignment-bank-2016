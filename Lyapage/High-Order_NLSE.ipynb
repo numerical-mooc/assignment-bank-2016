{
 "cells": [
  {
   "cell_type": "markdown",
   "metadata": {},
   "source": [
    "One form of standard nonlinear schrödinger equation(pertubed nonlinear schrödinger equation) by **S.M.Hoseini etc**:\n",
    "\n",
    "$$i\\Psi_t + \\Psi_{xx} + \\Psi|\\Psi|^2 = 0$$ \n",
    "\n",
    "Derivative nonlinear schrödinger equation by **David J. kaup**: \n",
    "\n",
    "$$i\\Psi_t = -\\Psi_{xx} + i(\\Psi \\Psi^2)_x$$\n",
    "\n",
    "Derivative nonlinear schrödinger equation type 2 by **Hassan A.Zedan**: \n",
    "\n",
    "$$i\\Psi$$"
   ]
  },
  {
   "cell_type": "code",
   "execution_count": 1,
   "metadata": {
    "collapsed": true
   },
   "outputs": [],
   "source": [
    "import sympy"
   ]
  },
  {
   "cell_type": "code",
   "execution_count": null,
   "metadata": {
    "collapsed": true
   },
   "outputs": [],
   "source": []
  },
  {
   "cell_type": "code",
   "execution_count": null,
   "metadata": {
    "collapsed": true
   },
   "outputs": [],
   "source": []
  }
 ],
 "metadata": {
  "anaconda-cloud": {},
  "kernelspec": {
   "display_name": "Python [default]",
   "language": "python",
   "name": "python3"
  },
  "language_info": {
   "codemirror_mode": {
    "name": "ipython",
    "version": 3
   },
   "file_extension": ".py",
   "mimetype": "text/x-python",
   "name": "python",
   "nbconvert_exporter": "python",
   "pygments_lexer": "ipython3",
   "version": "3.5.2"
  }
 },
 "nbformat": 4,
 "nbformat_minor": 1
}
