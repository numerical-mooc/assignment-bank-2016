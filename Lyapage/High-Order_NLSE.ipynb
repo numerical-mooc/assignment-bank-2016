{
 "cells": [
  {
   "cell_type": "markdown",
   "metadata": {},
   "source": [
    "<font color='brown',size = 4>\" Where did we get that (equation) from? Nowhere. It is not possible to derive it from\n",
    "anything you know. It came out of the mind of Schrödinger. ”<br/> </font>\n",
    "<br/>                                        \n",
    "<p style='text-align: right'><font color='brown',size = 4>--Richard Feynman[1]</font></p>\n",
    "\n",
    "schrödinger equation can be used to explain the dynamics of solition which is highly related to optical fiber\n",
    "communication performance. Besides, this magic equation plays a perfect tool in micropropulsion (powered by plama) to presents the the movement of ions and electrons in this engine which indicated the working status of propulsion engine. \n",
    "<img src=\"https://oak.itl.gwu.edu/user/lyapage/files/plasma/micropropulsion_engine.png\" width=\"500\" height=\"500\" />\n",
    "<p style='text-align: center'>Figure 1.Micropropulsion engine</p>\n",
    "<img src=\"https://oak.itl.gwu.edu/user/lyapage/files/plasma/micropropulsion_engine_crosssection.png\" width=\"500\" height=\"500\" />\n",
    "<p style='text-align: center'>Figure 2.Micropropulsion engine cross-section</p>\n",
    "\n",
    "\n",
    "Original Inhomogeneous higher order nonlinear schrödinger equation (IHNLSE) by **Zhang**:\n",
    "\n",
    "$$\\Psi_x = i( a_1(x)\\Psi_{tt} + a_2(x)|\\Psi|^2\\Psi ) + a_3(x)\\Psi_{ttt} + a_4(x)(|\\Psi|^2\\Psi)_t \\\\\n",
    " a_5(x)\\Psi(|\\Psi|^2)_t + \\Gamma(x)\\Psi\\quad\\quad(1)$$\n",
    " \n",
    "For numerical solution, this equation contains a third order time derivatives term which is extremely complicated. And in this equation $i-imaginary~part, \\Gamma(x)-Kerr~instability~term$. An interesting thing is that if one let $a_3(x) = a_4(x) = a_5(x) = \\Gamma (x) = 0$, this equation will become a perturbed nonlinear schrödinger equation:\n",
    "\n",
    "$$\\Psi_x = i(a_1(x)\\Psi_{tt} + a_2(x)|\\Psi|^2\\Psi)$$\n",
    "\n",
    "One form of standard nonlinear schrödinger equation(pertubed nonlinear schrödinger equation) by **S.M.Hoseini etc**:\n",
    "\n",
    "$$i\\Psi_t + \\Psi_{xx} + \\Psi|\\Psi|^2 = 0$$ \n",
    "\n",
    "Derivative nonlinear schrödinger equation by **David J. kaup**: \n",
    "\n",
    "$$i\\Psi_t = -\\Psi_{xx} + i(\\Psi \\Psi^2)_x$$\n",
    "\n",
    "Derivative nonlinear schrödinger equation type 2 by **Hassan A.Zedan**: \n",
    "\n",
    "$$i\\Psi + \\dfrac{1}{2}\\dfrac{\\partial^2\\Psi}{\\partial x^2} + i\\epsilon(\\beta_2|\\Psi|^2\\Psi_x) = 0$$\n",
    "\n",
    "S.M.Hoeini(two implicit schemes)--Crank-nicolson scheme and Taha schemes(based on inverse scatterig transform)\n",
    "\n",
    "Taha scheme as good as Ablowitz-Ladik scheme.\n",
    "\n",
    "Crank-nilson scheme needed here, since this method is popular from second-order parabolic PDE:\n",
    "\n",
    "$$i(\\Psi_i^{n+1} - \\Psi_i^{n}) + \\Delta t~\\Psi_i^n~{|\\Psi_i^{n+1}|}^2  + \\mathbf{\\Delta t~\\Psi_i^{n+1}~|\\Psi_i^{n+1}|^2} +\\dfrac{\\Delta t}{2\\Delta x^2}(\\Psi_{i+1}^{n+1} - 2\\Psi_{i}^{n+1}+\\Psi_{i-1}^{n+1}\\\\\n",
    "\\Psi_{i+1}^n - 2\\Psi_{i}^n + \\Psi_{i-1}^n)$$\n",
    "\n",
    "From *S.M.Hoseini etc* paper, the bolded part in above equation is necessary.\n",
    "\n",
    "This system is unconditionally stable and this is one of the main advantages of implicit method. truncation error $\\mathcal O(\\Delta x^2, \\Delta t^2)$\n",
    "\n",
    "Now it is time to provide the Taha scheme:\n",
    "\n",
    "$$\\Psi_i^{n+1} - \\Psi_i^n+(\\Psi_{i+2}^n+\\Psi_{i-2}^n)A^{(4)}-(\\Psi_{i+2}^{n+1}+\\Psi_{i-2}^{n+1})D^{(4)} + (\\Psi_{i+1}^n + \\Psi_{i-1}^n)A^{(2)}-(\\Psi_{i+1}^{n+1}+\\Psi_{i-1}^{n+1})D^{(2)}\\\\\n",
    "+\\Psi_{i}^{n}A^{(0)} - \\Psi_{i}^{n+1}D^{(0)}+\\Delta x^2[((\\Psi_{i+1}^{n}~\\Psi_{i+2}^{n+1}~\\Psi_{i+1}^{n+1})+\\Psi_{i+1}^{n+1}\\Psi_{i}^{n+1}\\Psi_{i+1}^{n})...)]$$\n",
    "\n",
    "It is too complicated, I will remove Taha  scheme.\n"
   ]
  },
  {
   "cell_type": "code",
   "execution_count": null,
   "metadata": {
    "collapsed": false
   },
   "outputs": [],
   "source": []
  },
  {
   "cell_type": "markdown",
   "metadata": {
    "collapsed": true
   },
   "source": []
  },
  {
   "cell_type": "code",
   "execution_count": null,
   "metadata": {
    "collapsed": true
   },
   "outputs": [],
   "source": []
  }
 ],
 "metadata": {
  "anaconda-cloud": {},
  "kernelspec": {
   "display_name": "Python [default]",
   "language": "python",
   "name": "python3"
  },
  "language_info": {
   "codemirror_mode": {
    "name": "ipython",
    "version": 3
   },
   "file_extension": ".py",
   "mimetype": "text/x-python",
   "name": "python",
   "nbconvert_exporter": "python",
   "pygments_lexer": "ipython3",
   "version": "3.5.2"
  }
 },
 "nbformat": 4,
 "nbformat_minor": 1
}
