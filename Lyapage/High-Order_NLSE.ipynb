{
 "cells": [
  {
   "cell_type": "markdown",
   "metadata": {},
   "source": [
    "schrödinger equation can be used to explain the movement of solition which is highly related with optical fiber communication performance. Besides, this magic equation plays a perfect tool in micropropulsion (powered by plama) to presents the the movement of ions and electrons in this engine which indicated the working status of propulsion engine. \n",
    "\n",
    "Original Inhomogeneous higher order nonlinear schrödinger equation (IHNLSE) by **Zhang**:\n",
    "\n",
    "$$\\Psi_x = i( a_1(x)\\Psi_{tt} + a_2(x)|\\Psi|^2\\Psi ) + a_3(x)\\Psi_{ttt} + a_4(x)(|\\Psi|^2\\Psi)_t \\\\\n",
    " a_5(x)\\Psi(|\\Psi|^2)_t + \\Gamma(x)\\Psi\\quad\\quad(1)$$\n",
    " \n",
    "For numerical solution, this equation contains a third order time derivatives term which is extremely complicated. And in this equation $i-imaginary~part, \\Gamma(x)-Kerr~instability~term$. An interesting thing is that if one let $a_3(x) = a_4(x) = a_5(x) = \\Gamma (x) = 0$, this equation will become a perturbed nonlinear schrödinger equation:\n",
    "\n",
    "$$\\Psi_x = i(a_1(x)\\Psi_{tt} + a_2(x)|\\Psi|^2\\Psi)$$\n",
    "\n",
    "One form of standard nonlinear schrödinger equation(pertubed nonlinear schrödinger equation) by **S.M.Hoseini etc**:\n",
    "\n",
    "$$i\\Psi_t + \\Psi_{xx} + \\Psi|\\Psi|^2 = 0$$ \n",
    "\n",
    "Derivative nonlinear schrödinger equation by **David J. kaup**: \n",
    "\n",
    "$$i\\Psi_t = -\\Psi_{xx} + i(\\Psi \\Psi^2)_x$$\n",
    "\n",
    "Derivative nonlinear schrödinger equation type 2 by **Hassan A.Zedan**: \n",
    "\n",
    "$$i\\Psi + \\dfrac{1}{2}\\dfrac{\\partial^2\\Psi}{\\partial x^2} + i\\epsilon(\\beta_2|\\Psi|^2\\Psi_x) = 0$$"
   ]
  },
  {
   "cell_type": "code",
   "execution_count": null,
   "metadata": {
    "collapsed": true
   },
   "outputs": [],
   "source": []
  },
  {
   "cell_type": "code",
   "execution_count": null,
   "metadata": {
    "collapsed": true
   },
   "outputs": [],
   "source": []
  },
  {
   "cell_type": "code",
   "execution_count": null,
   "metadata": {
    "collapsed": true
   },
   "outputs": [],
   "source": []
  }
 ],
 "metadata": {
  "anaconda-cloud": {},
  "kernelspec": {
   "display_name": "Python [default]",
   "language": "python",
   "name": "python3"
  },
  "language_info": {
   "codemirror_mode": {
    "name": "ipython",
    "version": 3
   },
   "file_extension": ".py",
   "mimetype": "text/x-python",
   "name": "python",
   "nbconvert_exporter": "python",
   "pygments_lexer": "ipython3",
   "version": "3.5.2"
  }
 },
 "nbformat": 4,
 "nbformat_minor": 1
}
