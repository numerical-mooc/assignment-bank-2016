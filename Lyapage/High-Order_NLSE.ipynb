{
 "cells": [
  {
   "cell_type": "markdown",
   "metadata": {},
   "source": [
    "###### Content under Creative Commons Attribution license CC-BY 4.0, code under MIT license (c)2014 L.A. Barba, C. Cooper, G.F. Forsyth, A. Krishnan.\n",
    "\n",
    "# Application of Schrödinger equation in micropropulsion"
   ]
  },
  {
   "cell_type": "markdown",
   "metadata": {},
   "source": [
    "## 1. Introduction\n",
    "### 1.1 Background for micropropulsion engine\n",
    "<font color='brown',size = 4>“ Where did we get that (equation) from? Nowhere. It is not possible to derive it from\n",
    "anything you know. It came out of the mind of Schrödinger. ”<br/> </font>\n",
    "<br/>                                        \n",
    "<p style='text-align: right'><font color='brown',size = 4>--Richard Feynman [1]</font></p>\n",
    "\n",
    "Schrödinger equation can be used to explain the dynamics of solition which is highly related to optical fiber communication performance. Besides, this magic equation plays a perfect tool in micropropulsion (powered by energized plama) to represent the dynamics of waves creaed by plasma (neutral combination of ions and electrons) associated with thrust which based on the mechanism of utilizing eletromanetic coil to produce and accelerate plasma.\n",
    "\n",
    "<img src=\"https://oak.itl.gwu.edu/user/lyapage/files/plasma/micropropulsion_engine.png\" width=\"400\" height=\"400\" />\n",
    "<p style='text-align: center'>Figure 1.Micropropulsion engine</p>\n",
    "<img src=\"https://oak.itl.gwu.edu/user/lyapage/files/plasma/micropropulsion_engine_crosssection.png\" width=\"400\" height=\"400\" />\n",
    "<p style='text-align: center'>Figure 2.Micropropulsion engine cross-section</p>\n",
    "\n",
    "The Figure 1 shows the part of micropropulsion engine included the plasma injecting chamber and nozzle.The Figure 2 highlihted the plasma chamber as blue part which can be easily distinguished. In this project, nonlinear Schrödinger equation (NLSE) will be treated as 1D and the spatial coordinates correspond to the length of chamber.\n",
    "\n",
    "### 1.2 Selection of proper NLSE for micropropulsion Engine\n",
    "\n",
    "Then,it is the time to select the most appropriate schrödinger equation to depict this problem from various types. Original Inhomogeneous higher order nonlinear schrödinger equation (IHNLSE) by **Zhang** [2]:\n",
    "\n",
    "$$\\Psi_x = i( a_1(x)\\Psi_{tt} + a_2(x)|\\Psi|^2\\Psi ) + a_3(x)\\Psi_{ttt} + a_4(x)(|\\Psi|^2\\Psi)_t \\\\\n",
    " a_5(x)\\Psi(|\\Psi|^2)_t + \\Gamma(x)\\Psi\\qquad\\qquad(1)$$\n",
    " \n",
    "For numerical solution, Eq (1) contains a third order time derivatives term which causing the problem of chosing schemes. An interesting thing is that if one let $a_3(x) = a_4(x) = a_5(x) = \\Gamma (x) = 0$, this equation will become a perturbed nonlinear schrödinger equation:\n",
    "\n",
    "$$\\Psi_x = i(a_1(x)\\Psi_{tt} + a_2(x)|\\Psi|^2\\Psi)\\qquad\\qquad(2)$$\n",
    "\n",
    "Eq (2) is similar to derivative nonlinear schrödinger type 1 solved by **David J. kaup** [3] and type 2 derived by **Hassan** [4]: \n",
    "\n",
    "$$i\\Psi_t = -\\Psi_{xx} + i(\\Psi \\Psi^2)_x\\qquad type~1\\\\\n",
    " i\\Psi_t + \\dfrac{1}{2}\\Psi_{xx}+|\\Psi|^2\\Psi + i\\epsilon\\beta_2|\\Psi|^2\\Psi_x  = 0\\qquad type~2\\qquad(3)$$\n",
    "\n",
    "However, for above three equations, they hold one common defficiency: lack of dissipation term which is required for describing working status of plasma injecting chamber.Then,a dissipative NLSE by **Hilmi Demiray** [5] introduced:\n",
    "\n",
    "$$i\\Psi_t + \\mu_1\\Psi_{xx} + \\mu_2|\\Psi|^2\\Psi + i\\mu_3\\Psi = 0\\qquad\\qquad(4)$$\n",
    "\n",
    "For above equation $\\mu_1-dispersion, \\mu_2-nonlinearity, \\mu_3-dissipation$ when dissipasive are weak which means $\\mu_3=0$, then this equation have almost the same expression of **S.M.Hoseini etc** model [6]."
   ]
  },
  {
   "cell_type": "markdown",
   "metadata": {},
   "source": [
    "## 2 Solving NLSE\n",
    "\n",
    "### 2.1 Analytical solution  \n",
    "\n",
    "For Eq (4), **Hilmi Demiray** also derive the exact analytical solution in [5]. Due the complex expression of analytical solution, sympy will be used here to presents the expression clearly.\n"
   ]
  },
  {
   "cell_type": "code",
   "execution_count": 99,
   "metadata": {
    "collapsed": false
   },
   "outputs": [
    {
     "data": {
      "image/png": "[encoded data removed]",
      "text/latex": [
       "$$\\Psi{\\left (t,x \\right )} = a_{0} e^{i \\left(- K^{2} \\mu_{1} t + K \\zeta - \\frac{3 a_{0}^{2} \\mu_{2}}{4 \\mu_{3}} \\left(-1 + e^{- \\frac{4 \\mu_{3}}{3} t}\\right)\\right)} e^{- \\frac{2 \\mu_{3}}{3} t} \\tanh{\\left (\\zeta \\right )}$$"
      ],
      "text/plain": [
       "                ⎛                           ⎛      -4⋅μ₃⋅t ⎞⎞                 \n",
       "                ⎜                           ⎜      ────────⎟⎟                 \n",
       "                ⎜                      2    ⎜         3    ⎟⎟                 \n",
       "                ⎜   2              3⋅a₀ ⋅μ₂⋅⎝-1 + ℯ        ⎠⎟  -2⋅μ₃⋅t        \n",
       "              i⋅⎜- K ⋅μ₁⋅t + K⋅ζ - ─────────────────────────⎟  ────────       \n",
       "                ⎝                             4⋅μ₃          ⎠     3           \n",
       "Ψ(t, x) = a₀⋅ℯ                                               ⋅ℯ        ⋅tanh(ζ\n",
       "\n",
       " \n",
       " \n",
       " \n",
       " \n",
       " \n",
       " \n",
       ")"
      ]
     },
     "execution_count": 99,
     "metadata": {},
     "output_type": "execute_result"
    }
   ],
   "source": [
    "import sympy\n",
    "from fractions import Fraction\n",
    "sympy.init_printing()\n",
    "\n",
    "'''\n",
    "define three variables actually zata is the intermediate variables depend on t and x\n",
    "'''\n",
    "(i, Psi, K, a_0,mu_1,mu_2,mu_3,t,x,zeta) = sympy.symbols('i Psi K a_0 mu_1 mu_2 mu_3 t x zeta')    \n",
    "\n",
    "eq1 = sympy.Eq(Psi(t,x),a_0*sympy.exp(Fraction(-2,3)*mu_3*t)*sympy.tanh(zeta)\\\n",
    "               *sympy.exp(i*(K*zeta-mu_1*K**2*t\\\n",
    "        -Fraction(3,4)*mu_2/mu_3*a_0**2*(sympy.exp(Fraction(-4,3)*mu_3*t)-1))))\n",
    "\n",
    "eq2 = sympy.Eq(zeta(t,x),(-mu_2/(2*mu_1))**(Fraction(1,2))*a_0*sympy.exp(-Fraction(2,3)*mu_3\\\n",
    "                    *t)*(x-2*mu_1*K*t))\n",
    "eq1"
   ]
  },
  {
   "cell_type": "code",
   "execution_count": 100,
   "metadata": {
    "collapsed": false
   },
   "outputs": [
    {
     "data": {
      "image/png": "[encoded data removed]",
      "text/latex": [
       "$$\\zeta\\left(t, x\\right) = \\frac{\\sqrt{2} a_{0}}{2} \\sqrt{- \\frac{\\mu_{2}}{\\mu_{1}}} \\left(- 2 K \\mu_{1} t + x\\right) e^{- \\frac{2 \\mu_{3}}{3} t}$$"
      ],
      "text/plain": [
       "                                            -2⋅μ₃⋅t \n",
       "                    ______                  ────────\n",
       "                   ╱ -μ₂                       3    \n",
       "          √2⋅a₀⋅  ╱  ──── ⋅(-2⋅K⋅μ₁⋅t + x)⋅ℯ        \n",
       "                ╲╱    μ₁                            \n",
       "ζ(t, x) = ──────────────────────────────────────────\n",
       "                              2                     "
      ]
     },
     "execution_count": 100,
     "metadata": {},
     "output_type": "execute_result"
    }
   ],
   "source": [
    "eq2"
   ]
  },
  {
   "cell_type": "markdown",
   "metadata": {},
   "source": [
    "Above two equations consists of the exact anlytical solution system among these two equations, $a_0,K-constants$"
   ]
  },
  {
   "cell_type": "code",
   "execution_count": 155,
   "metadata": {
    "collapsed": false
   },
   "outputs": [
    {
     "name": "stdout",
     "output_type": "stream",
     "text": [
      "Eq(Psi(t, x), a_0*exp(i*(-K**2*mu_1*t + K*zeta - 3*a_0**2*mu_2*(-1 + exp(-4*mu_3*t/3))/(4*mu_3)))*exp(-2*mu_3*t/3)*tanh(zeta))\n"
     ]
    }
   ],
   "source": [
    "print(eq1)"
   ]
  },
  {
   "cell_type": "code",
   "execution_count": 140,
   "metadata": {
    "collapsed": false
   },
   "outputs": [
    {
     "data": {
      "image/png": "[encoded data removed]",
      "text/latex": [
       "$$3$$"
      ],
      "text/plain": [
       "3"
      ]
     },
     "execution_count": 140,
     "metadata": {},
     "output_type": "execute_result"
    }
   ],
   "source": []
  },
  {
   "cell_type": "code",
   "execution_count": 183,
   "metadata": {
    "collapsed": true
   },
   "outputs": [],
   "source": [
    "def NLSE_analytical(t,x,mu_1,mu_2,mu_3,a_0,K):\n",
    "    \n",
    "    '''\n",
    "    1. using code: print(eq1) print(eq2) will obtain analytical solution just copy and paste\n",
    "    them and add numpy for each operator. \n",
    "    \n",
    "    mu_1: dispersion coefficient\n",
    "    \n",
    "    mu_2: nonlinearity coefficient\n",
    "    \n",
    "    mu_3: dissipation coefficient\n",
    "    \n",
    "    a_0,K - constants for solution\n",
    "    \n",
    "    '''\n",
    "    if mu_1*mu_2 > 0: #numpy.sqrt() cannot calculate negative number so make some change:\n",
    "                      # ex) numpy.sqrt(-5) = 1j*numpy.sqrt(numpy.abs(5))\n",
    "    \n",
    "        zeta= numpy.sqrt(2.0)*a_0*numpy.sqrt(numpy.abs(-mu_2/mu_1))*1j*(-2*K*mu_1*t + x)\\\n",
    "              *numpy.exp(-2*mu_3*t/3)/2\n",
    "    \n",
    "    \n",
    "    else:\n",
    "        \n",
    "        zeta= numpy.sqrt(2.0)*a_0*numpy.sqrt(-mu_2/mu_1)*(-2*K*mu_1*t + x)\\\n",
    "              *numpy.exp(-2*mu_3*t/3)/2\n",
    "    \n",
    "    \n",
    "    psi = a_0*numpy.exp(1j*(-K**2*mu_1*t + K*zeta - 3*a_0**2*mu_2\\\n",
    "          *(-1 + numpy.exp(-4*mu_3*t/3))/(4*mu_3)))\\\n",
    "         *numpy.exp(-2*mu_3*t/3)*numpy.tanh(zeta)\n",
    "    \n",
    "    \n",
    "    return psi"
   ]
  },
  {
   "cell_type": "code",
   "execution_count": 191,
   "metadata": {
    "collapsed": false
   },
   "outputs": [
    {
     "data": {
      "text/plain": [
       "array([[ 0.00000000+0.j        , -0.00011565-0.07094337j,\n",
       "        -0.00090663-0.14210258j, ...,  0.01137679+0.00715327j,\n",
       "         0.01099682+0.00617094j,  0.01059536+0.0052684j ],\n",
       "       [ 0.00000000+0.00352307j, -0.00010948-0.0671559j ,\n",
       "        -0.00088078-0.13805242j, ...,  0.01136918+0.00714848j,\n",
       "         0.01098958+0.00616688j,  0.01058850+0.00526499j],\n",
       "       [ 0.00000000+0.00702136j, -0.00010335-0.06339503j,\n",
       "        -0.00085512-0.13403052j, ...,  0.01136156+0.00714369j,\n",
       "         0.01098234+0.00616282j,  0.01058163+0.00526158j],\n",
       "       ..., \n",
       "       [ 0.00000000+0.25532222j,  0.00032998+0.20240916j,\n",
       "         0.00095687+0.14997838j, ...,  0.01064114+0.00669072j,\n",
       "         0.01029702+0.00577825j,  0.00993166+0.00493839j],\n",
       "       [ 0.00000000+0.2572409j ,  0.00033328+0.20443372j,\n",
       "         0.00097058+0.15212648j, ...,  0.01063375+0.00668607j,\n",
       "         0.01028998+0.0057743j ,  0.00992499+0.00493507j],\n",
       "       [ 0.00000000+0.25915011j,  0.00033656+0.20644723j,\n",
       "         0.00098420+0.15426221j, ...,  0.01062635+0.00668142j,\n",
       "         0.01028295+0.00577035j,  0.00991831+0.00493175j]])"
      ]
     },
     "execution_count": 191,
     "metadata": {},
     "output_type": "execute_result"
    }
   ],
   "source": [
    "import numpy\n",
    "#Specific impulse for micropropulsion is short, so 5s is an acceptable value.\n",
    "#According to Professor Michael Keidar's design, length of plasma injecting chamber is 50cm.\n",
    "\n",
    "t = numpy.linspace(0.0,5.0,101)\n",
    "x = numpy.linspace(0.0,0.5,101)\n",
    "t,x = numpy.meshgrid(t,x)\n",
    "\n",
    "#mu_1,2,3 coefficients for function \n",
    "#a_0,K arbitrary constants for analytical solution \n",
    "mu_1 = 1\n",
    "mu_2 = 1\n",
    "mu_3 = 1\n",
    "a_0 = 1\n",
    "K = 1\n",
    "\n",
    "psi_test1 = NLSE_analytical(t,x,mu_1,mu_2,mu_3,a_0,K)\n",
    "psi_test1"
   ]
  },
  {
   "cell_type": "code",
   "execution_count": null,
   "metadata": {
    "collapsed": false
   },
   "outputs": [],
   "source": []
  },
  {
   "cell_type": "code",
   "execution_count": null,
   "metadata": {
    "collapsed": true
   },
   "outputs": [],
   "source": []
  },
  {
   "cell_type": "markdown",
   "metadata": {},
   "source": [
    "### 2.2 Numerical solution\n",
    "S.M.Hoeini(two implicit schemes)--Crank-nicolson scheme and Taha schemes(based on inverse scatterig transform)\n",
    "\n",
    "Taha scheme as good as Ablowitz-Ladik scheme.\n",
    "\n",
    "Crank-nilson scheme needed here, since this method is popular from second-order parabolic PDE:\n",
    "\n",
    "$$i(\\Psi_i^{n+1} - \\Psi_i^{n}) + \\Delta t~\\Psi_i^n~{|\\Psi_i^{n+1}|}^2  + \\mathbf{\\Delta t~\\Psi_i^{n+1}~|\\Psi_i^{n+1}|^2} +\\dfrac{\\Delta t}{2\\Delta x^2}(\\Psi_{i+1}^{n+1} - 2\\Psi_{i}^{n+1}+\\Psi_{i-1}^{n+1}\\\\\n",
    "\\Psi_{i+1}^n - 2\\Psi_{i}^n + \\Psi_{i-1}^n)$$\n",
    "\n",
    "From *S.M.Hoseini etc* paper, the bolded part in above equation is necessary.\n",
    "\n",
    "This system is unconditionally stable and this is one of the main advantages of implicit method. truncation error $\\mathcal O(\\Delta x^2, \\Delta t^2)$\n",
    "\n",
    "Now it is time to provide the Taha scheme:\n",
    "\n",
    "$$\\Psi_i^{n+1} - \\Psi_i^n+(\\Psi_{i+2}^n+\\Psi_{i-2}^n)A^{(4)}-(\\Psi_{i+2}^{n+1}+\\Psi_{i-2}^{n+1})D^{(4)} + (\\Psi_{i+1}^n + \\Psi_{i-1}^n)A^{(2)}-(\\Psi_{i+1}^{n+1}+\\Psi_{i-1}^{n+1})D^{(2)}\\\\\n",
    "+\\Psi_{i}^{n}A^{(0)} - \\Psi_{i}^{n+1}D^{(0)}+\\Delta x^2[((\\Psi_{i+1}^{n}~\\Psi_{i+2}^{n+1}~\\Psi_{i+1}^{n+1})+\\Psi_{i+1}^{n+1}\\Psi_{i}^{n+1}\\Psi_{i+1}^{n})...)]$$\n",
    "\n",
    "It is too complicated, I will remove Taha  scheme."
   ]
  },
  {
   "cell_type": "code",
   "execution_count": null,
   "metadata": {
    "collapsed": false
   },
   "outputs": [],
   "source": []
  },
  {
   "cell_type": "code",
   "execution_count": null,
   "metadata": {
    "collapsed": false
   },
   "outputs": [],
   "source": []
  },
  {
   "cell_type": "code",
   "execution_count": null,
   "metadata": {
    "collapsed": true
   },
   "outputs": [],
   "source": []
  }
 ],
 "metadata": {
  "anaconda-cloud": {},
  "kernelspec": {
   "display_name": "Python [default]",
   "language": "python",
   "name": "python3"
  },
  "language_info": {
   "codemirror_mode": {
    "name": "ipython",
    "version": 3
   },
   "file_extension": ".py",
   "mimetype": "text/x-python",
   "name": "python",
   "nbconvert_exporter": "python",
   "pygments_lexer": "ipython3",
   "version": "3.5.2"
  }
 },
 "nbformat": 4,
 "nbformat_minor": 1
}
