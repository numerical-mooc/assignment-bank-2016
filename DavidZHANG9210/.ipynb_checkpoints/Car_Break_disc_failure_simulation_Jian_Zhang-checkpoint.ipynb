{
 "cells": [
  {
   "cell_type": "markdown",
   "metadata": {},
   "source": [
    "# Solid brake disc simulation"
   ]
  },
  {
   "cell_type": "code",
   "execution_count": 144,
   "metadata": {
    "collapsed": false
   },
   "outputs": [],
   "source": [
    "import numpy\n",
    "import sympy\n",
    "from sympy import *\n",
    "from matplotlib import pyplot, cm\n",
    "%matplotlib inline\n",
    "from matplotlib import rcParams\n",
    "rcParams['font.family'] = 'serif'\n",
    "rcParams['font.size'] = 16"
   ]
  },
  {
   "cell_type": "markdown",
   "metadata": {
    "collapsed": true
   },
   "source": [
    "calculate the heat flux in a unite time"
   ]
  },
  {
   "cell_type": "code",
   "execution_count": 109,
   "metadata": {
    "collapsed": false
   },
   "outputs": [],
   "source": [
    "# initial parameters of the brake disc\n",
    "sympy.init_printing()\n",
    "(F, q, T, r, p_max, pi, r_i, dr, r_o, f_r, n, N) = sympy.symbols('F q T r p_max  pi  r_i  dr  r_o  f_r n  N')"
   ]
  },
  {
   "cell_type": "code",
   "execution_count": 110,
   "metadata": {
    "collapsed": true
   },
   "outputs": [],
   "source": [
    "r = sympy.symbols('r', positive = True)\n",
    "clamping_force = sympy.Eq(F, integrate((2*pi*p_max*r), (r, r_i, r_o)))"
   ]
  },
  {
   "cell_type": "code",
   "execution_count": 111,
   "metadata": {
    "collapsed": false
   },
   "outputs": [
    {
     "data": {
      "image/png": "[encoded data removed]",
      "text/latex": [
       "$$F = - p_{max} \\pi r_{i}^{2} + p_{max} \\pi r_{o}^{2}$$"
      ],
      "text/plain": [
       "               2            2\n",
       "F = - pₘₐₓ⋅π⋅rᵢ  + pₘₐₓ⋅π⋅rₒ "
      ]
     },
     "execution_count": 111,
     "metadata": {},
     "output_type": "execute_result"
    }
   ],
   "source": [
    "clamping_force"
   ]
  },
  {
   "cell_type": "markdown",
   "metadata": {},
   "source": [
    "$$F=\\int_{r_o}^{r_i}2{\\pi}p_{max}rdr=2{\\pi}p_{max}r_i(r_{o}-r_{i})$$"
   ]
  },
  {
   "cell_type": "markdown",
   "metadata": {
    "collapsed": true
   },
   "source": [
    "calculate the heat generation power(heat flux between callipers and discs) "
   ]
  },
  {
   "cell_type": "code",
   "execution_count": 112,
   "metadata": {
    "collapsed": false
   },
   "outputs": [],
   "source": [
    "heat_generation = sympy.Eq(q, integrate((2*pi*r*f_r*p_max*n*2*pi*r*N/60),(r, r_i, r_o)))"
   ]
  },
  {
   "cell_type": "code",
   "execution_count": 113,
   "metadata": {
    "collapsed": false
   },
   "outputs": [
    {
     "data": {
      "image/png": "[encoded data removed]",
      "text/latex": [
       "$$q = - \\frac{N f_{r}}{45} n p_{max} \\pi^{2} r_{i}^{3} + \\frac{N f_{r}}{45} n p_{max} \\pi^{2} r_{o}^{3}$$"
      ],
      "text/plain": [
       "                   2   3                2   3\n",
       "      N⋅fᵣ⋅n⋅pₘₐₓ⋅π ⋅rᵢ    N⋅fᵣ⋅n⋅pₘₐₓ⋅π ⋅rₒ \n",
       "q = - ────────────────── + ──────────────────\n",
       "              45                   45        "
      ]
     },
     "execution_count": 113,
     "metadata": {},
     "output_type": "execute_result"
    }
   ],
   "source": [
    "heat_generation "
   ]
  },
  {
   "cell_type": "markdown",
   "metadata": {},
   "source": [
    "$$q=\\int_{r_o}^{r_i}2{\\pi}rf_rp_{max}\\left(\\frac{n2{\\pi}}{60}\\right)rNdr$$"
   ]
  },
  {
   "cell_type": "code",
   "execution_count": 114,
   "metadata": {
    "collapsed": false
   },
   "outputs": [],
   "source": [
    "P_sol = sympy.solve(heat_generation, q)[0]"
   ]
  },
  {
   "cell_type": "code",
   "execution_count": 115,
   "metadata": {
    "collapsed": false
   },
   "outputs": [
    {
     "data": {
      "image/png": "[encoded data removed]",
      "text/latex": [
       "$$\\frac{N f_{r}}{45} n p_{max} \\pi^{2} \\left(- r_{i}^{3} + r_{o}^{3}\\right)$$"
      ],
      "text/plain": [
       "             2 ⎛    3     3⎞\n",
       "N⋅fᵣ⋅n⋅pₘₐₓ⋅π ⋅⎝- rᵢ  + rₒ ⎠\n",
       "────────────────────────────\n",
       "             45             "
      ]
     },
     "execution_count": 115,
     "metadata": {},
     "output_type": "execute_result"
    }
   ],
   "source": [
    "P_sol"
   ]
  },
  {
   "cell_type": "code",
   "execution_count": 117,
   "metadata": {
    "collapsed": false
   },
   "outputs": [
    {
     "data": {
      "image/png": "[encoded data removed]",
      "text/latex": [
       "$$82380.7544149025$$"
      ],
      "text/plain": [
       "82380.7544149025"
      ]
     },
     "execution_count": 117,
     "metadata": {},
     "output_type": "execute_result"
    }
   ],
   "source": [
    "heatflux = P_sol.evalf(subs={pi:numpy.pi, f_r:0.2, n:840, p_max:13e5, N:1, r_i:81.1/1000, r_o:131.1/1000})\n",
    "heatflux"
   ]
  },
  {
   "cell_type": "markdown",
   "metadata": {},
   "source": [
    "$$T_{begin,j}=\\frac{q_x}{KA}{\\delta_x}+T_{begin+1,j}$$"
   ]
  },
  {
   "cell_type": "markdown",
   "metadata": {},
   "source": [
    "$$T_{end,j}=\\frac{q_x}{KA}{\\delta_x}+T_{end-1,j}$$"
   ]
  },
  {
   "cell_type": "markdown",
   "metadata": {},
   "source": [
    "$$q=KA\\frac{{\\Delta}T}{{\\Delta}X}$$"
   ]
  },
  {
   "cell_type": "markdown",
   "metadata": {},
   "source": [
    "$$E={\\varepsilon}{\\delta}T^4$$"
   ]
  },
  {
   "cell_type": "code",
   "execution_count": 126,
   "metadata": {
    "collapsed": true
   },
   "outputs": [],
   "source": [
    "q = N*f_r*n*p_max*(numpy.pi**2)*(r_o**3 - r_i**3)/45"
   ]
  },
  {
   "cell_type": "code",
   "execution_count": 127,
   "metadata": {
    "collapsed": false
   },
   "outputs": [
    {
     "data": {
      "image/png": "[encoded data removed]",
      "text/latex": [
       "$$82380.7544149025$$"
      ],
      "text/plain": [
       "82380.7544149025"
      ]
     },
     "execution_count": 127,
     "metadata": {},
     "output_type": "execute_result"
    }
   ],
   "source": [
    "q"
   ]
  },
  {
   "cell_type": "code",
   "execution_count": 86,
   "metadata": {
    "collapsed": false
   },
   "outputs": [
    {
     "data": {
      "text/plain": [
       "array([[0.21932454224643*N*f_r*n*p_max*(-r_i**3 + r_o**3)],\n",
       "       [0.21932454224643*N*f_r*n*p_max*(-r_i**3 + r_o**3)],\n",
       "       [0.21932454224643*N*f_r*n*p_max*(-r_i**3 + r_o**3)],\n",
       "       [0.21932454224643*N*f_r*n*p_max*(-r_i**3 + r_o**3)],\n",
       "       [0.21932454224643*N*f_r*n*p_max*(-r_i**3 + r_o**3)],\n",
       "       [0.21932454224643*N*f_r*n*p_max*(-r_i**3 + r_o**3)],\n",
       "       [0.21932454224643*N*f_r*n*p_max*(-r_i**3 + r_o**3)],\n",
       "       [0.21932454224643*N*f_r*n*p_max*(-r_i**3 + r_o**3)],\n",
       "       [0.21932454224643*N*f_r*n*p_max*(-r_i**3 + r_o**3)],\n",
       "       [0.21932454224643*N*f_r*n*p_max*(-r_i**3 + r_o**3)],\n",
       "       [0.21932454224643*N*f_r*n*p_max*(-r_i**3 + r_o**3)],\n",
       "       [0.21932454224643*N*f_r*n*p_max*(-r_i**3 + r_o**3)],\n",
       "       [0.21932454224643*N*f_r*n*p_max*(-r_i**3 + r_o**3)],\n",
       "       [0.21932454224643*N*f_r*n*p_max*(-r_i**3 + r_o**3)],\n",
       "       [0.21932454224643*N*f_r*n*p_max*(-r_i**3 + r_o**3)],\n",
       "       [0.21932454224643*N*f_r*n*p_max*(-r_i**3 + r_o**3)],\n",
       "       [0.21932454224643*N*f_r*n*p_max*(-r_i**3 + r_o**3)],\n",
       "       [0.21932454224643*N*f_r*n*p_max*(-r_i**3 + r_o**3)],\n",
       "       [0.21932454224643*N*f_r*n*p_max*(-r_i**3 + r_o**3)],\n",
       "       [0.21932454224643*N*f_r*n*p_max*(-r_i**3 + r_o**3)],\n",
       "       [0.21932454224643*N*f_r*n*p_max*(-r_i**3 + r_o**3)],\n",
       "       [0.21932454224643*N*f_r*n*p_max*(-r_i**3 + r_o**3)],\n",
       "       [0.21932454224643*N*f_r*n*p_max*(-r_i**3 + r_o**3)],\n",
       "       [0.21932454224643*N*f_r*n*p_max*(-r_i**3 + r_o**3)],\n",
       "       [0.21932454224643*N*f_r*n*p_max*(-r_i**3 + r_o**3)],\n",
       "       [0.21932454224643*N*f_r*n*p_max*(-r_i**3 + r_o**3)],\n",
       "       [0.21932454224643*N*f_r*n*p_max*(-r_i**3 + r_o**3)],\n",
       "       [0.21932454224643*N*f_r*n*p_max*(-r_i**3 + r_o**3)],\n",
       "       [0.21932454224643*N*f_r*n*p_max*(-r_i**3 + r_o**3)],\n",
       "       [0.21932454224643*N*f_r*n*p_max*(-r_i**3 + r_o**3)],\n",
       "       [0.21932454224643*N*f_r*n*p_max*(-r_i**3 + r_o**3)],\n",
       "       [0.21932454224643*N*f_r*n*p_max*(-r_i**3 + r_o**3)],\n",
       "       [0.21932454224643*N*f_r*n*p_max*(-r_i**3 + r_o**3)],\n",
       "       [0.21932454224643*N*f_r*n*p_max*(-r_i**3 + r_o**3)],\n",
       "       [0.21932454224643*N*f_r*n*p_max*(-r_i**3 + r_o**3)],\n",
       "       [0.21932454224643*N*f_r*n*p_max*(-r_i**3 + r_o**3)],\n",
       "       [0.21932454224643*N*f_r*n*p_max*(-r_i**3 + r_o**3)],\n",
       "       [0.21932454224643*N*f_r*n*p_max*(-r_i**3 + r_o**3)],\n",
       "       [0.21932454224643*N*f_r*n*p_max*(-r_i**3 + r_o**3)],\n",
       "       [0.21932454224643*N*f_r*n*p_max*(-r_i**3 + r_o**3)],\n",
       "       [0.21932454224643*N*f_r*n*p_max*(-r_i**3 + r_o**3)],\n",
       "       [0.21932454224643*N*f_r*n*p_max*(-r_i**3 + r_o**3)],\n",
       "       [0.21932454224643*N*f_r*n*p_max*(-r_i**3 + r_o**3)],\n",
       "       [0.21932454224643*N*f_r*n*p_max*(-r_i**3 + r_o**3)],\n",
       "       [0.21932454224643*N*f_r*n*p_max*(-r_i**3 + r_o**3)],\n",
       "       [0.21932454224643*N*f_r*n*p_max*(-r_i**3 + r_o**3)],\n",
       "       [0.21932454224643*N*f_r*n*p_max*(-r_i**3 + r_o**3)],\n",
       "       [0.21932454224643*N*f_r*n*p_max*(-r_i**3 + r_o**3)],\n",
       "       [0.21932454224643*N*f_r*n*p_max*(-r_i**3 + r_o**3)],\n",
       "       [0.21932454224643*N*f_r*n*p_max*(-r_i**3 + r_o**3)],\n",
       "       [0.21932454224643*N*f_r*n*p_max*(-r_i**3 + r_o**3)],\n",
       "       [0.21932454224643*N*f_r*n*p_max*(-r_i**3 + r_o**3)],\n",
       "       [0.21932454224643*N*f_r*n*p_max*(-r_i**3 + r_o**3)],\n",
       "       [0.21932454224643*N*f_r*n*p_max*(-r_i**3 + r_o**3)],\n",
       "       [0.21932454224643*N*f_r*n*p_max*(-r_i**3 + r_o**3)],\n",
       "       [0.21932454224643*N*f_r*n*p_max*(-r_i**3 + r_o**3)],\n",
       "       [0.21932454224643*N*f_r*n*p_max*(-r_i**3 + r_o**3)],\n",
       "       [0.21932454224643*N*f_r*n*p_max*(-r_i**3 + r_o**3)],\n",
       "       [0.21932454224643*N*f_r*n*p_max*(-r_i**3 + r_o**3)],\n",
       "       [0.21932454224643*N*f_r*n*p_max*(-r_i**3 + r_o**3)],\n",
       "       [0.21932454224643*N*f_r*n*p_max*(-r_i**3 + r_o**3)],\n",
       "       [0.21932454224643*N*f_r*n*p_max*(-r_i**3 + r_o**3)],\n",
       "       [0.21932454224643*N*f_r*n*p_max*(-r_i**3 + r_o**3)],\n",
       "       [0.21932454224643*N*f_r*n*p_max*(-r_i**3 + r_o**3)],\n",
       "       [0.21932454224643*N*f_r*n*p_max*(-r_i**3 + r_o**3)],\n",
       "       [0.21932454224643*N*f_r*n*p_max*(-r_i**3 + r_o**3)],\n",
       "       [0.21932454224643*N*f_r*n*p_max*(-r_i**3 + r_o**3)],\n",
       "       [0.21932454224643*N*f_r*n*p_max*(-r_i**3 + r_o**3)],\n",
       "       [0.21932454224643*N*f_r*n*p_max*(-r_i**3 + r_o**3)],\n",
       "       [0.21932454224643*N*f_r*n*p_max*(-r_i**3 + r_o**3)],\n",
       "       [0.21932454224643*N*f_r*n*p_max*(-r_i**3 + r_o**3)],\n",
       "       [0.21932454224643*N*f_r*n*p_max*(-r_i**3 + r_o**3)],\n",
       "       [0.21932454224643*N*f_r*n*p_max*(-r_i**3 + r_o**3)],\n",
       "       [0.21932454224643*N*f_r*n*p_max*(-r_i**3 + r_o**3)],\n",
       "       [0.21932454224643*N*f_r*n*p_max*(-r_i**3 + r_o**3)],\n",
       "       [0.21932454224643*N*f_r*n*p_max*(-r_i**3 + r_o**3)],\n",
       "       [0.21932454224643*N*f_r*n*p_max*(-r_i**3 + r_o**3)],\n",
       "       [0.21932454224643*N*f_r*n*p_max*(-r_i**3 + r_o**3)],\n",
       "       [0.21932454224643*N*f_r*n*p_max*(-r_i**3 + r_o**3)],\n",
       "       [0.21932454224643*N*f_r*n*p_max*(-r_i**3 + r_o**3)],\n",
       "       [0.21932454224643*N*f_r*n*p_max*(-r_i**3 + r_o**3)],\n",
       "       [0.21932454224643*N*f_r*n*p_max*(-r_i**3 + r_o**3)],\n",
       "       [0.21932454224643*N*f_r*n*p_max*(-r_i**3 + r_o**3)],\n",
       "       [0.21932454224643*N*f_r*n*p_max*(-r_i**3 + r_o**3)],\n",
       "       [0.21932454224643*N*f_r*n*p_max*(-r_i**3 + r_o**3)],\n",
       "       [0.21932454224643*N*f_r*n*p_max*(-r_i**3 + r_o**3)],\n",
       "       [0.21932454224643*N*f_r*n*p_max*(-r_i**3 + r_o**3)],\n",
       "       [0.21932454224643*N*f_r*n*p_max*(-r_i**3 + r_o**3)],\n",
       "       [0.21932454224643*N*f_r*n*p_max*(-r_i**3 + r_o**3)],\n",
       "       [0.21932454224643*N*f_r*n*p_max*(-r_i**3 + r_o**3)],\n",
       "       [0.21932454224643*N*f_r*n*p_max*(-r_i**3 + r_o**3)],\n",
       "       [0.21932454224643*N*f_r*n*p_max*(-r_i**3 + r_o**3)],\n",
       "       [0.21932454224643*N*f_r*n*p_max*(-r_i**3 + r_o**3)],\n",
       "       [0.21932454224643*N*f_r*n*p_max*(-r_i**3 + r_o**3)],\n",
       "       [0.21932454224643*N*f_r*n*p_max*(-r_i**3 + r_o**3)],\n",
       "       [0.21932454224643*N*f_r*n*p_max*(-r_i**3 + r_o**3)],\n",
       "       [0.21932454224643*N*f_r*n*p_max*(-r_i**3 + r_o**3)],\n",
       "       [0.21932454224643*N*f_r*n*p_max*(-r_i**3 + r_o**3)],\n",
       "       [0.21932454224643*N*f_r*n*p_max*(-r_i**3 + r_o**3)],\n",
       "       [0.21932454224643*N*f_r*n*p_max*(-r_i**3 + r_o**3)],\n",
       "       [0.21932454224643*N*f_r*n*p_max*(-r_i**3 + r_o**3)],\n",
       "       [0.21932454224643*N*f_r*n*p_max*(-r_i**3 + r_o**3)],\n",
       "       [0.21932454224643*N*f_r*n*p_max*(-r_i**3 + r_o**3)],\n",
       "       [0.21932454224643*N*f_r*n*p_max*(-r_i**3 + r_o**3)],\n",
       "       [0.21932454224643*N*f_r*n*p_max*(-r_i**3 + r_o**3)],\n",
       "       [0.21932454224643*N*f_r*n*p_max*(-r_i**3 + r_o**3)],\n",
       "       [0.21932454224643*N*f_r*n*p_max*(-r_i**3 + r_o**3)],\n",
       "       [0.21932454224643*N*f_r*n*p_max*(-r_i**3 + r_o**3)],\n",
       "       [0.21932454224643*N*f_r*n*p_max*(-r_i**3 + r_o**3)],\n",
       "       [0.21932454224643*N*f_r*n*p_max*(-r_i**3 + r_o**3)],\n",
       "       [0.21932454224643*N*f_r*n*p_max*(-r_i**3 + r_o**3)],\n",
       "       [0.21932454224643*N*f_r*n*p_max*(-r_i**3 + r_o**3)],\n",
       "       [0.21932454224643*N*f_r*n*p_max*(-r_i**3 + r_o**3)],\n",
       "       [0.21932454224643*N*f_r*n*p_max*(-r_i**3 + r_o**3)],\n",
       "       [0.21932454224643*N*f_r*n*p_max*(-r_i**3 + r_o**3)],\n",
       "       [0.21932454224643*N*f_r*n*p_max*(-r_i**3 + r_o**3)],\n",
       "       [0.21932454224643*N*f_r*n*p_max*(-r_i**3 + r_o**3)],\n",
       "       [0.21932454224643*N*f_r*n*p_max*(-r_i**3 + r_o**3)],\n",
       "       [0.21932454224643*N*f_r*n*p_max*(-r_i**3 + r_o**3)],\n",
       "       [0.21932454224643*N*f_r*n*p_max*(-r_i**3 + r_o**3)],\n",
       "       [0.21932454224643*N*f_r*n*p_max*(-r_i**3 + r_o**3)],\n",
       "       [0.21932454224643*N*f_r*n*p_max*(-r_i**3 + r_o**3)],\n",
       "       [0.21932454224643*N*f_r*n*p_max*(-r_i**3 + r_o**3)],\n",
       "       [0.21932454224643*N*f_r*n*p_max*(-r_i**3 + r_o**3)],\n",
       "       [0.21932454224643*N*f_r*n*p_max*(-r_i**3 + r_o**3)],\n",
       "       [0.21932454224643*N*f_r*n*p_max*(-r_i**3 + r_o**3)],\n",
       "       [0.21932454224643*N*f_r*n*p_max*(-r_i**3 + r_o**3)],\n",
       "       [0.21932454224643*N*f_r*n*p_max*(-r_i**3 + r_o**3)],\n",
       "       [0.21932454224643*N*f_r*n*p_max*(-r_i**3 + r_o**3)],\n",
       "       [0.21932454224643*N*f_r*n*p_max*(-r_i**3 + r_o**3)],\n",
       "       [0.21932454224643*N*f_r*n*p_max*(-r_i**3 + r_o**3)],\n",
       "       [0.21932454224643*N*f_r*n*p_max*(-r_i**3 + r_o**3)],\n",
       "       [0.21932454224643*N*f_r*n*p_max*(-r_i**3 + r_o**3)],\n",
       "       [0.21932454224643*N*f_r*n*p_max*(-r_i**3 + r_o**3)],\n",
       "       [0.21932454224643*N*f_r*n*p_max*(-r_i**3 + r_o**3)],\n",
       "       [0.21932454224643*N*f_r*n*p_max*(-r_i**3 + r_o**3)],\n",
       "       [0.21932454224643*N*f_r*n*p_max*(-r_i**3 + r_o**3)],\n",
       "       [0.21932454224643*N*f_r*n*p_max*(-r_i**3 + r_o**3)],\n",
       "       [0.21932454224643*N*f_r*n*p_max*(-r_i**3 + r_o**3)],\n",
       "       [0.21932454224643*N*f_r*n*p_max*(-r_i**3 + r_o**3)],\n",
       "       [0.21932454224643*N*f_r*n*p_max*(-r_i**3 + r_o**3)],\n",
       "       [0.21932454224643*N*f_r*n*p_max*(-r_i**3 + r_o**3)],\n",
       "       [0.21932454224643*N*f_r*n*p_max*(-r_i**3 + r_o**3)],\n",
       "       [0.21932454224643*N*f_r*n*p_max*(-r_i**3 + r_o**3)],\n",
       "       [0.21932454224643*N*f_r*n*p_max*(-r_i**3 + r_o**3)],\n",
       "       [0.21932454224643*N*f_r*n*p_max*(-r_i**3 + r_o**3)],\n",
       "       [0.21932454224643*N*f_r*n*p_max*(-r_i**3 + r_o**3)],\n",
       "       [0.21932454224643*N*f_r*n*p_max*(-r_i**3 + r_o**3)],\n",
       "       [0.21932454224643*N*f_r*n*p_max*(-r_i**3 + r_o**3)],\n",
       "       [0.21932454224643*N*f_r*n*p_max*(-r_i**3 + r_o**3)],\n",
       "       [0.21932454224643*N*f_r*n*p_max*(-r_i**3 + r_o**3)],\n",
       "       [0.21932454224643*N*f_r*n*p_max*(-r_i**3 + r_o**3)],\n",
       "       [0.21932454224643*N*f_r*n*p_max*(-r_i**3 + r_o**3)],\n",
       "       [0.21932454224643*N*f_r*n*p_max*(-r_i**3 + r_o**3)],\n",
       "       [0.21932454224643*N*f_r*n*p_max*(-r_i**3 + r_o**3)],\n",
       "       [0.21932454224643*N*f_r*n*p_max*(-r_i**3 + r_o**3)],\n",
       "       [0.21932454224643*N*f_r*n*p_max*(-r_i**3 + r_o**3)],\n",
       "       [0.21932454224643*N*f_r*n*p_max*(-r_i**3 + r_o**3)],\n",
       "       [0.21932454224643*N*f_r*n*p_max*(-r_i**3 + r_o**3)],\n",
       "       [0.21932454224643*N*f_r*n*p_max*(-r_i**3 + r_o**3)],\n",
       "       [0.21932454224643*N*f_r*n*p_max*(-r_i**3 + r_o**3)],\n",
       "       [0.21932454224643*N*f_r*n*p_max*(-r_i**3 + r_o**3)],\n",
       "       [0.21932454224643*N*f_r*n*p_max*(-r_i**3 + r_o**3)],\n",
       "       [0.21932454224643*N*f_r*n*p_max*(-r_i**3 + r_o**3)],\n",
       "       [0.21932454224643*N*f_r*n*p_max*(-r_i**3 + r_o**3)],\n",
       "       [0.21932454224643*N*f_r*n*p_max*(-r_i**3 + r_o**3)],\n",
       "       [0.21932454224643*N*f_r*n*p_max*(-r_i**3 + r_o**3)],\n",
       "       [0.21932454224643*N*f_r*n*p_max*(-r_i**3 + r_o**3)],\n",
       "       [0.21932454224643*N*f_r*n*p_max*(-r_i**3 + r_o**3)],\n",
       "       [0.21932454224643*N*f_r*n*p_max*(-r_i**3 + r_o**3)],\n",
       "       [0.21932454224643*N*f_r*n*p_max*(-r_i**3 + r_o**3)],\n",
       "       [0.21932454224643*N*f_r*n*p_max*(-r_i**3 + r_o**3)],\n",
       "       [0.21932454224643*N*f_r*n*p_max*(-r_i**3 + r_o**3)],\n",
       "       [0.21932454224643*N*f_r*n*p_max*(-r_i**3 + r_o**3)],\n",
       "       [0.21932454224643*N*f_r*n*p_max*(-r_i**3 + r_o**3)],\n",
       "       [0.21932454224643*N*f_r*n*p_max*(-r_i**3 + r_o**3)],\n",
       "       [0.21932454224643*N*f_r*n*p_max*(-r_i**3 + r_o**3)],\n",
       "       [0.21932454224643*N*f_r*n*p_max*(-r_i**3 + r_o**3)],\n",
       "       [0.21932454224643*N*f_r*n*p_max*(-r_i**3 + r_o**3)],\n",
       "       [0.21932454224643*N*f_r*n*p_max*(-r_i**3 + r_o**3)],\n",
       "       [0.21932454224643*N*f_r*n*p_max*(-r_i**3 + r_o**3)],\n",
       "       [0.21932454224643*N*f_r*n*p_max*(-r_i**3 + r_o**3)],\n",
       "       [0.21932454224643*N*f_r*n*p_max*(-r_i**3 + r_o**3)],\n",
       "       [0.21932454224643*N*f_r*n*p_max*(-r_i**3 + r_o**3)],\n",
       "       [0.21932454224643*N*f_r*n*p_max*(-r_i**3 + r_o**3)],\n",
       "       [0.21932454224643*N*f_r*n*p_max*(-r_i**3 + r_o**3)],\n",
       "       [0.21932454224643*N*f_r*n*p_max*(-r_i**3 + r_o**3)],\n",
       "       [0.21932454224643*N*f_r*n*p_max*(-r_i**3 + r_o**3)],\n",
       "       [0.21932454224643*N*f_r*n*p_max*(-r_i**3 + r_o**3)],\n",
       "       [0.21932454224643*N*f_r*n*p_max*(-r_i**3 + r_o**3)],\n",
       "       [0.21932454224643*N*f_r*n*p_max*(-r_i**3 + r_o**3)],\n",
       "       [0.21932454224643*N*f_r*n*p_max*(-r_i**3 + r_o**3)],\n",
       "       [0.21932454224643*N*f_r*n*p_max*(-r_i**3 + r_o**3)],\n",
       "       [0.21932454224643*N*f_r*n*p_max*(-r_i**3 + r_o**3)],\n",
       "       [0.21932454224643*N*f_r*n*p_max*(-r_i**3 + r_o**3)],\n",
       "       [0.21932454224643*N*f_r*n*p_max*(-r_i**3 + r_o**3)],\n",
       "       [0.21932454224643*N*f_r*n*p_max*(-r_i**3 + r_o**3)],\n",
       "       [0.21932454224643*N*f_r*n*p_max*(-r_i**3 + r_o**3)],\n",
       "       [0.21932454224643*N*f_r*n*p_max*(-r_i**3 + r_o**3)],\n",
       "       [0.21932454224643*N*f_r*n*p_max*(-r_i**3 + r_o**3)],\n",
       "       [0.21932454224643*N*f_r*n*p_max*(-r_i**3 + r_o**3)],\n",
       "       [0.21932454224643*N*f_r*n*p_max*(-r_i**3 + r_o**3)],\n",
       "       [0.21932454224643*N*f_r*n*p_max*(-r_i**3 + r_o**3)],\n",
       "       [0.21932454224643*N*f_r*n*p_max*(-r_i**3 + r_o**3)],\n",
       "       [0.21932454224643*N*f_r*n*p_max*(-r_i**3 + r_o**3)],\n",
       "       [0.21932454224643*N*f_r*n*p_max*(-r_i**3 + r_o**3)],\n",
       "       [0.21932454224643*N*f_r*n*p_max*(-r_i**3 + r_o**3)],\n",
       "       [0.21932454224643*N*f_r*n*p_max*(-r_i**3 + r_o**3)],\n",
       "       [0.21932454224643*N*f_r*n*p_max*(-r_i**3 + r_o**3)],\n",
       "       [0.21932454224643*N*f_r*n*p_max*(-r_i**3 + r_o**3)],\n",
       "       [0.21932454224643*N*f_r*n*p_max*(-r_i**3 + r_o**3)],\n",
       "       [0.21932454224643*N*f_r*n*p_max*(-r_i**3 + r_o**3)],\n",
       "       [0.21932454224643*N*f_r*n*p_max*(-r_i**3 + r_o**3)],\n",
       "       [0.21932454224643*N*f_r*n*p_max*(-r_i**3 + r_o**3)],\n",
       "       [0.21932454224643*N*f_r*n*p_max*(-r_i**3 + r_o**3)],\n",
       "       [0.21932454224643*N*f_r*n*p_max*(-r_i**3 + r_o**3)],\n",
       "       [0.21932454224643*N*f_r*n*p_max*(-r_i**3 + r_o**3)],\n",
       "       [0.21932454224643*N*f_r*n*p_max*(-r_i**3 + r_o**3)],\n",
       "       [0.21932454224643*N*f_r*n*p_max*(-r_i**3 + r_o**3)],\n",
       "       [0.21932454224643*N*f_r*n*p_max*(-r_i**3 + r_o**3)],\n",
       "       [0.21932454224643*N*f_r*n*p_max*(-r_i**3 + r_o**3)],\n",
       "       [0.21932454224643*N*f_r*n*p_max*(-r_i**3 + r_o**3)],\n",
       "       [0.21932454224643*N*f_r*n*p_max*(-r_i**3 + r_o**3)],\n",
       "       [0.21932454224643*N*f_r*n*p_max*(-r_i**3 + r_o**3)],\n",
       "       [0.21932454224643*N*f_r*n*p_max*(-r_i**3 + r_o**3)],\n",
       "       [0.21932454224643*N*f_r*n*p_max*(-r_i**3 + r_o**3)],\n",
       "       [0.21932454224643*N*f_r*n*p_max*(-r_i**3 + r_o**3)],\n",
       "       [0.21932454224643*N*f_r*n*p_max*(-r_i**3 + r_o**3)],\n",
       "       [0.21932454224643*N*f_r*n*p_max*(-r_i**3 + r_o**3)],\n",
       "       [0.21932454224643*N*f_r*n*p_max*(-r_i**3 + r_o**3)],\n",
       "       [0.21932454224643*N*f_r*n*p_max*(-r_i**3 + r_o**3)],\n",
       "       [0.21932454224643*N*f_r*n*p_max*(-r_i**3 + r_o**3)],\n",
       "       [0.21932454224643*N*f_r*n*p_max*(-r_i**3 + r_o**3)],\n",
       "       [0.21932454224643*N*f_r*n*p_max*(-r_i**3 + r_o**3)],\n",
       "       [0.21932454224643*N*f_r*n*p_max*(-r_i**3 + r_o**3)],\n",
       "       [0.21932454224643*N*f_r*n*p_max*(-r_i**3 + r_o**3)],\n",
       "       [0.21932454224643*N*f_r*n*p_max*(-r_i**3 + r_o**3)],\n",
       "       [0.21932454224643*N*f_r*n*p_max*(-r_i**3 + r_o**3)],\n",
       "       [0.21932454224643*N*f_r*n*p_max*(-r_i**3 + r_o**3)],\n",
       "       [0.21932454224643*N*f_r*n*p_max*(-r_i**3 + r_o**3)],\n",
       "       [0.21932454224643*N*f_r*n*p_max*(-r_i**3 + r_o**3)],\n",
       "       [0.21932454224643*N*f_r*n*p_max*(-r_i**3 + r_o**3)],\n",
       "       [0.21932454224643*N*f_r*n*p_max*(-r_i**3 + r_o**3)],\n",
       "       [0.21932454224643*N*f_r*n*p_max*(-r_i**3 + r_o**3)],\n",
       "       [0.21932454224643*N*f_r*n*p_max*(-r_i**3 + r_o**3)],\n",
       "       [0.21932454224643*N*f_r*n*p_max*(-r_i**3 + r_o**3)],\n",
       "       [0.21932454224643*N*f_r*n*p_max*(-r_i**3 + r_o**3)],\n",
       "       [0.21932454224643*N*f_r*n*p_max*(-r_i**3 + r_o**3)],\n",
       "       [0.21932454224643*N*f_r*n*p_max*(-r_i**3 + r_o**3)],\n",
       "       [0.21932454224643*N*f_r*n*p_max*(-r_i**3 + r_o**3)],\n",
       "       [0.21932454224643*N*f_r*n*p_max*(-r_i**3 + r_o**3)],\n",
       "       [0.21932454224643*N*f_r*n*p_max*(-r_i**3 + r_o**3)],\n",
       "       [0.21932454224643*N*f_r*n*p_max*(-r_i**3 + r_o**3)],\n",
       "       [0.21932454224643*N*f_r*n*p_max*(-r_i**3 + r_o**3)],\n",
       "       [0.21932454224643*N*f_r*n*p_max*(-r_i**3 + r_o**3)],\n",
       "       [0.21932454224643*N*f_r*n*p_max*(-r_i**3 + r_o**3)],\n",
       "       [0.21932454224643*N*f_r*n*p_max*(-r_i**3 + r_o**3)],\n",
       "       [0.21932454224643*N*f_r*n*p_max*(-r_i**3 + r_o**3)],\n",
       "       [0.21932454224643*N*f_r*n*p_max*(-r_i**3 + r_o**3)],\n",
       "       [0.21932454224643*N*f_r*n*p_max*(-r_i**3 + r_o**3)],\n",
       "       [0.21932454224643*N*f_r*n*p_max*(-r_i**3 + r_o**3)],\n",
       "       [0.21932454224643*N*f_r*n*p_max*(-r_i**3 + r_o**3)],\n",
       "       [0.21932454224643*N*f_r*n*p_max*(-r_i**3 + r_o**3)],\n",
       "       [0.21932454224643*N*f_r*n*p_max*(-r_i**3 + r_o**3)],\n",
       "       [0.21932454224643*N*f_r*n*p_max*(-r_i**3 + r_o**3)],\n",
       "       [0.21932454224643*N*f_r*n*p_max*(-r_i**3 + r_o**3)],\n",
       "       [0.21932454224643*N*f_r*n*p_max*(-r_i**3 + r_o**3)],\n",
       "       [0.21932454224643*N*f_r*n*p_max*(-r_i**3 + r_o**3)],\n",
       "       [0.21932454224643*N*f_r*n*p_max*(-r_i**3 + r_o**3)],\n",
       "       [0.21932454224643*N*f_r*n*p_max*(-r_i**3 + r_o**3)],\n",
       "       [0.21932454224643*N*f_r*n*p_max*(-r_i**3 + r_o**3)],\n",
       "       [0.21932454224643*N*f_r*n*p_max*(-r_i**3 + r_o**3)],\n",
       "       [0.21932454224643*N*f_r*n*p_max*(-r_i**3 + r_o**3)],\n",
       "       [0.21932454224643*N*f_r*n*p_max*(-r_i**3 + r_o**3)],\n",
       "       [0.21932454224643*N*f_r*n*p_max*(-r_i**3 + r_o**3)],\n",
       "       [0.21932454224643*N*f_r*n*p_max*(-r_i**3 + r_o**3)],\n",
       "       [0.21932454224643*N*f_r*n*p_max*(-r_i**3 + r_o**3)],\n",
       "       [0.21932454224643*N*f_r*n*p_max*(-r_i**3 + r_o**3)],\n",
       "       [0.21932454224643*N*f_r*n*p_max*(-r_i**3 + r_o**3)],\n",
       "       [0.21932454224643*N*f_r*n*p_max*(-r_i**3 + r_o**3)],\n",
       "       [0.21932454224643*N*f_r*n*p_max*(-r_i**3 + r_o**3)],\n",
       "       [0.21932454224643*N*f_r*n*p_max*(-r_i**3 + r_o**3)],\n",
       "       [0.21932454224643*N*f_r*n*p_max*(-r_i**3 + r_o**3)],\n",
       "       [0.21932454224643*N*f_r*n*p_max*(-r_i**3 + r_o**3)],\n",
       "       [0.21932454224643*N*f_r*n*p_max*(-r_i**3 + r_o**3)],\n",
       "       [0.21932454224643*N*f_r*n*p_max*(-r_i**3 + r_o**3)],\n",
       "       [0.21932454224643*N*f_r*n*p_max*(-r_i**3 + r_o**3)],\n",
       "       [0.21932454224643*N*f_r*n*p_max*(-r_i**3 + r_o**3)],\n",
       "       [0.21932454224643*N*f_r*n*p_max*(-r_i**3 + r_o**3)],\n",
       "       [0.21932454224643*N*f_r*n*p_max*(-r_i**3 + r_o**3)],\n",
       "       [0.21932454224643*N*f_r*n*p_max*(-r_i**3 + r_o**3)],\n",
       "       [0.21932454224643*N*f_r*n*p_max*(-r_i**3 + r_o**3)],\n",
       "       [0.21932454224643*N*f_r*n*p_max*(-r_i**3 + r_o**3)],\n",
       "       [0.21932454224643*N*f_r*n*p_max*(-r_i**3 + r_o**3)],\n",
       "       [0.21932454224643*N*f_r*n*p_max*(-r_i**3 + r_o**3)],\n",
       "       [0.21932454224643*N*f_r*n*p_max*(-r_i**3 + r_o**3)],\n",
       "       [0.21932454224643*N*f_r*n*p_max*(-r_i**3 + r_o**3)],\n",
       "       [0.21932454224643*N*f_r*n*p_max*(-r_i**3 + r_o**3)],\n",
       "       [0.21932454224643*N*f_r*n*p_max*(-r_i**3 + r_o**3)],\n",
       "       [0.21932454224643*N*f_r*n*p_max*(-r_i**3 + r_o**3)],\n",
       "       [0.21932454224643*N*f_r*n*p_max*(-r_i**3 + r_o**3)],\n",
       "       [0.21932454224643*N*f_r*n*p_max*(-r_i**3 + r_o**3)],\n",
       "       [0.21932454224643*N*f_r*n*p_max*(-r_i**3 + r_o**3)],\n",
       "       [0.21932454224643*N*f_r*n*p_max*(-r_i**3 + r_o**3)],\n",
       "       [0.21932454224643*N*f_r*n*p_max*(-r_i**3 + r_o**3)],\n",
       "       [0.21932454224643*N*f_r*n*p_max*(-r_i**3 + r_o**3)],\n",
       "       [0.21932454224643*N*f_r*n*p_max*(-r_i**3 + r_o**3)],\n",
       "       [0.21932454224643*N*f_r*n*p_max*(-r_i**3 + r_o**3)],\n",
       "       [0.21932454224643*N*f_r*n*p_max*(-r_i**3 + r_o**3)],\n",
       "       [0.21932454224643*N*f_r*n*p_max*(-r_i**3 + r_o**3)],\n",
       "       [0.21932454224643*N*f_r*n*p_max*(-r_i**3 + r_o**3)],\n",
       "       [0.21932454224643*N*f_r*n*p_max*(-r_i**3 + r_o**3)],\n",
       "       [0.21932454224643*N*f_r*n*p_max*(-r_i**3 + r_o**3)],\n",
       "       [0.21932454224643*N*f_r*n*p_max*(-r_i**3 + r_o**3)],\n",
       "       [0.21932454224643*N*f_r*n*p_max*(-r_i**3 + r_o**3)],\n",
       "       [0.21932454224643*N*f_r*n*p_max*(-r_i**3 + r_o**3)],\n",
       "       [0.21932454224643*N*f_r*n*p_max*(-r_i**3 + r_o**3)],\n",
       "       [0.21932454224643*N*f_r*n*p_max*(-r_i**3 + r_o**3)],\n",
       "       [0.21932454224643*N*f_r*n*p_max*(-r_i**3 + r_o**3)],\n",
       "       [0.21932454224643*N*f_r*n*p_max*(-r_i**3 + r_o**3)],\n",
       "       [0.21932454224643*N*f_r*n*p_max*(-r_i**3 + r_o**3)],\n",
       "       [0.21932454224643*N*f_r*n*p_max*(-r_i**3 + r_o**3)],\n",
       "       [0.21932454224643*N*f_r*n*p_max*(-r_i**3 + r_o**3)],\n",
       "       [0.21932454224643*N*f_r*n*p_max*(-r_i**3 + r_o**3)],\n",
       "       [0.21932454224643*N*f_r*n*p_max*(-r_i**3 + r_o**3)],\n",
       "       [0.21932454224643*N*f_r*n*p_max*(-r_i**3 + r_o**3)],\n",
       "       [0.21932454224643*N*f_r*n*p_max*(-r_i**3 + r_o**3)],\n",
       "       [0.21932454224643*N*f_r*n*p_max*(-r_i**3 + r_o**3)],\n",
       "       [0.21932454224643*N*f_r*n*p_max*(-r_i**3 + r_o**3)],\n",
       "       [0.21932454224643*N*f_r*n*p_max*(-r_i**3 + r_o**3)],\n",
       "       [0.21932454224643*N*f_r*n*p_max*(-r_i**3 + r_o**3)],\n",
       "       [0.21932454224643*N*f_r*n*p_max*(-r_i**3 + r_o**3)],\n",
       "       [0.21932454224643*N*f_r*n*p_max*(-r_i**3 + r_o**3)],\n",
       "       [0.21932454224643*N*f_r*n*p_max*(-r_i**3 + r_o**3)],\n",
       "       [0.21932454224643*N*f_r*n*p_max*(-r_i**3 + r_o**3)],\n",
       "       [0.21932454224643*N*f_r*n*p_max*(-r_i**3 + r_o**3)],\n",
       "       [0.21932454224643*N*f_r*n*p_max*(-r_i**3 + r_o**3)],\n",
       "       [0.21932454224643*N*f_r*n*p_max*(-r_i**3 + r_o**3)],\n",
       "       [0.21932454224643*N*f_r*n*p_max*(-r_i**3 + r_o**3)],\n",
       "       [0.21932454224643*N*f_r*n*p_max*(-r_i**3 + r_o**3)],\n",
       "       [0.21932454224643*N*f_r*n*p_max*(-r_i**3 + r_o**3)],\n",
       "       [0.21932454224643*N*f_r*n*p_max*(-r_i**3 + r_o**3)],\n",
       "       [0.21932454224643*N*f_r*n*p_max*(-r_i**3 + r_o**3)],\n",
       "       [0.21932454224643*N*f_r*n*p_max*(-r_i**3 + r_o**3)],\n",
       "       [0.21932454224643*N*f_r*n*p_max*(-r_i**3 + r_o**3)],\n",
       "       [0.21932454224643*N*f_r*n*p_max*(-r_i**3 + r_o**3)],\n",
       "       [0.21932454224643*N*f_r*n*p_max*(-r_i**3 + r_o**3)],\n",
       "       [0.21932454224643*N*f_r*n*p_max*(-r_i**3 + r_o**3)],\n",
       "       [0.21932454224643*N*f_r*n*p_max*(-r_i**3 + r_o**3)],\n",
       "       [0.21932454224643*N*f_r*n*p_max*(-r_i**3 + r_o**3)],\n",
       "       [0.21932454224643*N*f_r*n*p_max*(-r_i**3 + r_o**3)],\n",
       "       [0.21932454224643*N*f_r*n*p_max*(-r_i**3 + r_o**3)],\n",
       "       [0.21932454224643*N*f_r*n*p_max*(-r_i**3 + r_o**3)],\n",
       "       [0.21932454224643*N*f_r*n*p_max*(-r_i**3 + r_o**3)],\n",
       "       [0.21932454224643*N*f_r*n*p_max*(-r_i**3 + r_o**3)],\n",
       "       [0.21932454224643*N*f_r*n*p_max*(-r_i**3 + r_o**3)],\n",
       "       [0.21932454224643*N*f_r*n*p_max*(-r_i**3 + r_o**3)],\n",
       "       [0.21932454224643*N*f_r*n*p_max*(-r_i**3 + r_o**3)],\n",
       "       [0.21932454224643*N*f_r*n*p_max*(-r_i**3 + r_o**3)],\n",
       "       [0.21932454224643*N*f_r*n*p_max*(-r_i**3 + r_o**3)],\n",
       "       [0.21932454224643*N*f_r*n*p_max*(-r_i**3 + r_o**3)],\n",
       "       [0.21932454224643*N*f_r*n*p_max*(-r_i**3 + r_o**3)],\n",
       "       [0.21932454224643*N*f_r*n*p_max*(-r_i**3 + r_o**3)],\n",
       "       [0.21932454224643*N*f_r*n*p_max*(-r_i**3 + r_o**3)],\n",
       "       [0.21932454224643*N*f_r*n*p_max*(-r_i**3 + r_o**3)],\n",
       "       [0.21932454224643*N*f_r*n*p_max*(-r_i**3 + r_o**3)],\n",
       "       [0.21932454224643*N*f_r*n*p_max*(-r_i**3 + r_o**3)],\n",
       "       [0.21932454224643*N*f_r*n*p_max*(-r_i**3 + r_o**3)],\n",
       "       [0.21932454224643*N*f_r*n*p_max*(-r_i**3 + r_o**3)],\n",
       "       [0.21932454224643*N*f_r*n*p_max*(-r_i**3 + r_o**3)],\n",
       "       [0.21932454224643*N*f_r*n*p_max*(-r_i**3 + r_o**3)],\n",
       "       [0.21932454224643*N*f_r*n*p_max*(-r_i**3 + r_o**3)],\n",
       "       [0.21932454224643*N*f_r*n*p_max*(-r_i**3 + r_o**3)],\n",
       "       [0.21932454224643*N*f_r*n*p_max*(-r_i**3 + r_o**3)],\n",
       "       [0.21932454224643*N*f_r*n*p_max*(-r_i**3 + r_o**3)],\n",
       "       [0.21932454224643*N*f_r*n*p_max*(-r_i**3 + r_o**3)],\n",
       "       [0.21932454224643*N*f_r*n*p_max*(-r_i**3 + r_o**3)],\n",
       "       [0.21932454224643*N*f_r*n*p_max*(-r_i**3 + r_o**3)],\n",
       "       [0.21932454224643*N*f_r*n*p_max*(-r_i**3 + r_o**3)],\n",
       "       [0.21932454224643*N*f_r*n*p_max*(-r_i**3 + r_o**3)],\n",
       "       [0.21932454224643*N*f_r*n*p_max*(-r_i**3 + r_o**3)],\n",
       "       [0.21932454224643*N*f_r*n*p_max*(-r_i**3 + r_o**3)],\n",
       "       [0.21932454224643*N*f_r*n*p_max*(-r_i**3 + r_o**3)],\n",
       "       [0.21932454224643*N*f_r*n*p_max*(-r_i**3 + r_o**3)],\n",
       "       [0.21932454224643*N*f_r*n*p_max*(-r_i**3 + r_o**3)],\n",
       "       [0.21932454224643*N*f_r*n*p_max*(-r_i**3 + r_o**3)],\n",
       "       [0.21932454224643*N*f_r*n*p_max*(-r_i**3 + r_o**3)],\n",
       "       [0.21932454224643*N*f_r*n*p_max*(-r_i**3 + r_o**3)],\n",
       "       [0.21932454224643*N*f_r*n*p_max*(-r_i**3 + r_o**3)],\n",
       "       [0.21932454224643*N*f_r*n*p_max*(-r_i**3 + r_o**3)],\n",
       "       [0.21932454224643*N*f_r*n*p_max*(-r_i**3 + r_o**3)],\n",
       "       [0.21932454224643*N*f_r*n*p_max*(-r_i**3 + r_o**3)],\n",
       "       [0.21932454224643*N*f_r*n*p_max*(-r_i**3 + r_o**3)],\n",
       "       [0.21932454224643*N*f_r*n*p_max*(-r_i**3 + r_o**3)],\n",
       "       [0.21932454224643*N*f_r*n*p_max*(-r_i**3 + r_o**3)],\n",
       "       [0.21932454224643*N*f_r*n*p_max*(-r_i**3 + r_o**3)],\n",
       "       [0.21932454224643*N*f_r*n*p_max*(-r_i**3 + r_o**3)],\n",
       "       [0.21932454224643*N*f_r*n*p_max*(-r_i**3 + r_o**3)],\n",
       "       [0.21932454224643*N*f_r*n*p_max*(-r_i**3 + r_o**3)],\n",
       "       [0.21932454224643*N*f_r*n*p_max*(-r_i**3 + r_o**3)],\n",
       "       [0.21932454224643*N*f_r*n*p_max*(-r_i**3 + r_o**3)],\n",
       "       [0.21932454224643*N*f_r*n*p_max*(-r_i**3 + r_o**3)],\n",
       "       [0.21932454224643*N*f_r*n*p_max*(-r_i**3 + r_o**3)],\n",
       "       [0.21932454224643*N*f_r*n*p_max*(-r_i**3 + r_o**3)],\n",
       "       [0.21932454224643*N*f_r*n*p_max*(-r_i**3 + r_o**3)],\n",
       "       [0.21932454224643*N*f_r*n*p_max*(-r_i**3 + r_o**3)],\n",
       "       [0.21932454224643*N*f_r*n*p_max*(-r_i**3 + r_o**3)],\n",
       "       [0.21932454224643*N*f_r*n*p_max*(-r_i**3 + r_o**3)],\n",
       "       [0.21932454224643*N*f_r*n*p_max*(-r_i**3 + r_o**3)],\n",
       "       [0.21932454224643*N*f_r*n*p_max*(-r_i**3 + r_o**3)],\n",
       "       [0.21932454224643*N*f_r*n*p_max*(-r_i**3 + r_o**3)],\n",
       "       [0.21932454224643*N*f_r*n*p_max*(-r_i**3 + r_o**3)],\n",
       "       [0.21932454224643*N*f_r*n*p_max*(-r_i**3 + r_o**3)],\n",
       "       [0.21932454224643*N*f_r*n*p_max*(-r_i**3 + r_o**3)],\n",
       "       [0.21932454224643*N*f_r*n*p_max*(-r_i**3 + r_o**3)],\n",
       "       [0.21932454224643*N*f_r*n*p_max*(-r_i**3 + r_o**3)],\n",
       "       [0.21932454224643*N*f_r*n*p_max*(-r_i**3 + r_o**3)],\n",
       "       [0.21932454224643*N*f_r*n*p_max*(-r_i**3 + r_o**3)],\n",
       "       [0.21932454224643*N*f_r*n*p_max*(-r_i**3 + r_o**3)],\n",
       "       [0.21932454224643*N*f_r*n*p_max*(-r_i**3 + r_o**3)],\n",
       "       [0.21932454224643*N*f_r*n*p_max*(-r_i**3 + r_o**3)],\n",
       "       [0.21932454224643*N*f_r*n*p_max*(-r_i**3 + r_o**3)],\n",
       "       [0.21932454224643*N*f_r*n*p_max*(-r_i**3 + r_o**3)],\n",
       "       [0.21932454224643*N*f_r*n*p_max*(-r_i**3 + r_o**3)],\n",
       "       [0.21932454224643*N*f_r*n*p_max*(-r_i**3 + r_o**3)],\n",
       "       [0.21932454224643*N*f_r*n*p_max*(-r_i**3 + r_o**3)],\n",
       "       [0.21932454224643*N*f_r*n*p_max*(-r_i**3 + r_o**3)],\n",
       "       [0.21932454224643*N*f_r*n*p_max*(-r_i**3 + r_o**3)],\n",
       "       [0.21932454224643*N*f_r*n*p_max*(-r_i**3 + r_o**3)],\n",
       "       [0.21932454224643*N*f_r*n*p_max*(-r_i**3 + r_o**3)],\n",
       "       [0.21932454224643*N*f_r*n*p_max*(-r_i**3 + r_o**3)],\n",
       "       [0.21932454224643*N*f_r*n*p_max*(-r_i**3 + r_o**3)],\n",
       "       [0.21932454224643*N*f_r*n*p_max*(-r_i**3 + r_o**3)],\n",
       "       [0.21932454224643*N*f_r*n*p_max*(-r_i**3 + r_o**3)],\n",
       "       [0.21932454224643*N*f_r*n*p_max*(-r_i**3 + r_o**3)],\n",
       "       [0.21932454224643*N*f_r*n*p_max*(-r_i**3 + r_o**3)],\n",
       "       [0.21932454224643*N*f_r*n*p_max*(-r_i**3 + r_o**3)],\n",
       "       [0.21932454224643*N*f_r*n*p_max*(-r_i**3 + r_o**3)],\n",
       "       [0.21932454224643*N*f_r*n*p_max*(-r_i**3 + r_o**3)],\n",
       "       [0.21932454224643*N*f_r*n*p_max*(-r_i**3 + r_o**3)],\n",
       "       [0.21932454224643*N*f_r*n*p_max*(-r_i**3 + r_o**3)],\n",
       "       [0.21932454224643*N*f_r*n*p_max*(-r_i**3 + r_o**3)],\n",
       "       [0.21932454224643*N*f_r*n*p_max*(-r_i**3 + r_o**3)],\n",
       "       [0.21932454224643*N*f_r*n*p_max*(-r_i**3 + r_o**3)],\n",
       "       [0.21932454224643*N*f_r*n*p_max*(-r_i**3 + r_o**3)],\n",
       "       [0.21932454224643*N*f_r*n*p_max*(-r_i**3 + r_o**3)],\n",
       "       [0.21932454224643*N*f_r*n*p_max*(-r_i**3 + r_o**3)],\n",
       "       [0.21932454224643*N*f_r*n*p_max*(-r_i**3 + r_o**3)],\n",
       "       [0.21932454224643*N*f_r*n*p_max*(-r_i**3 + r_o**3)],\n",
       "       [0.21932454224643*N*f_r*n*p_max*(-r_i**3 + r_o**3)],\n",
       "       [0.21932454224643*N*f_r*n*p_max*(-r_i**3 + r_o**3)],\n",
       "       [0.21932454224643*N*f_r*n*p_max*(-r_i**3 + r_o**3)],\n",
       "       [0.21932454224643*N*f_r*n*p_max*(-r_i**3 + r_o**3)],\n",
       "       [0.21932454224643*N*f_r*n*p_max*(-r_i**3 + r_o**3)],\n",
       "       [0.21932454224643*N*f_r*n*p_max*(-r_i**3 + r_o**3)],\n",
       "       [0.21932454224643*N*f_r*n*p_max*(-r_i**3 + r_o**3)],\n",
       "       [0.21932454224643*N*f_r*n*p_max*(-r_i**3 + r_o**3)],\n",
       "       [0.21932454224643*N*f_r*n*p_max*(-r_i**3 + r_o**3)],\n",
       "       [0.21932454224643*N*f_r*n*p_max*(-r_i**3 + r_o**3)],\n",
       "       [0.21932454224643*N*f_r*n*p_max*(-r_i**3 + r_o**3)],\n",
       "       [0.21932454224643*N*f_r*n*p_max*(-r_i**3 + r_o**3)],\n",
       "       [0.21932454224643*N*f_r*n*p_max*(-r_i**3 + r_o**3)],\n",
       "       [0.21932454224643*N*f_r*n*p_max*(-r_i**3 + r_o**3)],\n",
       "       [0.21932454224643*N*f_r*n*p_max*(-r_i**3 + r_o**3)],\n",
       "       [0.21932454224643*N*f_r*n*p_max*(-r_i**3 + r_o**3)],\n",
       "       [0.21932454224643*N*f_r*n*p_max*(-r_i**3 + r_o**3)],\n",
       "       [0.21932454224643*N*f_r*n*p_max*(-r_i**3 + r_o**3)],\n",
       "       [0.21932454224643*N*f_r*n*p_max*(-r_i**3 + r_o**3)],\n",
       "       [0.21932454224643*N*f_r*n*p_max*(-r_i**3 + r_o**3)],\n",
       "       [0.21932454224643*N*f_r*n*p_max*(-r_i**3 + r_o**3)],\n",
       "       [0.21932454224643*N*f_r*n*p_max*(-r_i**3 + r_o**3)],\n",
       "       [0.21932454224643*N*f_r*n*p_max*(-r_i**3 + r_o**3)],\n",
       "       [0.21932454224643*N*f_r*n*p_max*(-r_i**3 + r_o**3)],\n",
       "       [0.21932454224643*N*f_r*n*p_max*(-r_i**3 + r_o**3)],\n",
       "       [0.21932454224643*N*f_r*n*p_max*(-r_i**3 + r_o**3)],\n",
       "       [0.21932454224643*N*f_r*n*p_max*(-r_i**3 + r_o**3)],\n",
       "       [0.21932454224643*N*f_r*n*p_max*(-r_i**3 + r_o**3)],\n",
       "       [0.21932454224643*N*f_r*n*p_max*(-r_i**3 + r_o**3)],\n",
       "       [0.21932454224643*N*f_r*n*p_max*(-r_i**3 + r_o**3)],\n",
       "       [0.21932454224643*N*f_r*n*p_max*(-r_i**3 + r_o**3)],\n",
       "       [0.21932454224643*N*f_r*n*p_max*(-r_i**3 + r_o**3)],\n",
       "       [0.21932454224643*N*f_r*n*p_max*(-r_i**3 + r_o**3)],\n",
       "       [0.21932454224643*N*f_r*n*p_max*(-r_i**3 + r_o**3)],\n",
       "       [0.21932454224643*N*f_r*n*p_max*(-r_i**3 + r_o**3)],\n",
       "       [0.21932454224643*N*f_r*n*p_max*(-r_i**3 + r_o**3)],\n",
       "       [0.21932454224643*N*f_r*n*p_max*(-r_i**3 + r_o**3)],\n",
       "       [0.21932454224643*N*f_r*n*p_max*(-r_i**3 + r_o**3)],\n",
       "       [0.21932454224643*N*f_r*n*p_max*(-r_i**3 + r_o**3)],\n",
       "       [0.21932454224643*N*f_r*n*p_max*(-r_i**3 + r_o**3)],\n",
       "       [0.21932454224643*N*f_r*n*p_max*(-r_i**3 + r_o**3)],\n",
       "       [0.21932454224643*N*f_r*n*p_max*(-r_i**3 + r_o**3)],\n",
       "       [0.21932454224643*N*f_r*n*p_max*(-r_i**3 + r_o**3)],\n",
       "       [0.21932454224643*N*f_r*n*p_max*(-r_i**3 + r_o**3)],\n",
       "       [0.21932454224643*N*f_r*n*p_max*(-r_i**3 + r_o**3)],\n",
       "       [0.21932454224643*N*f_r*n*p_max*(-r_i**3 + r_o**3)],\n",
       "       [0.21932454224643*N*f_r*n*p_max*(-r_i**3 + r_o**3)],\n",
       "       [0.21932454224643*N*f_r*n*p_max*(-r_i**3 + r_o**3)],\n",
       "       [0.21932454224643*N*f_r*n*p_max*(-r_i**3 + r_o**3)],\n",
       "       [0.21932454224643*N*f_r*n*p_max*(-r_i**3 + r_o**3)],\n",
       "       [0.21932454224643*N*f_r*n*p_max*(-r_i**3 + r_o**3)]], dtype=object)"
      ]
     },
     "execution_count": 86,
     "metadata": {},
     "output_type": "execute_result"
    }
   ],
   "source": [
    "q_matrix = numpy.ones((ny,1))*q\n",
    "q_matrix"
   ]
  },
  {
   "cell_type": "code",
   "execution_count": 209,
   "metadata": {
    "collapsed": false
   },
   "outputs": [],
   "source": [
    "def ftcs(T, nt, alpha, dt, dx, dy, K, q, E, A):\n",
    "    \n",
    "    for n in range(1):\n",
    "        Tn = T.copy()\n",
    "        T[1:-1,1:-1] = Tn[1:-1, 1:-1] + \\\n",
    "            alpha*dt/dx**2 * (Tn[1:-1,2:] - 2*Tn[1:-1,1:-1] + Tn[1:-1,:-2]) + \\\n",
    "            alpha*dt/dy**2 * (Tn[2:,1:-1] - 2*Tn[1:-1,1:-1] + Tn[:-2,1:-1])\n",
    "        \n",
    "        #heat radiation\n",
    "        varepsilon = 0.5 # infrared emissitivity. \n",
    "        delta = 5.76*10**(-8) # boltzmann constant\n",
    "        E_left = varepsilon*delta*T[:,0]**4\n",
    "        E_right = varepsilon*delta*T[:,-1]**4\n",
    "        \n",
    "        # Neumann Boundary Conditions\n",
    "        #left boundary\n",
    "        T[:, 0] = T[:, 1] + q/(K*A) - E_left[:]/K\n",
    "        print(T[:,1])\n",
    "        print(T[:,0])\n",
    "        #right boundary\n",
    "        T[:,-1] = T[:, -2] + q/(K*A) - E_right[:]/K\n",
    "        #upper boundary \n",
    "        T[-1, :] = T[-2, :]\n",
    "        #bottom boundary\n",
    "        T[0, :] = T[1, :]\n",
    "        \n",
    "        #check if the brake reach the fail temperature\n",
    "        if numpy.max(abs(T)) >= 8230:\n",
    "            print(\"the brake fail at time {0:.2f}s.\".format(dt*n))\n",
    "            break\n",
    "    if numpy.max(abs(T)) <=823:\n",
    "        print(\"the brake is still working at time {0:.2f}s.\".format(dt*n))\n",
    "    return T"
   ]
  },
  {
   "cell_type": "code",
   "execution_count": 210,
   "metadata": {
    "collapsed": false
   },
   "outputs": [],
   "source": [
    "#parameters of the solid brake disc (brembo)\n",
    "r_i = 81.1/1000 #m    #inner circular radius\n",
    "r_o = 131.1/1000 #mm    #outor circular radius\n",
    "b = 11/1000 #mm        #thickness of disc\n",
    "H = r_o - r_i  #mm width of the disc\n",
    "\n",
    "nx = 11\n",
    "ny = 50\n",
    "nt = 10\n",
    "\n",
    "x = numpy.linspace(0, b, nx)\n",
    "y = numpy.linspace(0, H, ny)\n",
    "\n",
    "dx = b/(nx-1)\n",
    "dy = H/(ny-1)\n",
    "\n",
    "alpha = 1e-4 \n",
    "K = 50    #W/Km thermal conductivity\n",
    "\n",
    "Ti = numpy.ones((ny, nx))*298   # kelvin temperature"
   ]
  },
  {
   "cell_type": "code",
   "execution_count": 211,
   "metadata": {
    "collapsed": true
   },
   "outputs": [],
   "source": [
    "f_r = 0.2\n",
    "p_max = 13e5 #unite pa\n",
    "n = 840\n",
    "N = 1"
   ]
  },
  {
   "cell_type": "code",
   "execution_count": 212,
   "metadata": {
    "collapsed": false
   },
   "outputs": [
    {
     "data": {
      "image/png": "[encoded data removed]",
      "text/latex": [
       "$$0.033332298054587706$$"
      ],
      "text/plain": [
       "0.033332298054587706"
      ]
     },
     "execution_count": 212,
     "metadata": {},
     "output_type": "execute_result"
    }
   ],
   "source": [
    "#surface area of the disc\n",
    "A = numpy.pi*(r_o**2 - r_i**2)\n",
    "A"
   ]
  },
  {
   "cell_type": "code",
   "execution_count": 213,
   "metadata": {
    "collapsed": false
   },
   "outputs": [
    {
     "name": "stdout",
     "output_type": "stream",
     "text": [
      "[ 298.  298.  298.  298.  298.  298.  298.  298.  298.  298.  298.  298.\n",
      "  298.  298.  298.  298.  298.  298.  298.  298.  298.  298.  298.  298.\n",
      "  298.  298.  298.  298.  298.  298.  298.  298.  298.  298.  298.  298.\n",
      "  298.  298.  298.  298.  298.  298.  298.  298.  298.  298.  298.  298.\n",
      "  298.  298.]\n",
      "[ 787.75745599  787.75745599  787.75745599  787.75745599  787.75745599\n",
      "  787.75745599  787.75745599  787.75745599  787.75745599  787.75745599\n",
      "  787.75745599  787.75745599  787.75745599  787.75745599  787.75745599\n",
      "  787.75745599  787.75745599  787.75745599  787.75745599  787.75745599\n",
      "  787.75745599  787.75745599  787.75745599  787.75745599  787.75745599\n",
      "  787.75745599  787.75745599  787.75745599  787.75745599  787.75745599\n",
      "  787.75745599  787.75745599  787.75745599  787.75745599  787.75745599\n",
      "  787.75745599  787.75745599  787.75745599  787.75745599  787.75745599\n",
      "  787.75745599  787.75745599  787.75745599  787.75745599  787.75745599\n",
      "  787.75745599  787.75745599  787.75745599  787.75745599  787.75745599]\n",
      "the brake is still working at time 0.00s.\n"
     ]
    }
   ],
   "source": [
    "sigma = 0.2\n",
    "dt = sigma*min(dx, dy)**2/alpha\n",
    "T = ftcs(Ti.copy(), nt, alpha, dt, dx, dy, K, q/100, E, A)"
   ]
  },
  {
   "cell_type": "code",
   "execution_count": 214,
   "metadata": {
    "collapsed": false
   },
   "outputs": [
    {
     "data": {
      "image/png": "[encoded data removed]",
      "text/plain": [
       "<matplotlib.figure.Figure at 0x7f3b34e3a320>"
      ]
     },
     "metadata": {},
     "output_type": "display_data"
    }
   ],
   "source": [
    "X, Y = numpy.meshgrid(x, y)\n",
    "pyplot.figure(figsize=(8,5))\n",
    "pyplot.contourf(X,Y,T,20,cmap=cm.viridis)\n",
    "pyplot.xlabel('$x$')\n",
    "pyplot.ylabel('$y$')\n",
    "pyplot.colorbar();"
   ]
  },
  {
   "cell_type": "code",
   "execution_count": 202,
   "metadata": {
    "collapsed": false
   },
   "outputs": [
    {
     "data": {
      "image/png": "[encoded data removed]",
      "text/latex": [
       "$$0.0020824656393169517$$"
      ],
      "text/plain": [
       "0.0020824656393169517"
      ]
     },
     "execution_count": 202,
     "metadata": {},
     "output_type": "execute_result"
    }
   ],
   "source": [
    "dt"
   ]
  },
  {
   "cell_type": "code",
   "execution_count": null,
   "metadata": {
    "collapsed": true
   },
   "outputs": [],
   "source": []
  }
 ],
 "metadata": {
  "anaconda-cloud": {},
  "kernelspec": {
   "display_name": "Python [default]",
   "language": "python",
   "name": "python3"
  },
  "language_info": {
   "codemirror_mode": {
    "name": "ipython",
    "version": 3
   },
   "file_extension": ".py",
   "mimetype": "text/x-python",
   "name": "python",
   "nbconvert_exporter": "python",
   "pygments_lexer": "ipython3",
   "version": "3.5.2"
  }
 },
 "nbformat": 4,
 "nbformat_minor": 1
}
