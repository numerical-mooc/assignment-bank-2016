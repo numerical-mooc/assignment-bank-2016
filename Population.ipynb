{
 "cells": [
  {
   "cell_type": "markdown",
   "metadata": {},
   "source": [
    "# Partial Differential Equation Uses in Aging Population Predition"
   ]
  },
  {
   "cell_type": "markdown",
   "metadata": {},
   "source": [
    "The ageing population in any countries is a challenge. Many countries in the world are facing this unavoidable social problem. Ageing population occurs when the median age of a country grows caused by the higher life expectancy and decline in the birth rate or/and fertility rate. The ageing population has some negative effects for a country. First, it will decrease the laboring population of a country which may make the owners of enterprise consider moving their factory to another country having more working population. Second, the proportion about medical expenses for aged people in social sources allocation will increase, and that will increase the financial burden of a country. Additionally, as we discussed in the first result, the decline in working population will also cause immigration problem.\n",
    "\n",
    "According to data from World Population Prospects: the 2015 Revision (UN, 2015), the total number of those aged 60 years or over persons who are defined as the older person has grown recently in most countries, and this development is projected to be higher in the coming years.\n",
    "\n"
   ]
  },
  {
   "cell_type": "markdown",
   "metadata": {},
   "source": [
    "## Modeling population"
   ]
  },
  {
   "cell_type": "markdown",
   "metadata": {},
   "source": [
    "To implement appropriate policy to decrease ageing population, the current situation of this part of people should be consider. However, as we can imagine, any people at any age may go on to next age safely or die. Also some women at certain age can give birth to a baby. So, setting up a appropriate mathematical model about ageing population seem to be complicated. \n",
    "\n",
    "In 1798, a British economist named Malthus published a model of population development, which is:\n",
    "\n",
    "$$\n",
    "\\frac{dp(t)}{dt} = ap(t)\n",
    "$$\n",
    "\n",
    "$$\n",
    "t = t_0 : p = p_0\n",
    "$$\n"
   ]
  },
  {
   "cell_type": "markdown",
   "metadata": {},
   "source": [
    "In this equation, $p(t)$ represents the density of population at time $t$, and $p_0$ is the density of population at initial time $t_0$, and a is the net growth rate of population."
   ]
  },
  {
   "cell_type": "markdown",
   "metadata": {},
   "source": [
    "` Let’s go and solve this ODE!`"
   ]
  },
  {
   "cell_type": "markdown",
   "metadata": {},
   "source": [
    "$$ \\int \\frac{p'(t)}{p(t)} dt = \\int ln(p(t))' dt = ln \\frac{p(t)}{p_0} $$\n",
    "\n",
    "$$ \\int \\frac{p'(t)}{p(t)} dt = \\int a dt = a(t - t_0) $$\n",
    "\n",
    "Then we can get that:\n",
    "\n",
    "$$ p(t) = p_0 e^{a(t - t_0)} $$"
   ]
  },
  {
   "cell_type": "markdown",
   "metadata": {},
   "source": [
    "From the result, we can find that the density of population grows exponentially. This seem to be impossible since the natural system and the environment will enhance the limitation with the growth of population. So the net growth rate of population shouldn’t be a constant.\n",
    "\n",
    "Then, in 1840 a Belgian mathematician called Verhulst fixed the population model published before, the new model is:\n",
    "\n",
    "$$\n",
    "\\frac{dp(t)}{dt} = ap(t)(K - p(t))\n",
    "$$\n",
    "\n",
    "\n",
    "$$\n",
    "t = t_0 : p = p_0\n",
    "$$\n",
    "\n",
    "\n",
    "In this equation, $K$ is the maximum population at current environmental condition. We can find that Verhulst agree with some parts of Malthus’ model, when the population amount is little, Malthus’ model is right. But with the growth of population, the growth rate of population will decrease. The closer to the upper limitation the population is, the less growth rate will be."
   ]
  },
  {
   "cell_type": "markdown",
   "metadata": {},
   "source": [
    "`We can solve this equation!`\n",
    "\n",
    "$$ \\int \\frac{p'(t)}{p(t)(K - p(t))} dt = \\frac{1}{M} ln \\frac {p(t)}{(K - p(t))} + C $$\n",
    "\n",
    "\n",
    "$$ \\int \\frac{p'(t)}{p(t)(K - p(t))} dt = \\int a dt = at + C_1 $$\n",
    "\n",
    "\n",
    "$$ \\frac {p(t)}{(K - p(t))} = C_2 e^{Kat} $$\n",
    "\n",
    "\n",
    "Simplify it and we can get:\n",
    "\n",
    "$$ p(t) = \\frac {K}{1 + C_3 e^{-aKt}} $$\n",
    "\n",
    "If $ p(t_0) = p_0 , 0 < p_0 < K $ then, we can get:\n",
    "\n",
    "$$ p(t) = \\frac {K}{1 + (\\frac{K}{p_0} - 1) e^{-aK(t - t_0)}} $$"
   ]
  },
  {
   "cell_type": "markdown",
   "metadata": {},
   "source": [
    "Verhulst’s model fixed some mistakes in Malthus’ model to some extent. However, both these two model considered human as lower animals which mean every individual of this species is same. As for human being, this kind of consideration is not appropriate. We must consider the many factors different from each person such as gender, age, time, birth and death.\n",
    "\n",
    "Here we use this PDE to simulate the population model:\n",
    "\n",
    "$$ \\frac{\\partial p(t,x)}{\\partial t} + \\frac{\\partial p(t,x)}{\\partial x} = -d(t,x)p(t,a) $$\n",
    "\n",
    "$$ t = t_0 : p = p_0(x) $$\n",
    "\n",
    "$$ x = 0 : p(t,0) = b(t) $$\n",
    "\n",
    "In this partial differential equation, $p(t,x)$ represents the distribution of at time $t$ and age $x$, $d(t,x)$ is the fertility rate of those people whose age is $x$, and $b(t)$ is the birth rate in a ragion at time $t$."
   ]
  },
  {
   "cell_type": "markdown",
   "metadata": {},
   "source": [
    "If"
   ]
  }
 ],
 "metadata": {
  "anaconda-cloud": {},
  "kernelspec": {
   "display_name": "Python [default]",
   "language": "python",
   "name": "python3"
  },
  "language_info": {
   "codemirror_mode": {
    "name": "ipython",
    "version": 3
   },
   "file_extension": ".py",
   "mimetype": "text/x-python",
   "name": "python",
   "nbconvert_exporter": "python",
   "pygments_lexer": "ipython3",
   "version": "3.5.2"
  }
 },
 "nbformat": 4,
 "nbformat_minor": 1
}
