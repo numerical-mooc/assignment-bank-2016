{
 "cells": [
  {
   "cell_type": "markdown",
   "metadata": {},
   "source": [
    "## Partial Differential Equation Uses in Aging Population Predition"
   ]
  },
  {
   "cell_type": "markdown",
   "metadata": {},
   "source": [
    "The ageing population in any countries is a challenge. Many countries in the world are facing this unavoidable social problem. Ageing population occurs when the median age of a country grows caused by the higher life expectancy and decline in the birth rate or/and fertility rate. \n",
    "According to data from World Population Prospects: the 2015 Revision (UN, 2015), the total number of those aged 60 years or over persons who are defined as the older person has grown recently in most countries, and this development is projected to be higher in the coming years.\n",
    "\n"
   ]
  },
  {
   "cell_type": "markdown",
   "metadata": {},
   "source": [
    "### Modeling population"
   ]
  },
  {
   "cell_type": "markdown",
   "metadata": {},
   "source": [
    "To implement appropriate policy to decrease ageing population, the current situation of this part of people should be consider. However, as we can imagine, any people at any age may go on to next age safely or die. Also some women at certain age can give birth to a baby. So, setting up a appropriate mathematical model about ageing population seem to be complicated. \n",
    "\n"
   ]
  },
  {
   "cell_type": "markdown",
   "metadata": {},
   "source": [
    "Here we use the McKendrick PDE to simulate the population model:\n",
    "\n",
    "$$ \\frac{\\partial p(t,x)}{\\partial t} + \\frac{\\partial p(t,x)}{\\partial x} = -d(t,x)p(t,a) $$\n",
    "\n",
    "$$ t = t_0 : p = p_0(x) $$\n",
    "\n",
    "$$ x = 0 : p(t,0) = b(t) $$\n",
    "\n",
    "In this partial differential equation, $p(t,x)$ represents the distribution of at time $t$ and age $x$, $d(t,x)$ is the fertility rate of those people whose age is $x$, and $b(t)$ is the birth rate in a ragion at time $t$."
   ]
  },
  {
   "cell_type": "markdown",
   "metadata": {},
   "source": [
    "## Problem set up"
   ]
  },
  {
   "cell_type": "markdown",
   "metadata": {},
   "source": [
    "Let’s use this model to simulate the population development in the U.S. from 2006 to 2016. We assume that the highest age in this model is 99. According to the data from United Nations Population Division, we assume that the death rate is 0.008,  and the birth rate is 0.013\n",
    "\n",
    "\n"
   ]
  },
  {
   "cell_type": "code",
   "execution_count": 37,
   "metadata": {
    "collapsed": true
   },
   "outputs": [],
   "source": [
    "%matplotlib inline\n",
    "import numpy \n",
    "from matplotlib import pyplot\n",
    "from matplotlib import rcParams\n",
    "rcParams['font.family'] = 'serif'\n",
    "rcParams['font.size'] = 16"
   ]
  },
  {
   "cell_type": "markdown",
   "metadata": {},
   "source": [
    "Here, we use time-forward space-backward scheme to solve the problem. Then we can re-write the equation as: \n",
    "\n",
    "\\begin{equation}\\frac{p_i^{n+1}-p_i^n}{\\Delta t} +  \\frac{p_i^n - p_{i-1}^n}{\\Delta x} = -dp_i^n, \\end{equation}\n",
    "\n",
    "We solve for this unknown as follows:\n",
    "\n",
    "$$ p_i^{n+1} = (1 - d\\Delta t - \\frac{\\Delta t}{\\Delta x}) p_i^n + \\frac{\\Delta t}{\\Delta x} p_i^{n-1} $$\n",
    "\n",
    "In this model, we have boundary condition which is: \n",
    "\n",
    "$$ x = 0 : p(t,0) = b(t) $$\n",
    "\n",
    "\n",
    "\n",
    "Because we choose 2006 as the first year of the model, so the initial condition will be the population distribution in the U.S.by age in 2006.\n",
    "\n",
    "Here, we divide the population into 13 group according to the chart. "
   ]
  },
  {
   "cell_type": "markdown",
   "metadata": {},
   "source": [
    "![population_2006](population2006b.png)\n"
   ]
  },
  {
   "cell_type": "code",
   "execution_count": 38,
   "metadata": {
    "collapsed": true
   },
   "outputs": [],
   "source": [
    "nx = 101  \n",
    "dx = 100/(nx-1)\n",
    "\n",
    "nt = 20    \n",
    "dt = 0.5  \n",
    "\n",
    "d = 0.008\n",
    "b = 0.013\n",
    "\n",
    "x = numpy.linspace(0,100,nx)"
   ]
  },
  {
   "cell_type": "code",
   "execution_count": 39,
   "metadata": {
    "collapsed": false
   },
   "outputs": [],
   "source": [
    "#initial condition\n",
    "p = numpy.ones(nx)\n",
    "\n",
    "p[:4] = 20363/5\n",
    "p[5:9] = 19629/5\n",
    "p[10:14] = 20651/5\n",
    "p[15:19] = 20916/5\n",
    "p[20:24] = 20393/5\n",
    "p[25:29] = 20138/5\n",
    "p[30:34] = 19343/5\n",
    "p[35:44] = 43121/10\n",
    "p[45:54] = 42797/10\n",
    "p[55:64] = 30981/10\n",
    "p[65:74] = 16554/10\n",
    "p[75:84] = 12962/10\n",
    "p[85:] = 39.89/15"
   ]
  },
  {
   "cell_type": "code",
   "execution_count": 40,
   "metadata": {
    "collapsed": false
   },
   "outputs": [
    {
     "data": {
      "image/png": "[encoded data removed]",
      "text/plain": [
       "<matplotlib.figure.Figure at 0x7feb3c545198>"
      ]
     },
     "metadata": {},
     "output_type": "display_data"
    }
   ],
   "source": [
    "pyplot.plot(x, p, color='#003366', ls='-', lw=1)\n",
    "pyplot.ylim(0,5000);"
   ]
  },
  {
   "cell_type": "markdown",
   "metadata": {},
   "source": [
    "### Boundary condition\n",
    "\n",
    "In this problem, we should consider the boundary condition. That is, in every time step, the amount of people whose age is zero--called new baby--is equal to the number of total in last time step times the birth rate.\n",
    "\n",
    "Because we assume the birth rate is a constant, so the boundary is a dirichlet boundary condition:\n",
    "\n",
    "$$ x = 0 : p(t,0) = bp_{total}(t-1) $$"
   ]
  },
  {
   "cell_type": "code",
   "execution_count": 41,
   "metadata": {
    "collapsed": false
   },
   "outputs": [],
   "source": [
    "def population(p, b, d):\n",
    "    \"\"\"Computes populatoin density\n",
    "\n",
    "    Parameters\n",
    "    ----------\n",
    "    p   : \n",
    "        popualtion density of the first year\n",
    "    b   : \n",
    "        birth rate\n",
    "    d   : \n",
    "        death rate \n",
    "\n",
    "    Returns\n",
    "    -------\n",
    "    p: \n",
    "        popualtion density of the last year\n",
    "    \"\"\"\n",
    "    for n in range(1, nt):  \n",
    "        pn = p.copy() \n",
    "        p[2:] = (1 - d - dt/dx)*pn[2:] + (dt/dx)*pn[1:-1] \n",
    "    \n",
    "        amount = numpy.sum(p)\n",
    "        p[0] = amount*b\n",
    "    \n",
    "    return p\n",
    "    "
   ]
  },
  {
   "cell_type": "code",
   "execution_count": 42,
   "metadata": {
    "collapsed": true
   },
   "outputs": [],
   "source": [
    "p_2016 = population(p, b, d)"
   ]
  },
  {
   "cell_type": "code",
   "execution_count": 43,
   "metadata": {
    "collapsed": false
   },
   "outputs": [
    {
     "data": {
      "image/png": "[encoded data removed]",
      "text/plain": [
       "<matplotlib.figure.Figure at 0x7feb3c1d6390>"
      ]
     },
     "metadata": {},
     "output_type": "display_data"
    }
   ],
   "source": [
    "pyplot.plot(x, p_2016, color='#003366', ls='-', lw=1)\n",
    "pyplot.ylim(0,5000);"
   ]
  },
  {
   "cell_type": "markdown",
   "metadata": {},
   "source": [
    "### Comparsion \n",
    "\n",
    "Let's compare this result to the actual population density in 2016\n",
    "\n"
   ]
  },
  {
   "cell_type": "code",
   "execution_count": null,
   "metadata": {
    "collapsed": true
   },
   "outputs": [],
   "source": []
  }
 ],
 "metadata": {
  "anaconda-cloud": {},
  "kernelspec": {
   "display_name": "Python [default]",
   "language": "python",
   "name": "python3"
  },
  "language_info": {
   "codemirror_mode": {
    "name": "ipython",
    "version": 3
   },
   "file_extension": ".py",
   "mimetype": "text/x-python",
   "name": "python",
   "nbconvert_exporter": "python",
   "pygments_lexer": "ipython3",
   "version": "3.5.2"
  }
 },
 "nbformat": 4,
 "nbformat_minor": 1
}
