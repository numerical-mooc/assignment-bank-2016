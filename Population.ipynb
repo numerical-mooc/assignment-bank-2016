{
 "cells": [
  {
   "cell_type": "markdown",
   "metadata": {},
   "source": [
    "## Partial Differential Equation Uses in Aging Population Predition"
   ]
  },
  {
   "cell_type": "markdown",
   "metadata": {},
   "source": [
    "The ageing population in any countries is a challenge. Many countries in the world are facing this unavoidable social problem. Ageing population occurs when the median age of a country grows caused by the higher life expectancy and decline in the birth rate or/and fertility rate. \n",
    "According to data from World Population Prospects: the 2015 Revision (UN, 2015), the total number of those aged 60 years or over persons who are defined as the older person has grown recently in most countries, and this development is projected to be higher in the coming years.\n",
    "\n"
   ]
  },
  {
   "cell_type": "markdown",
   "metadata": {},
   "source": [
    "### Modeling population"
   ]
  },
  {
   "cell_type": "markdown",
   "metadata": {},
   "source": [
    "To implement appropriate policy to decrease ageing population, the current situation of this part of people should be consider. However, as we can imagine, any people at any age may go on to next age safely or die. Also some women at certain age can give birth to a baby. So, setting up a appropriate mathematical model about ageing population seem to be complicated. \n",
    "\n",
    "Here we use the McKendrick PDE to simulate the population model:\n",
    "\n",
    "$$ \\frac{\\partial p(t,x)}{\\partial t} + \\frac{\\partial p(t,x)}{\\partial x} = -d(t,x)p(t,a) $$\n",
    "\n",
    "$$ t = t_0 : p = p_0(x) $$\n",
    "\n",
    "$$ x = 0 : p(t,0) = b(t) $$\n",
    "\n",
    "In this partial differential equation, $p(t,x)$ represents the distribution of at time $t$ and age $x$, $d(t,x)$ is the fertility rate of those people whose age is $x$, and $b(t)$ is the birth rate in a ragion at time $t$."
   ]
  },
  {
   "cell_type": "markdown",
   "metadata": {},
   "source": [
    "## Problem set up"
   ]
  },
  {
   "cell_type": "markdown",
   "metadata": {},
   "source": [
    "Let’s use this model to simulate the population development in the U.S. from 2006 to 2016. We assume that the highest age in this model is 99. According to the data from United Nations Population Division, we assume that the death rate is 0.008,  and the birth rate is 0.013\n",
    "\n",
    "\n"
   ]
  },
  {
   "cell_type": "code",
   "execution_count": 44,
   "metadata": {
    "collapsed": true
   },
   "outputs": [],
   "source": [
    "%matplotlib inline\n",
    "import numpy \n",
    "from matplotlib import pyplot\n",
    "from matplotlib import rcParams\n",
    "rcParams['font.family'] = 'serif'\n",
    "rcParams['font.size'] = 16"
   ]
  },
  {
   "cell_type": "markdown",
   "metadata": {},
   "source": [
    "Here, we use time-forward space-backward scheme to solve the problem. Then we can re-write the equation as: \n",
    "\n",
    "\\begin{equation}\\frac{p_i^{n+1}-p_i^n}{\\Delta t} +  \\frac{p_i^n - p_{i-1}^n}{\\Delta x} = -dp_i^n, \\end{equation}\n",
    "\n",
    "We solve for this unknown as follows:\n",
    "\n",
    "$$ p_i^{n+1} = (1 - d\\Delta t - \\frac{\\Delta t}{\\Delta x}) p_i^n + \\frac{\\Delta t}{\\Delta x} p_i^{n-1} $$\n",
    "\n",
    "In this model, we have boundary condition which is: \n",
    "\n",
    "$$ x = 0 : p(t,0) = b(t) $$\n",
    "\n",
    "\n",
    "\n",
    "Because we choose 2006 as the first year of the model, so the initial condition will be the population distribution in the U.S.by age in 2006(numbers in thousands).\n",
    "\n",
    "Here, we divide the population into 13 group according to the chart. "
   ]
  },
  {
   "cell_type": "markdown",
   "metadata": {},
   "source": [
    "![population_2006](population2006b.png)\n"
   ]
  },
  {
   "cell_type": "code",
   "execution_count": 73,
   "metadata": {
    "collapsed": true
   },
   "outputs": [],
   "source": [
    "nx = 101  \n",
    "dx = 100/(nx-1)\n",
    "\n",
    "nt = 20    \n",
    "dt = 0.5  \n",
    "\n",
    "d = 0.008\n",
    "b = 0.013\n",
    "\n",
    "x = numpy.linspace(0,100,nx)"
   ]
  },
  {
   "cell_type": "code",
   "execution_count": 74,
   "metadata": {
    "collapsed": false
   },
   "outputs": [],
   "source": [
    "#initial condition\n",
    "p = numpy.ones(nx)\n",
    "\n",
    "p[:4] = 20363/5\n",
    "p[5:9] = 19629/5\n",
    "p[10:14] = 20651/5\n",
    "p[15:19] = 20916/5\n",
    "p[20:24] = 20393/5\n",
    "p[25:29] = 20138/5\n",
    "p[30:34] = 19343/5\n",
    "p[35:44] = 43121/10\n",
    "p[45:54] = 42797/10\n",
    "p[55:64] = 30981/10\n",
    "p[65:74] = 16554/10\n",
    "p[75:84] = 12962/10\n",
    "p[85:] = 3989/15"
   ]
  },
  {
   "cell_type": "markdown",
   "metadata": {},
   "source": [
    "### Boundary condition\n",
    "\n",
    "In this problem, we should consider the boundary condition. That is, in every time step, the amount of people whose age is zero--called new baby--is equal to the number of total in last time step times the birth rate.\n",
    "\n",
    "Because we assume the birth rate is a constant, so the boundary is a dirichlet boundary condition:\n",
    "\n",
    "$$ x = 0 : p(t,0) = bp_{total}(t-1) $$"
   ]
  },
  {
   "cell_type": "code",
   "execution_count": 76,
   "metadata": {
    "collapsed": false
   },
   "outputs": [],
   "source": [
    "def population(p, b, d):\n",
    "    \"\"\"Computes populatoin density\n",
    "\n",
    "    Parameters\n",
    "    ----------\n",
    "    p : popualtion density of the first year\n",
    "    b : birth rate\n",
    "    d : death rate \n",
    "    Returns\n",
    "    -------\n",
    "    p: \n",
    "        popualtion density of the last year\n",
    "    \"\"\"\n",
    "    for n in range(1, nt):  \n",
    "        pn = p.copy() \n",
    "        p[2:] = (1 - d - dt/dx)*pn[2:] + (dt/dx)*pn[1:-1] \n",
    "    \n",
    "        amount = numpy.sum(p)\n",
    "        p[0] = amount*b\n",
    "    \n",
    "    return p   "
   ]
  },
  {
   "cell_type": "code",
   "execution_count": 77,
   "metadata": {
    "collapsed": true
   },
   "outputs": [],
   "source": [
    "p_2016 = population(p, b, d)"
   ]
  },
  {
   "cell_type": "code",
   "execution_count": 78,
   "metadata": {
    "collapsed": false
   },
   "outputs": [
    {
     "data": {
      "image/png": "[encoded data removed]",
      "text/plain": [
       "<matplotlib.figure.Figure at 0x7feb31284470>"
      ]
     },
     "metadata": {},
     "output_type": "display_data"
    }
   ],
   "source": [
    "pyplot.plot(x, p_2016, color='#003366', ls='-', lw=1)\n",
    "pyplot.ylim(0,5000);"
   ]
  },
  {
   "cell_type": "markdown",
   "metadata": {},
   "source": [
    "### Comparsion \n",
    "\n",
    "Let's compare this result to the actual population density in 2016\n",
    "\n"
   ]
  },
  {
   "cell_type": "code",
   "execution_count": 90,
   "metadata": {
    "collapsed": true
   },
   "outputs": [],
   "source": [
    "z = numpy.linspace(0,100,101)\n",
    "p_2016a = numpy.ones(101)\n",
    "\n",
    "p_2016a[:4] = 20201/5\n",
    "p_2016a[5:9] = 16348/5\n",
    "p_2016a[10:14] = 17677/5\n",
    "p_2016a[15:19] = 17040/5\n",
    "p_2016a[20:24] = 16585/5\n",
    "p_2016a[25:29] = 18101/5\n",
    "p_2016a[30:34] = 18962/5\n",
    "p_2016a[35:44] = 40071/10\n",
    "p_2016a[45:54] = 43007/10\n",
    "p_2016a[55:64] = 36482/10\n",
    "p_2016a[65:74] = 21713/10\n",
    "p_2016a[75:84] = 13061/10\n",
    "p_2016a[85:] = 7493/15"
   ]
  },
  {
   "cell_type": "code",
   "execution_count": 91,
   "metadata": {
    "collapsed": false
   },
   "outputs": [
    {
     "data": {
      "image/png": "[encoded data removed]",
      "text/plain": [
       "<matplotlib.figure.Figure at 0x7feb31222390>"
      ]
     },
     "metadata": {},
     "output_type": "display_data"
    }
   ],
   "source": [
    "pyplot.plot(z, p_2016a, color='#003366', ls='-', lw=1)\n",
    "pyplot.plot(x, p_2016, color='#003366', ls='--', lw=1)\n",
    "pyplot.ylim(0,5000);"
   ]
  },
  {
   "cell_type": "markdown",
   "metadata": {
    "collapsed": true
   },
   "source": [
    "From the figure we can find that this model do well at the age older than 50 and has error which cannot be ignored at age younger than 50. Because, we choose death rate and birth rate as a constant to make the calculatoin easier, and it is hard to get the actual death rate as a functoin of age. However, according to the data, we can find the death rate in young person is lower than that in older person. That will cause the error. Same things alos happen at the old age. The actual population density at this part is lower since the actual death rate is higher the the value we assumed.\n",
    "\n"
   ]
  },
  {
   "cell_type": "markdown",
   "metadata": {},
   "source": [
    "## Reference\n",
    "\n",
    "Misra, Jagadis Chandra, ed. Biomathematics: Modelling and simulation. World Scientific, 2006.[Read on Google books, page 437-438](https://books.google.com/books?id=U05hDQAAQBAJ&pg=PA437&lpg=PA437&dq=density+function+of+population+age&source=bl&ots=3RkkMcyS_V&sig=jYsJcOvhAsEQKnxQKVF4WG05JRA&hl=zh-CN&sa=X&ved=0ahUKEwj9sKiqyPHQAhUTlpAKHVfjBXEQ6AEIXDAI#v=onepage&q=density%20function%20of%20population%20age&f=false)\n",
    "\n",
    "Keyfitz, Barbara Lee, and Nathan Keyfitz. \"The McKendrick partial differential equation and its uses in epidemiology and population study.\" Mathematical and Computer Modelling 26.6 (1997): 1-9.\n",
    "\n",
    "Death rate,( 1 ) United Nations Population Division. World Population Prospects, ( 2 ) Census reports and other statistical publications from national statistical offices, ( 3 ) Eurostat: Demographic Statistics, ( 4 ) United Nations Statistical Division. Population and Vital Statistics Reprot ( various years ), ( 5 ) U.S. Census Bureau: International Database, and ( 6 ) Secretariat of the Pacific Community: Statistics and Demography Programme.[Here](http://data.worldbank.org/indicator/SP.DYN.CDRT.IN?end=2014&locations=US&name_desc=true&start=2006&view=chart)\n",
    "\n",
    "Age and Sex Composition in the United States: 2006,United States Census Bureau.[Here](https://www.census.gov/population/age/data/2006comp.html)\n",
    "\n",
    "Birth rate in the United States from 1990 to 2014[Here](https://www.statista.com/statistics/195943/birth-rate-in-the-united-states-since-1990/)\n"
   ]
  }
 ],
 "metadata": {
  "anaconda-cloud": {},
  "kernelspec": {
   "display_name": "Python [default]",
   "language": "python",
   "name": "python3"
  },
  "language_info": {
   "codemirror_mode": {
    "name": "ipython",
    "version": 3
   },
   "file_extension": ".py",
   "mimetype": "text/x-python",
   "name": "python",
   "nbconvert_exporter": "python",
   "pygments_lexer": "ipython3",
   "version": "3.5.2"
  }
 },
 "nbformat": 4,
 "nbformat_minor": 1
}
